{
 "cells": [
  {
   "cell_type": "code",
   "execution_count": 3,
   "id": "080d50fc",
   "metadata": {},
   "outputs": [],
   "source": [
    "import time\n",
    "import torch\n",
    "from torch.utils.data import DataLoader, TensorDataset\n",
    "from torchtext.data.utils import get_tokenizer\n",
    "from torchtext.datasets import DATASETS\n",
    "from torchtext.vocab import build_vocab_from_iterator\n",
    "import torch.nn as nn\n",
    "from tqdm import tqdm\n",
    "import pickle\n",
    "import random\n",
    "import numpy as np\n",
    "from collections import Counter, defaultdict\n",
    "import numpy as np\n",
    "import matplotlib.pyplot as plt\n",
    "from sklearn.decomposition import PCA\n",
    "from gensim.test.utils import datapath, get_tmpfile\n",
    "from gensim.models import KeyedVectors\n",
    "import gensim.downloader\n",
    "from torch import FloatTensor as FT\n",
    "\n",
    "# Get the interactive Tools for Matplotlib\n",
    "%matplotlib notebook\n",
    "%matplotlib inline\n",
    "\n",
    "plt.style.use('ggplot')"
   ]
  },
  {
   "cell_type": "code",
   "execution_count": 4,
   "id": "31b412ca",
   "metadata": {},
   "outputs": [],
   "source": [
    "# Where do I want to run my job. You can do \"cuda\" on linux machines.\n",
    "DEVICE = \"mps\" if torch.backends.mps.is_available() else  \"cpu\"\n",
    "# The batch size in Adam or SGD.\n",
    "BATCH_SIZE = 512\n",
    "# Number of epochs.\n",
    "NUM_EPOCHS = 10\n",
    "# Predict from 2 words the inner word for CBOW.\n",
    "# I.e. I'll have a window like [\"a\", \"b\", \"c\"] of continuous text (each is a word).\n",
    "# We'll predict each of wc = [\"a\", \"c\"] from \"b\" = wc for Skip-Gram.\n",
    "# For CBOW, we'll use [\"a\", \"c\"] to predict \"b\" = wo.\n",
    "WINDOW = 1\n",
    "\n",
    "# Negative samples.\n",
    "K = 4"
   ]
  },
  {
   "cell_type": "code",
   "execution_count": 5,
   "id": "3217b67b",
   "metadata": {},
   "outputs": [
    {
     "name": "stdout",
     "output_type": "stream",
     "text": [
      "100000000\n"
     ]
    }
   ],
   "source": [
    "f = open('text8', 'r')\n",
    "text = f.read()\n",
    "# One big string of size 100M.\n",
    "print(len(text))"
   ]
  },
  {
   "cell_type": "code",
   "execution_count": 6,
   "id": "6c1bf892",
   "metadata": {},
   "outputs": [],
   "source": [
    "punc = '!\"#$%&()*+,-./:;<=>?@[\\\\]^_\\'{|}~\\t\\n'\n",
    "\n",
    "# Can do regular expressions here too.\n",
    "for c in punc:\n",
    "    if c in text:\n",
    "        text.replace(c, ' ')"
   ]
  },
  {
   "cell_type": "code",
   "execution_count": 7,
   "id": "0bc19b0c",
   "metadata": {},
   "outputs": [],
   "source": [
    "# A very crude tokenizer you get for free: lower case and also split on spaces.\n",
    "TOKENIZER = get_tokenizer(\"basic_english\")"
   ]
  },
  {
   "cell_type": "code",
   "execution_count": 8,
   "id": "ff8fd598",
   "metadata": {},
   "outputs": [],
   "source": [
    "words = TOKENIZER(text)\n",
    "f = Counter(words)"
   ]
  },
  {
   "cell_type": "code",
   "execution_count": 9,
   "id": "ba7f72f8",
   "metadata": {},
   "outputs": [
    {
     "data": {
      "text/plain": [
       "17005207"
      ]
     },
     "execution_count": 9,
     "metadata": {},
     "output_type": "execute_result"
    }
   ],
   "source": [
    "len(words)"
   ]
  },
  {
   "cell_type": "code",
   "execution_count": 10,
   "id": "16b736a4",
   "metadata": {},
   "outputs": [],
   "source": [
    "# Do a very crude filter on the text which removes all very popular words.\n",
    "text = [word for word in words if f[word] > 5]"
   ]
  },
  {
   "cell_type": "code",
   "execution_count": 11,
   "id": "6916a763",
   "metadata": {},
   "outputs": [
    {
     "data": {
      "text/plain": [
       "['anarchism', 'originated', 'as', 'a', 'term']"
      ]
     },
     "execution_count": 11,
     "metadata": {},
     "output_type": "execute_result"
    }
   ],
   "source": [
    "text[0:5]"
   ]
  },
  {
   "cell_type": "code",
   "execution_count": 14,
   "id": "10ad817a",
   "metadata": {},
   "outputs": [],
   "source": [
    "VOCAB = build_vocab_from_iterator([text])"
   ]
  },
  {
   "cell_type": "code",
   "execution_count": 16,
   "id": "a7f69fc9",
   "metadata": {},
   "outputs": [],
   "source": [
    "# word -> int hash map.\n",
    "stoi = VOCAB.get_stoi()\n",
    "# int -> word hash map.\n",
    "itos = VOCAB.get_itos() "
   ]
  },
  {
   "cell_type": "code",
   "execution_count": 17,
   "id": "9991f9ab",
   "metadata": {},
   "outputs": [
    {
     "data": {
      "text/plain": [
       "11"
      ]
     },
     "execution_count": 17,
     "metadata": {},
     "output_type": "execute_result"
    }
   ],
   "source": [
    "stoi['as']"
   ]
  },
  {
   "cell_type": "code",
   "execution_count": 19,
   "id": "0f49f5fa",
   "metadata": {},
   "outputs": [
    {
     "data": {
      "text/plain": [
       "63641"
      ]
     },
     "execution_count": 19,
     "metadata": {},
     "output_type": "execute_result"
    }
   ],
   "source": [
    "# Total number of words.\n",
    "len(stoi)"
   ]
  },
  {
   "cell_type": "code",
   "execution_count": 20,
   "id": "6c5c415a",
   "metadata": {},
   "outputs": [],
   "source": [
    "f = Counter(text)\n",
    "# This is the probability that we pick a word in the corpus.\n",
    "z = {word: f[word] / len(text) for word in f}"
   ]
  },
  {
   "cell_type": "code",
   "execution_count": 21,
   "id": "1e543e1e",
   "metadata": {},
   "outputs": [],
   "source": [
    "threshold = 1e-5\n",
    "# Probability that word is kept while subsampling.\n",
    "# This is explained here and sightly differet from the paper: http://mccormickml.com/2017/01/11/word2vec-tutorial-part-2-negative-sampling/\n",
    "p_keep = {word: (np.sqrt(z[word] / 0.001) + 1)*(0.0001 / z[word]) for word in f}\n"
   ]
  },
  {
   "cell_type": "code",
   "execution_count": 22,
   "id": "dd22119d",
   "metadata": {},
   "outputs": [],
   "source": [
    "# This is in the integer space.\n",
    "train_dataset = [word for word in text if random.random() < p_keep[word]]\n",
    "\n",
    "# Rebuild the vocabulary.\n",
    "VOCAB = build_vocab_from_iterator([train_dataset])"
   ]
  },
  {
   "cell_type": "code",
   "execution_count": 23,
   "id": "a2d695da",
   "metadata": {},
   "outputs": [
    {
     "data": {
      "text/plain": [
       "7848699"
      ]
     },
     "execution_count": 23,
     "metadata": {},
     "output_type": "execute_result"
    }
   ],
   "source": [
    "len(train_dataset)"
   ]
  },
  {
   "cell_type": "code",
   "execution_count": 24,
   "id": "30d67549",
   "metadata": {},
   "outputs": [],
   "source": [
    "# word -> int mapping.\n",
    "stoi = VOCAB.get_stoi()\n",
    "# int -> word mapping.\n",
    "itos = VOCAB.get_itos() "
   ]
  },
  {
   "cell_type": "code",
   "execution_count": 25,
   "id": "b46337b8",
   "metadata": {},
   "outputs": [
    {
     "data": {
      "text/plain": [
       "63641"
      ]
     },
     "execution_count": 25,
     "metadata": {},
     "output_type": "execute_result"
    }
   ],
   "source": [
    "# The vocabulary size after we do all the filters.\n",
    "len(VOCAB)"
   ]
  },
  {
   "cell_type": "code",
   "execution_count": 27,
   "id": "c9346f36",
   "metadata": {},
   "outputs": [],
   "source": [
    "# The probability we draw something for negative sampling.\n",
    "f = Counter(train_dataset)\n",
    "p = torch.zeros(len(VOCAB))\n",
    "\n",
    "# Downsample frequent words and upsample less frequent.\n",
    "s = sum([np.power(freq, 0.75) for word, freq in f.items()])        \n",
    "\n",
    "for word in f:\n",
    "    p[stoi[word]] = np.power(f[word], 0.75) / s"
   ]
  },
  {
   "cell_type": "code",
   "execution_count": 28,
   "id": "dd713c15",
   "metadata": {},
   "outputs": [],
   "source": [
    "# Map everything to integers.\n",
    "train_dataset = [stoi[word] for word in text]"
   ]
  },
  {
   "cell_type": "code",
   "execution_count": 41,
   "id": "8e96c0c4",
   "metadata": {},
   "outputs": [],
   "source": [
    "# This just gets the (wc, wo) pairs that are positive - they are seen together!\n",
    "def get_tokenized_dataset(dataset, verbose=False):\n",
    "    x_list = []\n",
    "        \n",
    "    for i, token in enumerate(dataset):\n",
    "        m = 1\n",
    "        \n",
    "        # Get the left and right tokens.\n",
    "        start = i-m\n",
    "        left_tokens = dataset[start:i]\n",
    "        \n",
    "        end = i+m\n",
    "        right_tokens = dataset[i+1:end+1]\n",
    "        \n",
    "        # Check these are the same length, and if so use them to add a row of data. This should be a list like.\n",
    "        # [a, c, b] where b is the center word.\n",
    "        if len(left_tokens) == len(right_tokens):\n",
    "            w_context = left_tokens + right_tokens\n",
    "            \n",
    "            wc = [token]\n",
    "                        \n",
    "            x_list.extend(\n",
    "                [w_context + wc]\n",
    "            )\n",
    "            \n",
    "    return x_list"
   ]
  },
  {
   "cell_type": "code",
   "execution_count": 42,
   "id": "3eb82aad",
   "metadata": {},
   "outputs": [],
   "source": [
    "train_x_list = get_tokenized_dataset(train_dataset, verbose=False)"
   ]
  },
  {
   "cell_type": "code",
   "execution_count": 44,
   "id": "8412ee4d",
   "metadata": {},
   "outputs": [],
   "source": [
    "pickle.dump(train_x_list, open('train_x_list.pkl', 'wb'))"
   ]
  },
  {
   "cell_type": "code",
   "execution_count": 45,
   "id": "3fd54caf",
   "metadata": {},
   "outputs": [],
   "source": [
    "train_x_list = pickle.load(open('train_x_list.pkl', 'rb'))"
   ]
  },
  {
   "cell_type": "code",
   "execution_count": 46,
   "id": "576765f3",
   "metadata": {},
   "outputs": [
    {
     "data": {
      "text/plain": [
       "[[5233, 11, 3083],\n",
       " [3083, 5, 11],\n",
       " [11, 193, 5],\n",
       " [5, 1, 193],\n",
       " [193, 3133, 1],\n",
       " [1, 43, 3133],\n",
       " [3133, 51, 43],\n",
       " [43, 152, 51],\n",
       " [51, 121, 152],\n",
       " [152, 740, 121]]"
      ]
     },
     "execution_count": 46,
     "metadata": {},
     "output_type": "execute_result"
    }
   ],
   "source": [
    "# These are (wc, wo) pairs. All are y = +1 by design.\n",
    "train_x_list[:10]"
   ]
  },
  {
   "cell_type": "code",
   "execution_count": 47,
   "id": "316df1dc",
   "metadata": {},
   "outputs": [],
   "source": [
    "# The number of things of BATCH_SIZE = 512.\n",
    "assert(len(train_x_list) // BATCH_SIZE == 32579)"
   ]
  },
  {
   "cell_type": "markdown",
   "id": "488c3519",
   "metadata": {},
   "source": [
    "### Set up the dataloader."
   ]
  },
  {
   "cell_type": "code",
   "execution_count": 48,
   "id": "2e31ae4b",
   "metadata": {},
   "outputs": [],
   "source": [
    "train_dl = DataLoader(\n",
    "    TensorDataset(\n",
    "        torch.tensor(train_x_list).to(DEVICE),\n",
    "    ),\n",
    "    batch_size=BATCH_SIZE,\n",
    "    shuffle=True\n",
    ")"
   ]
  },
  {
   "cell_type": "code",
   "execution_count": 49,
   "id": "e9c42f50",
   "metadata": {},
   "outputs": [],
   "source": [
    "for xb in train_dl:\n",
    "    assert(xb[0].shape == (BATCH_SIZE, 3))\n",
    "    break"
   ]
  },
  {
   "cell_type": "markdown",
   "id": "12d93d22",
   "metadata": {},
   "source": [
    "### Words we'll use to asses the quality of the model ..."
   ]
  },
  {
   "cell_type": "code",
   "execution_count": 54,
   "id": "ffada8d0",
   "metadata": {},
   "outputs": [],
   "source": [
    "valid_ids = torch.tensor([\n",
    "    stoi['money'],\n",
    "    stoi['lion'],\n",
    "    stoi['africa'],\n",
    "    stoi['musician'],\n",
    "    stoi['dance'],\n",
    "])"
   ]
  },
  {
   "cell_type": "code",
   "execution_count": null,
   "id": "867d3a88",
   "metadata": {},
   "outputs": [],
   "source": []
  },
  {
   "cell_type": "markdown",
   "id": "64096cd8",
   "metadata": {},
   "source": [
    "### Get the model."
   ]
  },
  {
   "cell_type": "code",
   "execution_count": 94,
   "id": "dc51c359",
   "metadata": {},
   "outputs": [],
   "source": [
    "class CBOWNegativeSampling(nn.Module):\n",
    "    def __init__(self, vocab_size, embed_dim):\n",
    "        super(CBOWNegativeSampling, self).__init__()\n",
    "        self.A = nn.Embedding(vocab_size, embed_dim) # Context vectors - center word.\n",
    "        self.B = nn.Embedding(vocab_size, embed_dim) # Output vectors - words around the center word.\n",
    "        self.init_weights()\n",
    "\n",
    "    def init_weights(self):\n",
    "        # Is this the best way? Not sure.\n",
    "        initrange = 0.5\n",
    "        self.A.weight.data.uniform_(-initrange, initrange)\n",
    "        self.B.weight.data.uniform_(-initrange, initrange)\n",
    "\n",
    "    def forward(self, x):\n",
    "        # N is the batch size.\n",
    "        # x is (N, 3)\n",
    "        \n",
    "        # Context words are 2m things, m = 1 so w_context is (N, 2) while wc is (N, 1)\n",
    "        w_context, wc = x[:, 0:2], x[:, 2]\n",
    "                \n",
    "        # Each of these is (N, 2, D) since each context has 2 word.\n",
    "        # We want this to be (N, D) and this is what we get.\n",
    "        \n",
    "        # (N, 2, D)\n",
    "        a = self.A(w_context)\n",
    "        \n",
    "        # (N, D)\n",
    "        a_avg =  torch.mean(a, dim=1)\n",
    "        \n",
    "        # Each of these is (N, D) since each target has 1 word.\n",
    "        b = self.B(wc)\n",
    "                \n",
    "        # The product between each context and target vector. Look at the Skip-Gram code.\n",
    "        # The logits is now (N, 1) since we sum across the final dimension.\n",
    "        logits = (a_avg * b).sum(axis=-1)\n",
    "                \n",
    "        return logits"
   ]
  },
  {
   "cell_type": "code",
   "execution_count": null,
   "id": "7ae817c1",
   "metadata": {},
   "outputs": [],
   "source": []
  },
  {
   "cell_type": "code",
   "execution_count": 95,
   "id": "ed9c509d",
   "metadata": {},
   "outputs": [],
   "source": [
    "@torch.no_grad()\n",
    "def validate_embeddings(\n",
    "    model,\n",
    "    valid_ids,\n",
    "    itos\n",
    "):\n",
    "    \"\"\" Validation logic \"\"\"\n",
    "\n",
    "    # We will use context embeddings to get the most similar words\n",
    "    # Other strategies include: using target embeddings, mean embeddings after avaraging context/target\n",
    "    embedding_weights = model.A.weight\n",
    "        \n",
    "    normalized_embeddings = embedding_weights.cpu() / np.sqrt(\n",
    "        np.sum(embedding_weights.cpu().numpy()**2, axis=1, keepdims=True)\n",
    "    )\n",
    "\n",
    "    # Get the embeddings corresponding to valid_term_ids\n",
    "    valid_embeddings = normalized_embeddings[valid_ids, :]\n",
    "\n",
    "    # Compute the similarity between valid_term_ids (S) and all the embeddings (V).\n",
    "    # We do S x d (d x V) => S x D and sort by negative similarity.\n",
    "    top_k = 10 # Top k items will be displayed.\n",
    "    similarity = np.dot(valid_embeddings.cpu().numpy(), normalized_embeddings.cpu().numpy().T)\n",
    "\n",
    "    # Invert similarity matrix to negative\n",
    "    # Ignore the first one because that would be the same word as the probe word\n",
    "    similarity_top_k = np.argsort(-similarity, axis=1)[:, 1: top_k+1]\n",
    "\n",
    "    # Print the output.\n",
    "    for i, word_id in enumerate(valid_ids):\n",
    "        # j >= 1 here since we don't want to include the word itself.\n",
    "        similar_word_str = ', '.join([itos[j] for j in similarity_top_k[i, :] if j >= 1])\n",
    "        print(f\"{itos[word_id]}: {similar_word_str}\")\n",
    "\n",
    "    print('\\n')"
   ]
  },
  {
   "cell_type": "markdown",
   "id": "3b3c6ed5",
   "metadata": {},
   "source": [
    "### Set up the model"
   ]
  },
  {
   "cell_type": "code",
   "execution_count": 96,
   "id": "16da95d1",
   "metadata": {},
   "outputs": [],
   "source": [
    "LR = 10.0\n",
    "NUM_EPOCHS = 10\n",
    "EMBED_DIM = 300"
   ]
  },
  {
   "cell_type": "code",
   "execution_count": 97,
   "id": "cef585f4",
   "metadata": {},
   "outputs": [],
   "source": [
    "model = CBOWNegativeSampling(len(VOCAB), EMBED_DIM).to(DEVICE)\n",
    "optimizer = torch.optim.SGD(model.parameters(), lr=LR)\n",
    "# The learning rate is lowered every epoch by 1/10.\n",
    "# Is this a good idea?\n",
    "scheduler = torch.optim.lr_scheduler.StepLR(optimizer, 1, gamma=0.1)"
   ]
  },
  {
   "cell_type": "code",
   "execution_count": 98,
   "id": "f8a642bf",
   "metadata": {},
   "outputs": [
    {
     "data": {
      "text/plain": [
       "CBOWNegativeSampling(\n",
       "  (A): Embedding(63641, 300)\n",
       "  (B): Embedding(63641, 300)\n",
       ")"
      ]
     },
     "execution_count": 98,
     "metadata": {},
     "output_type": "execute_result"
    }
   ],
   "source": [
    "model"
   ]
  },
  {
   "cell_type": "code",
   "execution_count": 99,
   "id": "85773616",
   "metadata": {},
   "outputs": [
    {
     "name": "stdout",
     "output_type": "stream",
     "text": [
      "money: boasting, rhee, dab, collectivists, accentuated, junk, universelle, nicolay, disparaged, isn\n",
      "lion: baking, equilibrium, dalnet, reason, rosemont, framework, trapezohedron, overs, leyla, catal\n",
      "africa: equalizer, distorts, peripheries, superseding, johnstown, asymmetrical, leathers, townhouse, acm, quicksilver\n",
      "musician: phenomenally, mammalian, expiration, flowed, competent, fia, manitou, ananda, flourishing, alligator\n",
      "dance: scandalous, trost, magnolia, doria, struct, iwo, connemara, mineralogy, bussy, hurdle\n",
      "\n",
      "\n"
     ]
    }
   ],
   "source": [
    "validate_embeddings(model, valid_ids, itos)"
   ]
  },
  {
   "cell_type": "markdown",
   "id": "86476e2a",
   "metadata": {},
   "source": [
    "### Train the model"
   ]
  },
  {
   "cell_type": "code",
   "execution_count": 112,
   "id": "24950481",
   "metadata": {},
   "outputs": [],
   "source": [
    "ratios = []\n",
    "\n",
    "def train(dataloader, model, optimizer, epoch):\n",
    "    model.train()\n",
    "    total_acc, total_count, total_loss, total_batches = 0, 0, 0.0, 0.0\n",
    "    log_interval = 500\n",
    "    \n",
    "    for idx, x_batch in tqdm(enumerate(dataloader)):\n",
    "        \n",
    "        x_batch = x_batch[0]\n",
    "                \n",
    "        batch_size = x_batch.shape[0]\n",
    "        \n",
    "        # Zero the gradient so they don't accumulate.\n",
    "        optimizer.zero_grad()\n",
    "        \n",
    "        logits = model(x_batch)\n",
    "                        \n",
    "        # Get the positive samples loss. Notice we use weights here.\n",
    "        positive_loss = torch.nn.BCEWithLogitsLoss()(input=logits, target=torch.ones(batch_size).to(DEVICE).float())\n",
    "        \n",
    "        # For each batch, get some negative samples.\n",
    "        # We need a total of len(y_batch) * 2* WINDOW * K samples across a batch.\n",
    "        # We then reshape this batch.\n",
    "        # These are effectively the output words.\n",
    "        negative_samples = torch.multinomial(p, batch_size * K, replacement=True)\n",
    "        \n",
    "        # Context words are 2m things, m = 1 so w_context is (N, 2) while wc is (N, 1)\n",
    "        w_context, wc = x_batch[:, 0:2], negative_samples\n",
    "        \n",
    "        \"\"\"\n",
    "        if w_context looks like below (batch_size = 3)\n",
    "        [\n",
    "        (a, b),\n",
    "        (c, d),\n",
    "        (e, f)\n",
    "        ] and K = 2 we'd like to get:\n",
    "        \n",
    "        [\n",
    "        (a, b),\n",
    "        (a, b),\n",
    "        (c, d), \n",
    "        (c, d),\n",
    "        (e, f),\n",
    "        (e, f)\n",
    "        ]\n",
    "        \n",
    "        This will be batch_size * K rows.\n",
    "        \"\"\"\n",
    "        \n",
    "        # This should be (N * K, 2)\n",
    "        w_context = torch.concat([\n",
    "            w.repeat(K, 1) for w in torch.tensor(w_context).split(1)\n",
    "        ]).to(DEVICE)\n",
    "        \n",
    "        # Remove the last dimension 1.\n",
    "        wc = wc.unsqueeze(1).to(DEVICE)\n",
    "        \n",
    "        # Get the negative samples. This should be (N * K, 3).\n",
    "        # Concatenate the w_context and wc along the column. Make sure everything is on CUDA / MPS or CPU.\n",
    "        x_batch_negative = torch.cat((w_context, wc), dim=1).to(DEVICE)\n",
    "                \n",
    "        \"\"\"\n",
    "        Note the way we formulated the targets: they are all 0 since these are negative samples.\n",
    "        We do the BCEWithLogitsLoss by hand basically here.\n",
    "        Notice we sum across the negative samples, per positive word.\n",
    "        \n",
    "        This is literally the equation in the lecture notes.\n",
    "        \"\"\"\n",
    "        \n",
    "        # (N, K, D) -> (N, D) -> (N)\n",
    "        # Look at the Skip-Gram notebook.\n",
    "        negative_loss = model(x_batch_negative).neg().sigmoid().log().reshape(\n",
    "            batch_size, K\n",
    "        ).sum(1).mean().neg().to(DEVICE)\n",
    "        \n",
    "        loss = (positive_loss + negative_loss).mean()\n",
    "                \n",
    "        # Get the gradients via back propagation. \n",
    "        loss.backward()\n",
    "                        \n",
    "        # Clip the gradients? Generally a good idea.\n",
    "        torch.nn.utils.clip_grad_norm_(model.parameters(), 0.1)\n",
    "        \n",
    "        # Used for optimization. This should be roughly 0.001, on average.\n",
    "        # You can use this to see if your learning rate is right - you can also plot the loss performance.\n",
    "        with torch.no_grad():\n",
    "            r = [\n",
    "                (LR * p.grad.std() / p.data.std()).log10().item() for _, p in model.named_parameters()\n",
    "            ]\n",
    "            ratios.append(r)  \n",
    "        \n",
    "        # Do an optimization step. Update the parameters A and B.\n",
    "        optimizer.step()\n",
    "        # Get the new loss.\n",
    "        total_loss += loss.item()\n",
    "        # Update the batch count.\n",
    "        total_batches += 1\n",
    "                \n",
    "        if idx % log_interval == 0:\n",
    "            print(\n",
    "                \"| epoch {:3d} | {:5d}/{:5d} batches \"\n",
    "                \"| loss {:8.3f} \".format(\n",
    "                    epoch,\n",
    "                    idx,\n",
    "                    len(dataloader),\n",
    "                    total_loss / total_batches\n",
    "                )\n",
    "            )\n",
    "            validate_embeddings(model, valid_ids, itos)\n",
    "            total_loss, total_batches = 0.0, 0.0"
   ]
  },
  {
   "cell_type": "markdown",
   "id": "0764d675",
   "metadata": {},
   "source": [
    "### Some results from the run look like below:\n",
    "\n",
    "Somewhere inside of 2 iterations you should get sensible associattions.\n",
    "Paste here a screenshot of the closest vectors."
   ]
  },
  {
   "cell_type": "code",
   "execution_count": null,
   "id": "a9e02c09",
   "metadata": {},
   "outputs": [
    {
     "name": "stderr",
     "output_type": "stream",
     "text": [
      "0it [00:00, ?it/s]/var/folders/j4/q83784sx3x7cs3wwszb8whpr0000gn/T/ipykernel_64947/3823495315.py:53: UserWarning: To copy construct from a tensor, it is recommended to use sourceTensor.clone().detach() or sourceTensor.clone().detach().requires_grad_(True), rather than torch.tensor(sourceTensor).\n",
      "  w.repeat(K, 1) for w in torch.tensor(w_context).split(1)\n",
      "1it [00:02,  2.96s/it]"
     ]
    },
    {
     "name": "stdout",
     "output_type": "stream",
     "text": [
      "| epoch   1 |     0/32580 batches | loss    4.054 \n",
      "money: boasting, rhee, dab, collectivists, accentuated, junk, universelle, nicolay, disparaged, isn\n",
      "lion: baking, equilibrium, dalnet, reason, rosemont, framework, trapezohedron, overs, leyla, catal\n",
      "africa: equalizer, distorts, peripheries, superseding, johnstown, asymmetrical, leathers, quicksilver, townhouse, acm\n",
      "musician: phenomenally, mammalian, expiration, flowed, competent, fia, manitou, ananda, flourishing, alligator\n",
      "dance: scandalous, trost, magnolia, doria, struct, iwo, connemara, mineralogy, bussy, hurdle\n",
      "\n",
      "\n"
     ]
    },
    {
     "name": "stderr",
     "output_type": "stream",
     "text": [
      "501it [02:07,  3.52it/s]"
     ]
    },
    {
     "name": "stdout",
     "output_type": "stream",
     "text": [
      "| epoch   1 |   500/32580 batches | loss    3.715 \n",
      "money: boasting, rhee, collectivists, dab, accentuated, universelle, junk, nicolay, isn, disparaged\n",
      "lion: baking, equilibrium, dalnet, rosemont, framework, reason, trapezohedron, overs, leyla, catal\n",
      "africa: equalizer, peripheries, superseding, distorts, johnstown, asymmetrical, acm, bodies, synthesiser, townhouse\n",
      "musician: phenomenally, mammalian, expiration, flowed, competent, manitou, fia, alligator, spurs, ananda\n",
      "dance: scandalous, trost, doria, magnolia, struct, iwo, connemara, hurdle, mineralogy, bussy\n",
      "\n",
      "\n"
     ]
    },
    {
     "name": "stderr",
     "output_type": "stream",
     "text": [
      "1000it [04:10,  4.22it/s]"
     ]
    },
    {
     "name": "stdout",
     "output_type": "stream",
     "text": [
      "| epoch   1 |  1000/32580 batches | loss    3.366 \n"
     ]
    },
    {
     "name": "stderr",
     "output_type": "stream",
     "text": [
      "1001it [04:11,  2.68it/s]"
     ]
    },
    {
     "name": "stdout",
     "output_type": "stream",
     "text": [
      "money: boasting, rhee, dab, accentuated, collectivists, isn, universelle, junk, disparaged, nicolay\n",
      "lion: baking, equilibrium, dalnet, rosemont, trapezohedron, reason, framework, overs, leyla, catal\n",
      "africa: equalizer, peripheries, superseding, distorts, asymmetrical, johnstown, bodies, synthesiser, acm, bader\n",
      "musician: phenomenally, mammalian, expiration, flowed, competent, fia, manitou, ananda, alligator, spurs\n",
      "dance: scandalous, trost, magnolia, doria, struct, philosophies, iwo, hurdle, connemara, mineralogy\n",
      "\n",
      "\n"
     ]
    },
    {
     "name": "stderr",
     "output_type": "stream",
     "text": [
      "1501it [06:12,  3.29it/s]"
     ]
    },
    {
     "name": "stdout",
     "output_type": "stream",
     "text": [
      "| epoch   1 |  1500/32580 batches | loss    3.031 \n",
      "money: boasting, rhee, accentuated, dab, collectivists, isn, universelle, disparaged, oros, nicolay\n",
      "lion: equilibrium, baking, dalnet, trapezohedron, rosemont, framework, reason, overs, leyla, catal\n",
      "africa: equalizer, peripheries, superseding, johnstown, distorts, asymmetrical, extipa, divisible, pvt, bader\n",
      "musician: phenomenally, mammalian, flowed, expiration, competent, fia, manitou, ananda, alligator, spurs\n",
      "dance: scandalous, magnolia, trost, struct, doria, philosophies, precondition, hurdle, iwo, connemara\n",
      "\n",
      "\n"
     ]
    },
    {
     "name": "stderr",
     "output_type": "stream",
     "text": [
      "2000it [1:34:13,  4.20it/s] "
     ]
    },
    {
     "name": "stdout",
     "output_type": "stream",
     "text": [
      "| epoch   1 |  2000/32580 batches | loss    2.792 \n"
     ]
    },
    {
     "name": "stderr",
     "output_type": "stream",
     "text": [
      "2001it [1:36:45, 45.79s/it]"
     ]
    },
    {
     "name": "stdout",
     "output_type": "stream",
     "text": [
      "money: boasting, rhee, accentuated, dab, collectivists, isn, universelle, oros, disparaged, jobs\n",
      "lion: equilibrium, baking, dalnet, rosemont, trapezohedron, framework, overs, reason, leyla, catal\n",
      "africa: equalizer, peripheries, superseding, johnstown, divisible, horse, extipa, acm, bader, pvt\n",
      "musician: phenomenally, mammalian, expiration, flowed, competent, fia, manitou, ananda, alligator, spurs\n",
      "dance: scandalous, magnolia, doria, struct, philosophies, trost, p, hurdle, precondition, connemara\n",
      "\n",
      "\n"
     ]
    },
    {
     "name": "stderr",
     "output_type": "stream",
     "text": [
      "2500it [2:06:46,  3.21it/s]"
     ]
    },
    {
     "name": "stdout",
     "output_type": "stream",
     "text": [
      "| epoch   1 |  2500/32580 batches | loss    2.615 \n"
     ]
    },
    {
     "name": "stderr",
     "output_type": "stream",
     "text": [
      "2501it [2:06:46,  2.83it/s]"
     ]
    },
    {
     "name": "stdout",
     "output_type": "stream",
     "text": [
      "money: boasting, rhee, accentuated, dab, collectivists, isn, universelle, oros, said, jobs\n",
      "lion: equilibrium, baking, dalnet, rosemont, trapezohedron, framework, overs, reason, catal, leyla\n",
      "africa: equalizer, peripheries, superseding, divisible, johnstown, pvt, extipa, acm, bader, government\n",
      "musician: mammalian, phenomenally, expiration, flowed, competent, fia, manitou, ananda, alligator, spurs\n",
      "dance: scandalous, magnolia, p, doria, philosophies, struct, trost, precondition, hurdle, while\n",
      "\n",
      "\n"
     ]
    },
    {
     "name": "stderr",
     "output_type": "stream",
     "text": [
      "3001it [2:47:30,  4.15s/it]"
     ]
    },
    {
     "name": "stdout",
     "output_type": "stream",
     "text": [
      "| epoch   1 |  3000/32580 batches | loss    2.485 \n",
      "money: boasting, rhee, said, dab, accentuated, isn, collectivists, jobs, universelle, oros\n",
      "lion: equilibrium, baking, dalnet, rosemont, trapezohedron, framework, overs, catal, reason, barsoomian\n",
      "africa: equalizer, government, superseding, pvt, horse, divisible, johnstown, bader, peripheries, acm\n",
      "musician: mammalian, competent, phenomenally, flowed, expiration, fia, manitou, ananda, alligator, spurs\n",
      "dance: scandalous, magnolia, p, doria, there, philosophies, struct, trost, while, hurdle\n",
      "\n",
      "\n"
     ]
    },
    {
     "name": "stderr",
     "output_type": "stream",
     "text": [
      "3500it [3:28:20,  4.20it/s]"
     ]
    },
    {
     "name": "stdout",
     "output_type": "stream",
     "text": [
      "| epoch   1 |  3500/32580 batches | loss    2.373 \n"
     ]
    },
    {
     "name": "stderr",
     "output_type": "stream",
     "text": [
      "3501it [3:30:57, 47.12s/it]"
     ]
    },
    {
     "name": "stdout",
     "output_type": "stream",
     "text": [
      "money: said, boasting, rhee, dab, jobs, collectivists, accentuated, isn, universelle, english\n",
      "lion: equilibrium, dalnet, baking, rosemont, trapezohedron, overs, framework, catal, wlad, barsoomian\n",
      "africa: equalizer, government, population, horse, superseding, pvt, bader, mahilyow, emphases, bodies\n",
      "musician: competent, flowed, phenomenally, expiration, mammalian, fia, ananda, manitou, alligator, miskolc\n",
      "dance: p, there, scandalous, magnolia, while, doria, philosophies, all, struct, hurdle\n",
      "\n",
      "\n"
     ]
    },
    {
     "name": "stderr",
     "output_type": "stream",
     "text": [
      "4000it [4:14:27, 16.39s/it]"
     ]
    },
    {
     "name": "stdout",
     "output_type": "stream",
     "text": [
      "| epoch   1 |  4000/32580 batches | loss    2.294 \n"
     ]
    },
    {
     "name": "stderr",
     "output_type": "stream",
     "text": [
      "4001it [4:14:27, 11.62s/it]"
     ]
    },
    {
     "name": "stdout",
     "output_type": "stream",
     "text": [
      "money: said, boasting, rhee, jobs, main, dab, english, creation, service, accentuated\n",
      "lion: equilibrium, dalnet, baking, rosemont, trapezohedron, framework, overs, wlad, catal, barsoomian\n",
      "africa: government, equalizer, population, horse, known, emphases, bodies, divisible, pvt, superseding\n",
      "musician: competent, flowed, mammalian, expiration, phenomenally, fia, ananda, manitou, alligator, miskolc\n",
      "dance: p, there, all, scandalous, while, magnolia, philosophies, doria, struct, precondition\n",
      "\n",
      "\n"
     ]
    },
    {
     "name": "stderr",
     "output_type": "stream",
     "text": [
      "4501it [4:47:20,  3.45it/s]"
     ]
    },
    {
     "name": "stdout",
     "output_type": "stream",
     "text": [
      "| epoch   1 |  4500/32580 batches | loss    2.218 \n",
      "money: said, english, service, main, creation, rhee, order, information, jobs, music\n",
      "lion: equilibrium, dalnet, baking, rosemont, trapezohedron, framework, overs, wlad, barsoomian, catal\n",
      "africa: government, equalizer, population, known, may, world, germany, horse, most, an\n",
      "musician: competent, flowed, mammalian, expiration, fia, american, phenomenally, ananda, manitou, miskolc\n",
      "dance: there, p, while, all, scandalous, magnolia, external, philosophies, israel, struct\n",
      "\n",
      "\n"
     ]
    },
    {
     "name": "stderr",
     "output_type": "stream",
     "text": [
      "5001it [5:25:18,  3.27it/s]"
     ]
    },
    {
     "name": "stdout",
     "output_type": "stream",
     "text": [
      "| epoch   1 |  5000/32580 batches | loss    2.158 \n",
      "money: said, english, order, music, information, main, service, game, creation, view\n",
      "lion: equilibrium, dalnet, baking, trapezohedron, rosemont, framework, overs, wlad, barsoomian, reason\n",
      "africa: government, population, known, equalizer, may, world, germany, over, example, under\n",
      "musician: competent, flowed, american, expiration, fia, mammalian, ananda, economy, phenomenally, michigan\n",
      "dance: p, there, all, while, external, scandalous, later, three, magnolia, d\n",
      "\n",
      "\n"
     ]
    },
    {
     "name": "stderr",
     "output_type": "stream",
     "text": [
      "5501it [6:08:50,  3.11it/s]"
     ]
    },
    {
     "name": "stdout",
     "output_type": "stream",
     "text": [
      "| epoch   1 |  5500/32580 batches | loss    2.103 \n",
      "money: said, order, music, english, game, view, world, creation, information, main\n",
      "lion: equilibrium, dalnet, baking, trapezohedron, rosemont, framework, overs, barsoomian, wlad, overstated\n",
      "africa: government, population, known, world, may, germany, example, used, over, university\n",
      "musician: competent, american, flowed, expiration, economy, michigan, com, fia, ananda, mammalian\n",
      "dance: p, there, while, all, external, later, now, d, six, new\n",
      "\n",
      "\n"
     ]
    },
    {
     "name": "stderr",
     "output_type": "stream",
     "text": [
      "6001it [6:52:26,  3.56it/s]"
     ]
    },
    {
     "name": "stdout",
     "output_type": "stream",
     "text": [
      "| epoch   1 |  6000/32580 batches | loss    2.058 \n",
      "money: said, order, form, game, music, view, creation, used, main, information\n",
      "lion: equilibrium, dalnet, trapezohedron, baking, rosemont, framework, barsoomian, overs, wlad, reason\n",
      "africa: government, known, population, world, example, used, may, germany, five, university\n",
      "musician: competent, american, economy, com, empire, flowed, michigan, fia, expiration, equations\n",
      "dance: p, while, all, there, external, later, d, now, new, six\n",
      "\n",
      "\n"
     ]
    },
    {
     "name": "stderr",
     "output_type": "stream",
     "text": [
      "6500it [7:33:28,  3.11it/s]"
     ]
    },
    {
     "name": "stdout",
     "output_type": "stream",
     "text": [
      "| epoch   1 |  6500/32580 batches | loss    2.025 \n"
     ]
    },
    {
     "name": "stderr",
     "output_type": "stream",
     "text": [
      "6501it [7:36:01, 46.01s/it]"
     ]
    },
    {
     "name": "stdout",
     "output_type": "stream",
     "text": [
      "money: said, order, form, game, used, main, view, music, work, received\n",
      "lion: equilibrium, dalnet, trapezohedron, baking, rosemont, framework, barsoomian, wlad, overs, reason\n",
      "africa: government, known, population, world, example, used, seven, germany, may, states\n",
      "musician: american, economy, empire, com, competent, michigan, flowed, british, art, evidence\n",
      "dance: p, while, all, there, six, external, name, now, five, new\n",
      "\n",
      "\n"
     ]
    },
    {
     "name": "stderr",
     "output_type": "stream",
     "text": [
      "7001it [8:17:03,  1.06it/s]"
     ]
    },
    {
     "name": "stdout",
     "output_type": "stream",
     "text": [
      "| epoch   1 |  7000/32580 batches | loss    1.975 \n",
      "money: said, order, form, used, game, information, view, work, main, creation\n",
      "lion: equilibrium, dalnet, trapezohedron, baking, rosemont, framework, reason, barsoomian, wlad, overs\n",
      "africa: government, known, population, world, used, example, germany, seven, states, five\n",
      "musician: american, economy, empire, com, british, competent, michigan, art, evidence, type\n",
      "dance: p, all, there, while, name, six, external, them, five, three\n",
      "\n",
      "\n"
     ]
    },
    {
     "name": "stderr",
     "output_type": "stream",
     "text": [
      "7501it [8:59:26,  1.93it/s]"
     ]
    },
    {
     "name": "stdout",
     "output_type": "stream",
     "text": [
      "| epoch   1 |  7500/32580 batches | loss    1.942 \n",
      "money: said, order, form, used, view, information, game, then, received, work\n",
      "lion: equilibrium, dalnet, trapezohedron, baking, rosemont, framework, reason, barsoomian, wlad, overs\n",
      "africa: government, known, population, world, used, germany, example, seven, five, west\n",
      "musician: economy, empire, british, american, com, michigan, island, art, competent, french\n",
      "dance: p, all, name, while, six, there, external, based, three, them\n",
      "\n",
      "\n"
     ]
    },
    {
     "name": "stderr",
     "output_type": "stream",
     "text": [
      "8001it [9:40:22, 47.38s/it]"
     ]
    },
    {
     "name": "stdout",
     "output_type": "stream",
     "text": [
      "| epoch   1 |  8000/32580 batches | loss    1.917 \n",
      "money: said, order, form, used, view, information, game, work, received, then\n",
      "lion: equilibrium, dalnet, trapezohedron, baking, rosemont, framework, reason, barsoomian, wlad, overstated\n",
      "africa: government, known, germany, population, used, example, seven, world, west, nine\n",
      "musician: empire, british, economy, american, com, island, french, art, michigan, government\n",
      "dance: p, six, while, all, name, there, external, based, zero, best\n",
      "\n",
      "\n"
     ]
    },
    {
     "name": "stderr",
     "output_type": "stream",
     "text": [
      "8501it [10:24:07,  3.00s/it]"
     ]
    },
    {
     "name": "stdout",
     "output_type": "stream",
     "text": [
      "| epoch   1 |  8500/32580 batches | loss    1.890 \n",
      "money: said, order, form, used, view, game, information, received, work, much\n",
      "lion: equilibrium, dalnet, trapezohedron, reason, framework, baking, rosemont, barsoomian, thalberg, overs\n",
      "africa: government, germany, known, population, seven, used, nine, example, west, world\n",
      "musician: empire, economy, british, island, american, com, french, art, government, th\n",
      "dance: p, six, all, while, name, external, three, people, best, zero\n",
      "\n",
      "\n"
     ]
    },
    {
     "name": "stderr",
     "output_type": "stream",
     "text": [
      "9000it [10:41:57,  3.51it/s]"
     ]
    },
    {
     "name": "stdout",
     "output_type": "stream",
     "text": [
      "| epoch   1 |  9000/32580 batches | loss    1.861 \n"
     ]
    },
    {
     "name": "stderr",
     "output_type": "stream",
     "text": [
      "9001it [10:41:59,  1.83it/s]"
     ]
    },
    {
     "name": "stdout",
     "output_type": "stream",
     "text": [
      "money: said, order, form, used, view, game, information, work, music, then\n",
      "lion: equilibrium, dalnet, reason, trapezohedron, framework, baking, rosemont, barsoomian, duplicated, thalberg\n",
      "africa: government, germany, known, population, used, nine, west, states, example, seven\n",
      "musician: economy, empire, american, com, british, french, island, art, type, film\n",
      "dance: p, six, name, while, all, people, external, best, based, zero\n",
      "\n",
      "\n"
     ]
    },
    {
     "name": "stderr",
     "output_type": "stream",
     "text": [
      "9500it [10:44:06,  4.22it/s]"
     ]
    },
    {
     "name": "stdout",
     "output_type": "stream",
     "text": [
      "| epoch   1 |  9500/32580 batches | loss    1.838 \n"
     ]
    },
    {
     "name": "stderr",
     "output_type": "stream",
     "text": [
      "9501it [10:44:07,  2.49it/s]"
     ]
    },
    {
     "name": "stdout",
     "output_type": "stream",
     "text": [
      "money: said, order, form, used, view, game, information, work, made, received\n",
      "lion: equilibrium, dalnet, reason, trapezohedron, framework, baking, rosemont, barsoomian, duplicated, thalberg\n",
      "africa: government, germany, known, nine, used, states, population, example, west, part\n",
      "musician: empire, economy, com, french, american, island, british, art, type, film\n",
      "dance: p, name, six, people, best, all, based, external, while, zero\n",
      "\n",
      "\n"
     ]
    },
    {
     "name": "stderr",
     "output_type": "stream",
     "text": [
      "10000it [10:46:14,  4.17it/s]"
     ]
    },
    {
     "name": "stdout",
     "output_type": "stream",
     "text": [
      "| epoch   1 | 10000/32580 batches | loss    1.816 \n"
     ]
    },
    {
     "name": "stderr",
     "output_type": "stream",
     "text": [
      "10001it [10:46:15,  2.59it/s]"
     ]
    },
    {
     "name": "stdout",
     "output_type": "stream",
     "text": [
      "money: said, order, form, used, view, game, made, information, received, work\n",
      "lion: equilibrium, reason, dalnet, trapezohedron, framework, rosemont, baking, barsoomian, duplicated, thalberg\n",
      "africa: government, germany, nine, states, known, used, population, example, part, west\n",
      "musician: economy, empire, british, french, american, com, island, art, city, type\n",
      "dance: p, name, best, zero, six, people, based, external, united, all\n",
      "\n",
      "\n"
     ]
    },
    {
     "name": "stderr",
     "output_type": "stream",
     "text": [
      "10501it [10:48:26,  3.41it/s]"
     ]
    },
    {
     "name": "stdout",
     "output_type": "stream",
     "text": [
      "| epoch   1 | 10500/32580 batches | loss    1.795 \n",
      "money: said, order, form, used, view, game, made, received, work, part\n",
      "lion: equilibrium, reason, dalnet, framework, trapezohedron, rosemont, baking, barsoomian, duplicated, thalberg\n",
      "africa: government, germany, nine, population, known, example, used, states, part, west\n",
      "musician: british, empire, economy, island, french, com, american, art, type, government\n",
      "dance: name, p, best, six, people, zero, based, least, united, external\n",
      "\n",
      "\n"
     ]
    },
    {
     "name": "stderr",
     "output_type": "stream",
     "text": [
      "11001it [10:50:29,  3.42it/s]"
     ]
    },
    {
     "name": "stdout",
     "output_type": "stream",
     "text": [
      "| epoch   1 | 11000/32580 batches | loss    1.776 \n",
      "money: said, order, form, used, view, game, made, received, work, part\n",
      "lion: equilibrium, reason, framework, dalnet, trapezohedron, rosemont, baking, duplicated, research, barsoomian\n",
      "africa: government, germany, nine, part, known, states, example, population, used, united\n",
      "musician: british, empire, economy, french, island, american, com, type, art, film\n",
      "dance: name, p, six, best, zero, people, based, least, four, united\n",
      "\n",
      "\n"
     ]
    },
    {
     "name": "stderr",
     "output_type": "stream",
     "text": [
      "11500it [11:12:42,  4.16it/s] "
     ]
    },
    {
     "name": "stdout",
     "output_type": "stream",
     "text": [
      "| epoch   1 | 11500/32580 batches | loss    1.760 \n"
     ]
    },
    {
     "name": "stderr",
     "output_type": "stream",
     "text": [
      "11501it [11:12:43,  2.28it/s]"
     ]
    },
    {
     "name": "stdout",
     "output_type": "stream",
     "text": [
      "money: said, order, form, used, view, made, game, received, creation, part\n",
      "lion: equilibrium, reason, framework, dalnet, trapezohedron, research, duplicated, baking, rosemont, barsoomian\n",
      "africa: government, germany, example, nine, part, states, known, west, united, used\n",
      "musician: british, empire, french, economy, island, com, american, art, type, thought\n",
      "dance: name, p, six, best, least, music, zero, united, external, people\n",
      "\n",
      "\n"
     ]
    },
    {
     "name": "stderr",
     "output_type": "stream",
     "text": [
      "12001it [11:14:42,  3.38it/s]"
     ]
    },
    {
     "name": "stdout",
     "output_type": "stream",
     "text": [
      "| epoch   1 | 12000/32580 batches | loss    1.742 \n",
      "money: said, order, form, used, view, made, received, part, creation, list\n",
      "lion: equilibrium, reason, framework, dalnet, trapezohedron, course, duplicated, research, david, barsoomian\n",
      "africa: government, germany, part, example, nine, west, states, known, population, america\n",
      "musician: british, french, empire, island, economy, com, american, type, art, thought\n",
      "dance: name, p, best, six, least, music, four, united, based, israel\n",
      "\n",
      "\n"
     ]
    },
    {
     "name": "stderr",
     "output_type": "stream",
     "text": [
      "12501it [11:16:53,  3.42it/s]"
     ]
    },
    {
     "name": "stdout",
     "output_type": "stream",
     "text": [
      "| epoch   1 | 12500/32580 batches | loss    1.729 \n",
      "money: said, order, form, used, view, made, received, part, creation, time\n",
      "lion: equilibrium, reason, framework, dalnet, trapezohedron, course, research, david, duplicated, barsoomian\n",
      "africa: government, germany, part, west, example, nine, america, states, population, united\n",
      "musician: british, french, empire, island, economy, com, art, american, type, thought\n",
      "dance: name, p, best, six, least, eight, music, israel, external, united\n",
      "\n",
      "\n"
     ]
    },
    {
     "name": "stderr",
     "output_type": "stream",
     "text": [
      "13001it [11:18:52,  3.56it/s]"
     ]
    },
    {
     "name": "stdout",
     "output_type": "stream",
     "text": [
      "| epoch   1 | 13000/32580 batches | loss    1.720 \n",
      "money: said, order, form, view, used, made, received, time, part, creation\n",
      "lion: equilibrium, reason, framework, research, course, dalnet, david, trapezohedron, duplicated, space\n",
      "africa: government, germany, nine, part, america, west, example, united, population, states\n",
      "musician: british, empire, french, island, com, economy, american, type, india, art\n",
      "dance: name, p, six, best, least, israel, four, external, eight, united\n",
      "\n",
      "\n"
     ]
    },
    {
     "name": "stderr",
     "output_type": "stream",
     "text": [
      "13500it [11:20:50,  4.22it/s]"
     ]
    },
    {
     "name": "stdout",
     "output_type": "stream",
     "text": [
      "| epoch   1 | 13500/32580 batches | loss    1.695 \n"
     ]
    },
    {
     "name": "stderr",
     "output_type": "stream",
     "text": [
      "13501it [11:20:51,  3.06it/s]"
     ]
    },
    {
     "name": "stdout",
     "output_type": "stream",
     "text": [
      "money: said, order, form, view, used, made, received, part, creation, referred\n",
      "lion: equilibrium, reason, framework, course, research, david, dalnet, complete, space, trapezohedron\n",
      "africa: government, germany, part, nine, america, west, example, united, population, europe\n",
      "musician: british, island, empire, french, economy, com, government, type, india, american\n",
      "dance: p, name, six, best, least, israel, type, eight, united, music\n",
      "\n",
      "\n"
     ]
    },
    {
     "name": "stderr",
     "output_type": "stream",
     "text": [
      "14001it [11:44:39,  3.25it/s] "
     ]
    },
    {
     "name": "stdout",
     "output_type": "stream",
     "text": [
      "| epoch   1 | 14000/32580 batches | loss    1.678 \n",
      "money: said, order, form, view, made, used, received, creation, time, game\n",
      "lion: equilibrium, reason, framework, course, research, david, space, complete, medicine, dalnet\n",
      "africa: government, germany, america, nine, part, united, west, europe, example, states\n",
      "musician: island, empire, british, economy, french, india, type, government, actress, com\n",
      "dance: p, six, name, best, music, israel, least, united, type, eight\n",
      "\n",
      "\n"
     ]
    },
    {
     "name": "stderr",
     "output_type": "stream",
     "text": [
      "14501it [11:46:41,  3.41it/s]"
     ]
    },
    {
     "name": "stdout",
     "output_type": "stream",
     "text": [
      "| epoch   1 | 14500/32580 batches | loss    1.670 \n",
      "money: said, order, form, view, used, made, received, information, creation, change\n",
      "lion: equilibrium, reason, course, framework, research, space, david, complete, medicine, duplicated\n",
      "africa: government, germany, america, nine, part, europe, united, west, able, states\n",
      "musician: island, british, empire, french, actress, economy, india, type, government, thought\n",
      "dance: p, six, music, least, best, name, type, israel, eight, united\n",
      "\n",
      "\n"
     ]
    },
    {
     "name": "stderr",
     "output_type": "stream",
     "text": [
      "15001it [11:48:41,  3.65it/s]"
     ]
    },
    {
     "name": "stdout",
     "output_type": "stream",
     "text": [
      "| epoch   1 | 15000/32580 batches | loss    1.656 \n",
      "money: said, order, form, view, received, used, made, able, creation, game\n",
      "lion: equilibrium, reason, course, framework, research, david, space, complete, medicine, height\n",
      "africa: government, germany, america, nine, part, europe, west, united, able, states\n",
      "musician: island, empire, british, actress, french, type, india, author, economy, kingdom\n",
      "dance: six, p, music, least, best, type, external, name, israel, united\n",
      "\n",
      "\n"
     ]
    },
    {
     "name": "stderr",
     "output_type": "stream",
     "text": [
      "15501it [11:50:42,  3.61it/s]"
     ]
    },
    {
     "name": "stdout",
     "output_type": "stream",
     "text": [
      "| epoch   1 | 15500/32580 batches | loss    1.646 \n",
      "money: said, order, form, view, received, used, made, creation, able, information\n",
      "lion: equilibrium, reason, course, research, framework, david, space, complete, medicine, height\n",
      "africa: germany, government, nine, part, america, europe, west, able, united, india\n",
      "musician: island, empire, actress, british, french, author, type, kingdom, india, economy\n",
      "dance: p, least, external, six, best, music, name, israel, type, formed\n",
      "\n",
      "\n"
     ]
    },
    {
     "name": "stderr",
     "output_type": "stream",
     "text": [
      "16000it [11:52:53,  4.04it/s]"
     ]
    },
    {
     "name": "stdout",
     "output_type": "stream",
     "text": [
      "| epoch   1 | 16000/32580 batches | loss    1.634 \n"
     ]
    },
    {
     "name": "stderr",
     "output_type": "stream",
     "text": [
      "16001it [11:52:54,  2.57it/s]"
     ]
    },
    {
     "name": "stdout",
     "output_type": "stream",
     "text": [
      "money: said, order, form, view, received, used, made, creation, able, referred\n",
      "lion: equilibrium, reason, course, framework, research, david, complete, space, medicine, height\n",
      "africa: germany, government, europe, part, america, nine, west, able, india, united\n",
      "musician: actress, british, island, empire, author, kingdom, french, type, government, india\n",
      "dance: external, p, least, music, six, best, name, united, israel, eight\n",
      "\n",
      "\n"
     ]
    },
    {
     "name": "stderr",
     "output_type": "stream",
     "text": [
      "16500it [12:00:13,  3.46it/s]"
     ]
    },
    {
     "name": "stdout",
     "output_type": "stream",
     "text": [
      "| epoch   1 | 16500/32580 batches | loss    1.626 \n"
     ]
    },
    {
     "name": "stderr",
     "output_type": "stream",
     "text": [
      "16501it [12:00:14,  2.04it/s]"
     ]
    },
    {
     "name": "stdout",
     "output_type": "stream",
     "text": [
      "money: said, order, form, view, received, creation, made, used, able, example\n",
      "lion: equilibrium, reason, course, research, framework, david, complete, space, medicine, height\n",
      "africa: germany, europe, government, part, america, nine, india, able, west, united\n",
      "musician: actress, empire, british, island, author, kingdom, french, thought, actor, india\n",
      "dance: external, music, p, least, six, united, best, israel, name, seven\n",
      "\n",
      "\n"
     ]
    },
    {
     "name": "stderr",
     "output_type": "stream",
     "text": [
      "17000it [12:02:19,  4.21it/s]"
     ]
    },
    {
     "name": "stdout",
     "output_type": "stream",
     "text": [
      "| epoch   1 | 17000/32580 batches | loss    1.614 \n"
     ]
    },
    {
     "name": "stderr",
     "output_type": "stream",
     "text": [
      "17001it [12:02:19,  2.42it/s]"
     ]
    },
    {
     "name": "stdout",
     "output_type": "stream",
     "text": [
      "money: said, order, form, view, received, creation, used, able, made, referred\n",
      "lion: equilibrium, reason, research, course, david, framework, space, complete, medicine, russia\n",
      "africa: germany, europe, america, nine, part, government, india, able, west, united\n",
      "musician: actress, author, empire, island, british, kingdom, actor, india, french, thought\n",
      "dance: six, music, least, p, external, united, name, seven, best, israel\n",
      "\n",
      "\n"
     ]
    },
    {
     "name": "stderr",
     "output_type": "stream",
     "text": [
      "17500it [12:04:20,  4.24it/s]"
     ]
    },
    {
     "name": "stdout",
     "output_type": "stream",
     "text": [
      "| epoch   1 | 17500/32580 batches | loss    1.605 \n"
     ]
    },
    {
     "name": "stderr",
     "output_type": "stream",
     "text": [
      "17501it [12:04:21,  2.53it/s]"
     ]
    },
    {
     "name": "stdout",
     "output_type": "stream",
     "text": [
      "money: said, order, form, view, received, made, able, creation, used, referred\n",
      "lion: equilibrium, reason, research, course, framework, complete, david, space, russia, medicine\n",
      "africa: germany, europe, america, nine, part, india, able, government, west, united\n",
      "musician: actress, author, empire, island, actor, british, kingdom, india, french, type\n",
      "dance: music, six, external, least, p, united, name, zero, israel, seven\n",
      "\n",
      "\n"
     ]
    },
    {
     "name": "stderr",
     "output_type": "stream",
     "text": [
      "18001it [12:06:21,  3.41it/s]"
     ]
    },
    {
     "name": "stdout",
     "output_type": "stream",
     "text": [
      "| epoch   1 | 18000/32580 batches | loss    1.597 \n",
      "money: said, order, form, made, received, view, able, creation, referred, used\n",
      "lion: equilibrium, reason, research, course, framework, complete, david, space, height, medicine\n",
      "africa: germany, europe, america, nine, part, india, able, government, end, united\n",
      "musician: actress, author, island, actor, empire, kingdom, british, french, india, th\n",
      "dance: music, six, external, least, p, name, formed, united, eight, island\n",
      "\n",
      "\n"
     ]
    },
    {
     "name": "stderr",
     "output_type": "stream",
     "text": [
      "18500it [12:08:21,  4.17it/s]"
     ]
    },
    {
     "name": "stdout",
     "output_type": "stream",
     "text": [
      "| epoch   1 | 18500/32580 batches | loss    1.585 \n"
     ]
    },
    {
     "name": "stderr",
     "output_type": "stream",
     "text": [
      "18501it [12:08:21,  3.31it/s]"
     ]
    },
    {
     "name": "stdout",
     "output_type": "stream",
     "text": [
      "money: said, order, form, view, made, able, received, creation, referred, change\n",
      "lion: equilibrium, reason, research, course, framework, complete, david, space, carry, medicine\n",
      "africa: germany, europe, america, india, nine, part, able, government, united, end\n",
      "musician: actress, author, actor, island, kingdom, empire, india, french, th, british\n",
      "dance: music, six, external, least, p, eight, name, united, israel, formed\n",
      "\n",
      "\n"
     ]
    },
    {
     "name": "stderr",
     "output_type": "stream",
     "text": [
      "19001it [12:10:22,  3.23it/s]"
     ]
    },
    {
     "name": "stdout",
     "output_type": "stream",
     "text": [
      "| epoch   1 | 19000/32580 batches | loss    1.579 \n",
      "money: said, order, form, view, able, made, received, creation, referred, change\n",
      "lion: reason, equilibrium, course, research, complete, framework, david, medicine, carry, space\n",
      "africa: germany, europe, america, nine, part, india, able, end, united, kingdom\n",
      "musician: actress, author, actor, island, kingdom, empire, french, india, british, daughter\n",
      "dance: music, external, least, p, zero, united, six, island, israel, formed\n",
      "\n",
      "\n"
     ]
    },
    {
     "name": "stderr",
     "output_type": "stream",
     "text": [
      "19501it [12:12:22,  3.60it/s]"
     ]
    },
    {
     "name": "stdout",
     "output_type": "stream",
     "text": [
      "| epoch   1 | 19500/32580 batches | loss    1.569 \n",
      "money: said, order, form, view, able, referred, received, creation, made, change\n",
      "lion: reason, equilibrium, course, research, complete, framework, david, medicine, carry, space\n",
      "africa: europe, germany, america, part, india, nine, able, end, kingdom, united\n",
      "musician: actress, author, actor, island, kingdom, empire, french, india, daughter, british\n",
      "dance: music, external, least, six, p, zero, eight, united, type, island\n",
      "\n",
      "\n"
     ]
    },
    {
     "name": "stderr",
     "output_type": "stream",
     "text": [
      "20001it [12:14:23,  3.39it/s]"
     ]
    },
    {
     "name": "stdout",
     "output_type": "stream",
     "text": [
      "| epoch   1 | 20000/32580 batches | loss    1.561 \n",
      "money: said, order, form, view, able, creation, received, referred, made, change\n",
      "lion: reason, equilibrium, course, research, complete, david, framework, medicine, carry, set\n",
      "africa: europe, germany, america, india, part, kingdom, able, nine, end, united\n",
      "musician: actress, author, actor, island, kingdom, empire, french, british, daughter, writer\n",
      "dance: music, external, six, eight, type, united, least, best, p, battle\n",
      "\n",
      "\n"
     ]
    },
    {
     "name": "stderr",
     "output_type": "stream",
     "text": [
      "20500it [12:16:23,  4.15it/s]"
     ]
    },
    {
     "name": "stdout",
     "output_type": "stream",
     "text": [
      "| epoch   1 | 20500/32580 batches | loss    1.553 \n",
      "money: said, order, form, view, able, creation, referred, received, seen, change\n",
      "lion: reason, equilibrium, course, complete, research, david, framework, carry, medicine, height\n",
      "africa: europe, germany, america, india, kingdom, nine, west, part, able, united\n",
      "musician: actress, author, actor, kingdom, island, writer, empire, french, india, daughter\n",
      "dance: music, external, eight, type, battle, united, six, least, new, zero\n",
      "\n",
      "\n"
     ]
    },
    {
     "name": "stderr",
     "output_type": "stream",
     "text": [
      "21001it [12:18:23,  3.33it/s]"
     ]
    },
    {
     "name": "stdout",
     "output_type": "stream",
     "text": [
      "| epoch   1 | 21000/32580 batches | loss    1.544 \n",
      "money: said, order, form, view, able, creation, referred, received, change, seen\n",
      "lion: reason, equilibrium, course, complete, research, david, framework, carry, medicine, set\n",
      "africa: america, europe, germany, india, nine, kingdom, able, end, united, west\n",
      "musician: actress, actor, author, kingdom, island, writer, empire, french, india, daughter\n",
      "dance: music, external, eight, six, p, battle, united, type, least, zero\n",
      "\n",
      "\n"
     ]
    },
    {
     "name": "stderr",
     "output_type": "stream",
     "text": [
      "21500it [12:20:24,  4.17it/s]"
     ]
    },
    {
     "name": "stdout",
     "output_type": "stream",
     "text": [
      "| epoch   1 | 21500/32580 batches | loss    1.533 \n"
     ]
    },
    {
     "name": "stderr",
     "output_type": "stream",
     "text": [
      "21501it [12:20:24,  3.00it/s]"
     ]
    },
    {
     "name": "stdout",
     "output_type": "stream",
     "text": [
      "money: said, order, view, creation, form, able, referred, change, received, seen\n",
      "lion: reason, course, equilibrium, complete, research, framework, david, carry, medicine, set\n",
      "africa: america, europe, germany, india, nine, kingdom, end, able, west, united\n",
      "musician: actress, actor, author, kingdom, writer, island, french, daughter, british, india\n",
      "dance: music, external, six, battle, p, eight, united, seven, least, zero\n",
      "\n",
      "\n"
     ]
    },
    {
     "name": "stderr",
     "output_type": "stream",
     "text": [
      "22001it [12:22:24,  3.60it/s]"
     ]
    },
    {
     "name": "stdout",
     "output_type": "stream",
     "text": [
      "| epoch   1 | 22000/32580 batches | loss    1.536 \n",
      "money: said, order, view, able, creation, form, referred, position, change, seen\n",
      "lion: reason, equilibrium, course, complete, set, medicine, research, framework, david, carry\n",
      "africa: america, germany, europe, india, nine, west, kingdom, able, united, china\n",
      "musician: actress, actor, author, kingdom, writer, island, india, french, british, daughter\n",
      "dance: music, external, six, battle, zero, p, least, united, seven, nine\n",
      "\n",
      "\n"
     ]
    },
    {
     "name": "stderr",
     "output_type": "stream",
     "text": [
      "22501it [12:24:24,  3.80it/s]"
     ]
    },
    {
     "name": "stdout",
     "output_type": "stream",
     "text": [
      "| epoch   1 | 22500/32580 batches | loss    1.522 \n",
      "money: said, order, view, able, creation, referred, form, seen, made, support\n",
      "lion: reason, equilibrium, course, complete, medicine, research, framework, carry, david, set\n",
      "africa: america, germany, europe, india, nine, kingdom, west, north, united, end\n",
      "musician: actress, actor, author, writer, kingdom, india, island, british, daughter, french\n",
      "dance: music, external, battle, six, zero, least, p, united, seven, able\n",
      "\n",
      "\n"
     ]
    },
    {
     "name": "stderr",
     "output_type": "stream",
     "text": [
      "23000it [12:26:25,  4.04it/s]"
     ]
    },
    {
     "name": "stdout",
     "output_type": "stream",
     "text": [
      "| epoch   1 | 23000/32580 batches | loss    1.516 \n"
     ]
    },
    {
     "name": "stderr",
     "output_type": "stream",
     "text": [
      "23001it [12:26:25,  2.87it/s]"
     ]
    },
    {
     "name": "stdout",
     "output_type": "stream",
     "text": [
      "money: said, order, view, able, creation, made, referred, form, fact, change\n",
      "lion: reason, equilibrium, course, complete, medicine, framework, david, carry, research, height\n",
      "africa: germany, america, europe, india, nine, west, kingdom, able, north, united\n",
      "musician: actress, actor, author, writer, kingdom, british, island, daughter, india, empire\n",
      "dance: music, external, battle, seven, six, least, united, p, able, history\n",
      "\n",
      "\n"
     ]
    },
    {
     "name": "stderr",
     "output_type": "stream",
     "text": [
      "23500it [12:28:25,  4.21it/s]"
     ]
    },
    {
     "name": "stdout",
     "output_type": "stream",
     "text": [
      "| epoch   1 | 23500/32580 batches | loss    1.510 \n"
     ]
    },
    {
     "name": "stderr",
     "output_type": "stream",
     "text": [
      "23501it [12:28:26,  3.11it/s]"
     ]
    },
    {
     "name": "stdout",
     "output_type": "stream",
     "text": [
      "money: said, order, view, able, creation, made, fact, referred, seen, form\n",
      "lion: reason, course, equilibrium, complete, medicine, david, framework, carry, height, set\n",
      "africa: germany, america, india, europe, nine, kingdom, west, north, able, united\n",
      "musician: actress, actor, author, writer, kingdom, daughter, india, poet, island, nine\n",
      "dance: music, external, battle, least, united, seven, six, able, israel, p\n",
      "\n",
      "\n"
     ]
    },
    {
     "name": "stderr",
     "output_type": "stream",
     "text": [
      "24000it [12:30:27,  4.07it/s]"
     ]
    },
    {
     "name": "stdout",
     "output_type": "stream",
     "text": [
      "| epoch   1 | 24000/32580 batches | loss    1.506 \n"
     ]
    },
    {
     "name": "stderr",
     "output_type": "stream",
     "text": [
      "24001it [12:30:27,  2.99it/s]"
     ]
    },
    {
     "name": "stdout",
     "output_type": "stream",
     "text": [
      "money: order, said, able, view, creation, fact, referred, seen, made, position\n",
      "lion: reason, course, equilibrium, complete, medicine, carry, framework, set, david, height\n",
      "africa: germany, america, india, europe, nine, kingdom, west, able, north, united\n",
      "musician: actress, actor, author, writer, kingdom, nine, india, daughter, poet, island\n",
      "dance: music, external, battle, united, israel, seven, least, able, nine, history\n",
      "\n",
      "\n"
     ]
    },
    {
     "name": "stderr",
     "output_type": "stream",
     "text": [
      "24501it [12:32:28,  3.51it/s]"
     ]
    },
    {
     "name": "stdout",
     "output_type": "stream",
     "text": [
      "| epoch   1 | 24500/32580 batches | loss    1.501 \n",
      "money: said, order, able, view, creation, fact, seen, referred, made, position\n",
      "lion: reason, equilibrium, course, complete, carry, medicine, framework, david, height, set\n",
      "africa: germany, america, europe, india, nine, kingdom, north, west, able, united\n",
      "musician: actress, actor, author, writer, kingdom, nine, poet, india, daughter, composer\n",
      "dance: music, external, battle, united, seven, israel, nine, least, standard, history\n",
      "\n",
      "\n"
     ]
    },
    {
     "name": "stderr",
     "output_type": "stream",
     "text": [
      "25000it [12:34:27,  4.23it/s]"
     ]
    },
    {
     "name": "stdout",
     "output_type": "stream",
     "text": [
      "| epoch   1 | 25000/32580 batches | loss    1.493 \n"
     ]
    },
    {
     "name": "stderr",
     "output_type": "stream",
     "text": [
      "25001it [12:34:27,  3.32it/s]"
     ]
    },
    {
     "name": "stdout",
     "output_type": "stream",
     "text": [
      "money: order, said, able, creation, view, fact, seen, referred, position, made\n",
      "lion: reason, equilibrium, course, complete, medicine, carry, framework, height, david, spectrum\n",
      "africa: germany, america, europe, india, nine, west, kingdom, north, able, united\n",
      "musician: actress, actor, author, writer, kingdom, nine, poet, daughter, seven, composer\n",
      "dance: music, external, battle, united, israel, history, least, traditional, standard, six\n",
      "\n",
      "\n"
     ]
    },
    {
     "name": "stderr",
     "output_type": "stream",
     "text": [
      "25501it [12:36:28,  3.60it/s]"
     ]
    },
    {
     "name": "stdout",
     "output_type": "stream",
     "text": [
      "| epoch   1 | 25500/32580 batches | loss    1.491 \n",
      "money: said, order, able, creation, view, fact, seen, position, referred, made\n",
      "lion: reason, equilibrium, course, complete, medicine, carry, framework, height, set, spectrum\n",
      "africa: germany, america, europe, india, kingdom, west, north, nine, able, united\n",
      "musician: actress, actor, author, writer, kingdom, poet, nine, daughter, composer, india\n",
      "dance: music, external, battle, history, united, israel, traditional, six, nine, least\n",
      "\n",
      "\n"
     ]
    },
    {
     "name": "stderr",
     "output_type": "stream",
     "text": [
      "26000it [12:38:28,  4.19it/s]"
     ]
    },
    {
     "name": "stdout",
     "output_type": "stream",
     "text": [
      "| epoch   1 | 26000/32580 batches | loss    1.481 \n"
     ]
    },
    {
     "name": "stderr",
     "output_type": "stream",
     "text": [
      "26001it [12:38:28,  3.26it/s]"
     ]
    },
    {
     "name": "stdout",
     "output_type": "stream",
     "text": [
      "money: order, said, able, creation, view, fact, seen, position, referred, addition\n",
      "lion: reason, equilibrium, course, complete, medicine, carry, set, height, framework, failure\n",
      "africa: germany, america, europe, india, kingdom, west, north, nine, able, united\n",
      "musician: actress, actor, author, writer, kingdom, poet, nine, composer, seven, daughter\n",
      "dance: music, external, battle, traditional, israel, united, standard, history, nine, least\n",
      "\n",
      "\n"
     ]
    },
    {
     "name": "stderr",
     "output_type": "stream",
     "text": [
      "26500it [12:40:28,  4.21it/s]"
     ]
    },
    {
     "name": "stdout",
     "output_type": "stream",
     "text": [
      "| epoch   1 | 26500/32580 batches | loss    1.478 \n"
     ]
    },
    {
     "name": "stderr",
     "output_type": "stream",
     "text": [
      "26501it [12:40:29,  3.12it/s]"
     ]
    },
    {
     "name": "stdout",
     "output_type": "stream",
     "text": [
      "money: said, order, able, creation, view, seen, position, fact, referred, much\n",
      "lion: reason, equilibrium, course, complete, medicine, carry, height, failure, framework, set\n",
      "africa: america, germany, europe, india, kingdom, north, west, south, able, nine\n",
      "musician: actress, actor, author, writer, kingdom, poet, composer, daughter, nine, th\n",
      "dance: music, external, battle, traditional, israel, united, history, new, standard, least\n",
      "\n",
      "\n"
     ]
    },
    {
     "name": "stderr",
     "output_type": "stream",
     "text": [
      "27000it [12:42:29,  4.05it/s]"
     ]
    },
    {
     "name": "stdout",
     "output_type": "stream",
     "text": [
      "| epoch   1 | 27000/32580 batches | loss    1.469 \n"
     ]
    },
    {
     "name": "stderr",
     "output_type": "stream",
     "text": [
      "27001it [12:42:30,  3.27it/s]"
     ]
    },
    {
     "name": "stdout",
     "output_type": "stream",
     "text": [
      "money: said, able, order, creation, fact, seen, view, position, made, return\n",
      "lion: reason, course, equilibrium, complete, medicine, carry, framework, height, spectrum, failure\n",
      "africa: america, germany, europe, india, west, north, kingdom, nine, south, able\n",
      "musician: actress, actor, author, writer, poet, kingdom, composer, nine, daughter, th\n",
      "dance: music, external, battle, israel, united, traditional, standard, able, least, seven\n",
      "\n",
      "\n"
     ]
    },
    {
     "name": "stderr",
     "output_type": "stream",
     "text": [
      "27500it [14:36:19,  2.40s/it] "
     ]
    },
    {
     "name": "stdout",
     "output_type": "stream",
     "text": [
      "| epoch   1 | 27500/32580 batches | loss    1.466 \n"
     ]
    },
    {
     "name": "stderr",
     "output_type": "stream",
     "text": [
      "27501it [14:36:19,  1.82s/it]"
     ]
    },
    {
     "name": "stdout",
     "output_type": "stream",
     "text": [
      "money: said, able, creation, order, seen, fact, view, made, position, return\n",
      "lion: reason, course, equilibrium, complete, medicine, framework, height, failure, carry, spectrum\n",
      "africa: germany, america, india, europe, north, west, kingdom, south, able, nine\n",
      "musician: actress, actor, author, writer, poet, kingdom, composer, daughter, nine, th\n",
      "dance: music, external, history, battle, united, traditional, israel, seven, standard, new\n",
      "\n",
      "\n"
     ]
    },
    {
     "name": "stderr",
     "output_type": "stream",
     "text": [
      "28000it [17:55:21, 293.46s/it]"
     ]
    },
    {
     "name": "stdout",
     "output_type": "stream",
     "text": [
      "| epoch   1 | 28000/32580 batches | loss    1.461 \n"
     ]
    },
    {
     "name": "stderr",
     "output_type": "stream",
     "text": [
      "28001it [17:55:23, 205.80s/it]"
     ]
    },
    {
     "name": "stdout",
     "output_type": "stream",
     "text": [
      "money: said, able, creation, order, seen, fact, return, view, position, made\n",
      "lion: reason, course, equilibrium, complete, medicine, framework, return, carry, failure, height\n",
      "africa: america, india, germany, europe, west, kingdom, north, nine, south, able\n",
      "musician: actress, actor, author, writer, poet, kingdom, composer, singer, nine, daughter\n",
      "dance: music, external, history, united, battle, six, israel, new, least, traditional\n",
      "\n",
      "\n"
     ]
    },
    {
     "name": "stderr",
     "output_type": "stream",
     "text": [
      "28500it [18:17:31,  3.39it/s] "
     ]
    },
    {
     "name": "stdout",
     "output_type": "stream",
     "text": [
      "| epoch   1 | 28500/32580 batches | loss    1.457 \n"
     ]
    },
    {
     "name": "stderr",
     "output_type": "stream",
     "text": [
      "28501it [18:17:34,  1.01s/it]"
     ]
    },
    {
     "name": "stdout",
     "output_type": "stream",
     "text": [
      "money: able, said, creation, seen, order, fact, view, return, position, referred\n",
      "lion: reason, course, equilibrium, complete, medicine, return, framework, failure, carry, height\n",
      "africa: america, india, germany, europe, kingdom, north, west, nine, south, united\n",
      "musician: actress, actor, author, writer, poet, kingdom, composer, singer, nine, seven\n",
      "dance: music, external, history, six, battle, united, new, popular, israel, original\n",
      "\n",
      "\n"
     ]
    },
    {
     "name": "stderr",
     "output_type": "stream",
     "text": [
      "29000it [18:19:36,  4.26it/s]"
     ]
    },
    {
     "name": "stdout",
     "output_type": "stream",
     "text": [
      "| epoch   1 | 29000/32580 batches | loss    1.450 \n"
     ]
    },
    {
     "name": "stderr",
     "output_type": "stream",
     "text": [
      "29001it [18:19:36,  2.84it/s]"
     ]
    },
    {
     "name": "stdout",
     "output_type": "stream",
     "text": [
      "money: creation, able, seen, said, order, fact, much, return, view, made\n",
      "lion: reason, course, equilibrium, complete, medicine, return, framework, failure, russia, height\n",
      "africa: america, india, germany, europe, kingdom, nine, north, able, west, south\n",
      "musician: actress, actor, author, writer, poet, kingdom, composer, singer, seven, nine\n",
      "dance: music, external, history, six, battle, united, popular, able, traditional, new\n",
      "\n",
      "\n"
     ]
    },
    {
     "name": "stderr",
     "output_type": "stream",
     "text": [
      "29500it [18:21:36,  4.17it/s]"
     ]
    },
    {
     "name": "stdout",
     "output_type": "stream",
     "text": [
      "| epoch   1 | 29500/32580 batches | loss    1.445 \n"
     ]
    },
    {
     "name": "stderr",
     "output_type": "stream",
     "text": [
      "29501it [18:21:37,  3.00it/s]"
     ]
    },
    {
     "name": "stdout",
     "output_type": "stream",
     "text": [
      "money: creation, able, seen, order, fact, said, return, made, position, much\n",
      "lion: reason, course, equilibrium, complete, medicine, russia, failure, return, framework, carry\n",
      "africa: america, india, germany, europe, kingdom, nine, north, china, west, south\n",
      "musician: actress, actor, author, writer, poet, composer, kingdom, singer, seven, nine\n",
      "dance: music, external, history, battle, popular, traditional, united, able, original, israel\n",
      "\n",
      "\n"
     ]
    },
    {
     "name": "stderr",
     "output_type": "stream",
     "text": [
      "30000it [18:23:36,  4.20it/s]"
     ]
    },
    {
     "name": "stdout",
     "output_type": "stream",
     "text": [
      "| epoch   1 | 30000/32580 batches | loss    1.445 \n"
     ]
    },
    {
     "name": "stderr",
     "output_type": "stream",
     "text": [
      "30001it [18:23:37,  2.98it/s]"
     ]
    },
    {
     "name": "stdout",
     "output_type": "stream",
     "text": [
      "money: creation, able, seen, made, said, order, fact, return, view, position\n",
      "lion: reason, course, complete, equilibrium, medicine, failure, return, framework, height, carry\n",
      "africa: america, germany, india, europe, kingdom, north, nine, china, able, south\n",
      "musician: actress, actor, author, writer, poet, composer, kingdom, singer, canadian, seven\n",
      "dance: music, external, history, six, battle, united, able, traditional, original, popular\n",
      "\n",
      "\n"
     ]
    },
    {
     "name": "stderr",
     "output_type": "stream",
     "text": [
      "30501it [18:25:36,  3.45it/s]"
     ]
    },
    {
     "name": "stdout",
     "output_type": "stream",
     "text": [
      "| epoch   1 | 30500/32580 batches | loss    1.433 \n",
      "money: creation, able, seen, said, made, fact, much, order, return, support\n",
      "lion: reason, course, equilibrium, complete, medicine, failure, return, framework, russia, height\n",
      "africa: america, germany, india, europe, kingdom, nine, north, china, able, united\n",
      "musician: actress, actor, author, writer, poet, composer, singer, kingdom, canadian, nine\n",
      "dance: music, external, history, united, battle, six, traditional, able, popular, original\n",
      "\n",
      "\n"
     ]
    },
    {
     "name": "stderr",
     "output_type": "stream",
     "text": [
      "31000it [18:27:35,  4.25it/s]"
     ]
    },
    {
     "name": "stdout",
     "output_type": "stream",
     "text": [
      "| epoch   1 | 31000/32580 batches | loss    1.433 \n"
     ]
    },
    {
     "name": "stderr",
     "output_type": "stream",
     "text": [
      "31001it [18:27:36,  2.26it/s]"
     ]
    },
    {
     "name": "stdout",
     "output_type": "stream",
     "text": [
      "money: seen, able, creation, fact, much, order, made, support, said, return\n",
      "lion: reason, course, complete, equilibrium, medicine, failure, framework, return, height, carry\n",
      "africa: america, germany, india, europe, nine, north, kingdom, south, china, united\n",
      "musician: actress, actor, author, writer, poet, composer, singer, kingdom, nine, canadian\n",
      "dance: music, external, history, united, traditional, battle, popular, original, able, six\n",
      "\n",
      "\n"
     ]
    },
    {
     "name": "stderr",
     "output_type": "stream",
     "text": [
      "31500it [18:29:50,  4.18it/s]"
     ]
    },
    {
     "name": "stdout",
     "output_type": "stream",
     "text": [
      "| epoch   1 | 31500/32580 batches | loss    1.430 \n"
     ]
    },
    {
     "name": "stderr",
     "output_type": "stream",
     "text": [
      "31501it [18:29:50,  3.12it/s]"
     ]
    },
    {
     "name": "stdout",
     "output_type": "stream",
     "text": [
      "money: able, creation, seen, made, much, said, fact, support, order, return\n",
      "lion: reason, course, complete, equilibrium, medicine, failure, return, framework, carry, height\n",
      "africa: germany, india, america, europe, north, kingdom, nine, south, china, united\n",
      "musician: actress, actor, author, writer, poet, composer, singer, kingdom, nine, canadian\n",
      "dance: music, external, history, traditional, early, united, original, battle, able, popular\n",
      "\n",
      "\n"
     ]
    },
    {
     "name": "stderr",
     "output_type": "stream",
     "text": [
      "32000it [18:31:50,  4.06it/s]"
     ]
    },
    {
     "name": "stdout",
     "output_type": "stream",
     "text": [
      "| epoch   1 | 32000/32580 batches | loss    1.424 \n"
     ]
    },
    {
     "name": "stderr",
     "output_type": "stream",
     "text": [
      "32001it [18:31:51,  2.28it/s]"
     ]
    },
    {
     "name": "stdout",
     "output_type": "stream",
     "text": [
      "money: creation, seen, able, made, support, return, much, fact, said, order\n",
      "lion: reason, course, complete, medicine, equilibrium, failure, return, framework, carry, russia\n",
      "africa: germany, india, europe, america, nine, kingdom, north, china, united, south\n",
      "musician: actress, actor, author, writer, poet, composer, singer, kingdom, canadian, nine\n",
      "dance: music, external, history, traditional, original, early, battle, united, able, popular\n",
      "\n",
      "\n"
     ]
    },
    {
     "name": "stderr",
     "output_type": "stream",
     "text": [
      "32501it [18:33:51,  3.50it/s]"
     ]
    },
    {
     "name": "stdout",
     "output_type": "stream",
     "text": [
      "| epoch   1 | 32500/32580 batches | loss    1.415 \n",
      "money: seen, creation, able, made, much, support, return, fact, order, said\n",
      "lion: reason, course, complete, failure, equilibrium, medicine, return, carry, framework, russia\n",
      "africa: america, india, germany, europe, kingdom, nine, north, china, united, france\n",
      "musician: actress, actor, author, writer, poet, composer, singer, kingdom, canadian, daughter\n",
      "dance: music, external, history, traditional, original, early, united, battle, popular, able\n",
      "\n",
      "\n"
     ]
    },
    {
     "name": "stderr",
     "output_type": "stream",
     "text": [
      "32580it [18:34:17,  2.05s/it]\n",
      "0it [00:00, ?it/s]"
     ]
    },
    {
     "name": "stdout",
     "output_type": "stream",
     "text": [
      "| epoch   2 |     0/32580 batches | loss    1.296 \n"
     ]
    },
    {
     "name": "stderr",
     "output_type": "stream",
     "text": [
      "1it [00:02,  2.37s/it]"
     ]
    },
    {
     "name": "stdout",
     "output_type": "stream",
     "text": [
      "money: seen, much, creation, able, made, support, return, fact, order, information\n",
      "lion: reason, course, complete, equilibrium, failure, medicine, return, carry, framework, russia\n",
      "africa: america, india, germany, europe, kingdom, nine, north, china, united, france\n",
      "musician: actress, actor, author, writer, poet, composer, singer, kingdom, canadian, nine\n",
      "dance: music, external, history, traditional, original, early, united, battle, popular, able\n",
      "\n",
      "\n"
     ]
    },
    {
     "name": "stderr",
     "output_type": "stream",
     "text": [
      "500it [02:03,  4.30it/s]"
     ]
    },
    {
     "name": "stdout",
     "output_type": "stream",
     "text": [
      "| epoch   2 |   500/32580 batches | loss    1.379 \n"
     ]
    },
    {
     "name": "stderr",
     "output_type": "stream",
     "text": [
      "501it [02:03,  3.20it/s]"
     ]
    },
    {
     "name": "stdout",
     "output_type": "stream",
     "text": [
      "money: seen, much, creation, able, made, support, return, fact, order, information\n",
      "lion: reason, course, complete, equilibrium, failure, medicine, return, carry, framework, russia\n",
      "africa: america, india, germany, europe, nine, kingdom, north, china, united, france\n",
      "musician: actress, actor, author, writer, poet, composer, singer, kingdom, canadian, nine\n",
      "dance: music, external, history, traditional, original, early, united, battle, popular, able\n",
      "\n",
      "\n"
     ]
    },
    {
     "name": "stderr",
     "output_type": "stream",
     "text": [
      "1000it [04:02,  4.26it/s]"
     ]
    },
    {
     "name": "stdout",
     "output_type": "stream",
     "text": [
      "| epoch   2 |  1000/32580 batches | loss    1.375 \n"
     ]
    },
    {
     "name": "stderr",
     "output_type": "stream",
     "text": [
      "1001it [04:03,  3.23it/s]"
     ]
    },
    {
     "name": "stdout",
     "output_type": "stream",
     "text": [
      "money: seen, much, creation, able, made, support, return, fact, order, information\n",
      "lion: reason, course, complete, equilibrium, failure, medicine, return, carry, framework, russia\n",
      "africa: america, india, germany, europe, kingdom, nine, north, china, united, france\n",
      "musician: actress, actor, author, writer, poet, composer, singer, kingdom, canadian, nine\n",
      "dance: music, external, history, traditional, original, early, united, battle, popular, able\n",
      "\n",
      "\n"
     ]
    },
    {
     "name": "stderr",
     "output_type": "stream",
     "text": [
      "1500it [06:06,  3.37it/s]"
     ]
    },
    {
     "name": "stdout",
     "output_type": "stream",
     "text": [
      "| epoch   2 |  1500/32580 batches | loss    1.370 \n"
     ]
    },
    {
     "name": "stderr",
     "output_type": "stream",
     "text": [
      "1501it [06:07,  2.20it/s]"
     ]
    },
    {
     "name": "stdout",
     "output_type": "stream",
     "text": [
      "money: seen, creation, much, able, made, return, support, fact, information, order\n",
      "lion: reason, course, equilibrium, failure, complete, medicine, return, carry, framework, russia\n",
      "africa: america, india, germany, europe, kingdom, nine, north, china, united, france\n",
      "musician: actress, actor, author, writer, poet, composer, singer, kingdom, canadian, nine\n",
      "dance: music, external, history, traditional, original, early, united, battle, popular, able\n",
      "\n",
      "\n"
     ]
    },
    {
     "name": "stderr",
     "output_type": "stream",
     "text": [
      "2000it [08:19,  3.77it/s]"
     ]
    },
    {
     "name": "stdout",
     "output_type": "stream",
     "text": [
      "| epoch   2 |  2000/32580 batches | loss    1.372 \n"
     ]
    },
    {
     "name": "stderr",
     "output_type": "stream",
     "text": [
      "2001it [08:19,  2.38it/s]"
     ]
    },
    {
     "name": "stdout",
     "output_type": "stream",
     "text": [
      "money: seen, creation, much, able, made, support, return, fact, information, order\n",
      "lion: reason, course, equilibrium, failure, complete, medicine, return, carry, framework, russia\n",
      "africa: america, india, germany, europe, kingdom, nine, north, china, united, france\n",
      "musician: actress, actor, author, writer, poet, composer, singer, kingdom, canadian, nine\n",
      "dance: music, external, history, traditional, original, early, united, battle, popular, able\n",
      "\n",
      "\n"
     ]
    },
    {
     "name": "stderr",
     "output_type": "stream",
     "text": [
      "2500it [10:28,  3.84it/s]"
     ]
    },
    {
     "name": "stdout",
     "output_type": "stream",
     "text": [
      "| epoch   2 |  2500/32580 batches | loss    1.369 \n"
     ]
    },
    {
     "name": "stderr",
     "output_type": "stream",
     "text": [
      "2501it [10:29,  2.33it/s]"
     ]
    },
    {
     "name": "stdout",
     "output_type": "stream",
     "text": [
      "money: creation, seen, much, able, made, return, support, fact, information, order\n",
      "lion: reason, course, complete, failure, equilibrium, medicine, return, carry, framework, russia\n",
      "africa: america, india, germany, europe, kingdom, nine, north, china, united, france\n",
      "musician: actress, actor, author, writer, poet, composer, singer, kingdom, canadian, nine\n",
      "dance: music, external, history, traditional, original, early, united, battle, popular, able\n",
      "\n",
      "\n"
     ]
    },
    {
     "name": "stderr",
     "output_type": "stream",
     "text": [
      "3000it [12:37,  3.92it/s]"
     ]
    },
    {
     "name": "stdout",
     "output_type": "stream",
     "text": [
      "| epoch   2 |  3000/32580 batches | loss    1.368 \n"
     ]
    },
    {
     "name": "stderr",
     "output_type": "stream",
     "text": [
      "3001it [12:38,  3.10it/s]"
     ]
    },
    {
     "name": "stdout",
     "output_type": "stream",
     "text": [
      "money: creation, seen, much, able, made, return, support, fact, information, order\n",
      "lion: reason, course, failure, equilibrium, complete, medicine, return, carry, framework, russia\n",
      "africa: america, india, germany, europe, kingdom, nine, north, china, united, france\n",
      "musician: actress, actor, author, writer, poet, composer, singer, kingdom, canadian, nine\n",
      "dance: music, external, history, traditional, original, early, united, battle, popular, able\n",
      "\n",
      "\n"
     ]
    },
    {
     "name": "stderr",
     "output_type": "stream",
     "text": [
      "3500it [14:49,  3.91it/s]"
     ]
    },
    {
     "name": "stdout",
     "output_type": "stream",
     "text": [
      "| epoch   2 |  3500/32580 batches | loss    1.363 \n"
     ]
    },
    {
     "name": "stderr",
     "output_type": "stream",
     "text": [
      "3501it [14:50,  2.10it/s]"
     ]
    },
    {
     "name": "stdout",
     "output_type": "stream",
     "text": [
      "money: seen, creation, much, able, made, return, support, fact, information, order\n",
      "lion: reason, course, failure, equilibrium, complete, medicine, return, carry, framework, russia\n",
      "africa: america, india, germany, europe, kingdom, nine, north, china, united, france\n",
      "musician: actress, actor, author, writer, poet, composer, singer, kingdom, canadian, nine\n",
      "dance: music, external, history, traditional, original, early, united, battle, popular, able\n",
      "\n",
      "\n"
     ]
    },
    {
     "name": "stderr",
     "output_type": "stream",
     "text": [
      "4000it [17:07,  3.48it/s]"
     ]
    },
    {
     "name": "stdout",
     "output_type": "stream",
     "text": [
      "| epoch   2 |  4000/32580 batches | loss    1.364 \n"
     ]
    },
    {
     "name": "stderr",
     "output_type": "stream",
     "text": [
      "4001it [17:08,  1.90it/s]"
     ]
    },
    {
     "name": "stdout",
     "output_type": "stream",
     "text": [
      "money: seen, creation, much, able, made, return, support, fact, information, order\n",
      "lion: reason, course, failure, equilibrium, complete, medicine, return, carry, framework, russia\n",
      "africa: america, india, germany, europe, kingdom, nine, north, china, united, france\n",
      "musician: actress, actor, author, writer, poet, composer, singer, kingdom, canadian, nine\n",
      "dance: music, external, history, traditional, original, early, united, battle, popular, able\n",
      "\n",
      "\n"
     ]
    },
    {
     "name": "stderr",
     "output_type": "stream",
     "text": [
      "4500it [19:18,  3.78it/s]"
     ]
    },
    {
     "name": "stdout",
     "output_type": "stream",
     "text": [
      "| epoch   2 |  4500/32580 batches | loss    1.364 \n"
     ]
    },
    {
     "name": "stderr",
     "output_type": "stream",
     "text": [
      "4501it [19:19,  2.47it/s]"
     ]
    },
    {
     "name": "stdout",
     "output_type": "stream",
     "text": [
      "money: seen, creation, much, able, made, return, support, fact, information, order\n",
      "lion: reason, course, failure, complete, equilibrium, medicine, return, carry, framework, russia\n",
      "africa: america, india, germany, europe, kingdom, nine, north, china, united, france\n",
      "musician: actress, actor, author, writer, poet, composer, singer, kingdom, canadian, nine\n",
      "dance: music, external, history, traditional, original, early, united, battle, popular, able\n",
      "\n",
      "\n"
     ]
    },
    {
     "name": "stderr",
     "output_type": "stream",
     "text": [
      "5000it [21:27,  3.86it/s]"
     ]
    },
    {
     "name": "stdout",
     "output_type": "stream",
     "text": [
      "| epoch   2 |  5000/32580 batches | loss    1.361 \n"
     ]
    },
    {
     "name": "stderr",
     "output_type": "stream",
     "text": [
      "5001it [21:28,  2.75it/s]"
     ]
    },
    {
     "name": "stdout",
     "output_type": "stream",
     "text": [
      "money: seen, creation, much, able, made, return, support, fact, information, order\n",
      "lion: reason, course, failure, complete, equilibrium, medicine, return, framework, carry, russia\n",
      "africa: india, america, germany, europe, kingdom, nine, north, china, united, france\n",
      "musician: actress, actor, author, writer, poet, composer, singer, kingdom, canadian, nine\n",
      "dance: music, external, history, traditional, original, early, united, battle, popular, able\n",
      "\n",
      "\n"
     ]
    },
    {
     "name": "stderr",
     "output_type": "stream",
     "text": [
      "5500it [23:36,  3.82it/s]"
     ]
    },
    {
     "name": "stdout",
     "output_type": "stream",
     "text": [
      "| epoch   2 |  5500/32580 batches | loss    1.369 \n"
     ]
    },
    {
     "name": "stderr",
     "output_type": "stream",
     "text": [
      "5501it [23:37,  2.65it/s]"
     ]
    },
    {
     "name": "stdout",
     "output_type": "stream",
     "text": [
      "money: creation, seen, much, able, made, return, support, fact, information, order\n",
      "lion: reason, course, failure, complete, equilibrium, medicine, return, framework, carry, russia\n",
      "africa: america, india, germany, europe, kingdom, nine, north, china, united, france\n",
      "musician: actress, actor, author, writer, poet, composer, singer, kingdom, nine, canadian\n",
      "dance: music, external, traditional, history, original, early, united, popular, battle, able\n",
      "\n",
      "\n"
     ]
    },
    {
     "name": "stderr",
     "output_type": "stream",
     "text": [
      "6001it [25:47,  3.31it/s]"
     ]
    },
    {
     "name": "stdout",
     "output_type": "stream",
     "text": [
      "| epoch   2 |  6000/32580 batches | loss    1.367 \n",
      "money: creation, seen, much, able, made, return, support, fact, information, order\n",
      "lion: reason, course, failure, complete, equilibrium, medicine, return, framework, carry, russia\n",
      "africa: india, america, germany, europe, kingdom, nine, china, north, united, france\n",
      "musician: actress, actor, author, writer, poet, composer, singer, kingdom, nine, canadian\n",
      "dance: music, external, traditional, history, original, early, united, popular, battle, able\n",
      "\n",
      "\n"
     ]
    },
    {
     "name": "stderr",
     "output_type": "stream",
     "text": [
      "6500it [28:03,  3.61it/s]"
     ]
    },
    {
     "name": "stdout",
     "output_type": "stream",
     "text": [
      "| epoch   2 |  6500/32580 batches | loss    1.362 \n"
     ]
    },
    {
     "name": "stderr",
     "output_type": "stream",
     "text": [
      "6501it [28:04,  2.15it/s]"
     ]
    },
    {
     "name": "stdout",
     "output_type": "stream",
     "text": [
      "money: creation, seen, much, able, made, return, support, fact, information, order\n",
      "lion: reason, course, failure, complete, equilibrium, medicine, return, framework, carry, russia\n",
      "africa: america, india, germany, europe, kingdom, nine, china, north, united, france\n",
      "musician: actress, actor, author, writer, poet, composer, singer, kingdom, nine, canadian\n",
      "dance: music, external, traditional, history, original, early, united, popular, battle, able\n",
      "\n",
      "\n"
     ]
    },
    {
     "name": "stderr",
     "output_type": "stream",
     "text": [
      "7000it [30:16,  3.87it/s]"
     ]
    },
    {
     "name": "stdout",
     "output_type": "stream",
     "text": [
      "| epoch   2 |  7000/32580 batches | loss    1.358 \n"
     ]
    },
    {
     "name": "stderr",
     "output_type": "stream",
     "text": [
      "7001it [30:17,  1.87it/s]"
     ]
    },
    {
     "name": "stdout",
     "output_type": "stream",
     "text": [
      "money: creation, seen, much, able, made, return, support, fact, information, order\n",
      "lion: reason, course, failure, complete, equilibrium, medicine, return, framework, carry, russia\n",
      "africa: america, india, germany, europe, kingdom, nine, china, north, united, france\n",
      "musician: actress, actor, author, writer, poet, composer, singer, kingdom, nine, canadian\n",
      "dance: music, external, traditional, history, original, early, united, popular, battle, classical\n",
      "\n",
      "\n"
     ]
    },
    {
     "name": "stderr",
     "output_type": "stream",
     "text": [
      "7500it [33:36,  3.86it/s]"
     ]
    },
    {
     "name": "stdout",
     "output_type": "stream",
     "text": [
      "| epoch   2 |  7500/32580 batches | loss    1.357 \n"
     ]
    },
    {
     "name": "stderr",
     "output_type": "stream",
     "text": [
      "7501it [33:36,  2.98it/s]"
     ]
    },
    {
     "name": "stdout",
     "output_type": "stream",
     "text": [
      "money: creation, much, seen, able, made, return, support, fact, order, information\n",
      "lion: reason, course, failure, medicine, complete, equilibrium, return, framework, carry, russia\n",
      "africa: america, india, germany, europe, kingdom, nine, china, north, united, france\n",
      "musician: actress, actor, author, writer, poet, composer, singer, kingdom, canadian, nine\n",
      "dance: music, external, traditional, history, original, early, united, popular, battle, classical\n",
      "\n",
      "\n"
     ]
    },
    {
     "name": "stderr",
     "output_type": "stream",
     "text": [
      "8000it [36:00,  3.73it/s]"
     ]
    },
    {
     "name": "stdout",
     "output_type": "stream",
     "text": [
      "| epoch   2 |  8000/32580 batches | loss    1.361 \n"
     ]
    },
    {
     "name": "stderr",
     "output_type": "stream",
     "text": [
      "8001it [36:00,  3.00it/s]"
     ]
    },
    {
     "name": "stdout",
     "output_type": "stream",
     "text": [
      "money: creation, much, seen, able, made, return, support, fact, information, order\n",
      "lion: reason, course, failure, equilibrium, medicine, complete, return, framework, carry, russia\n",
      "africa: america, india, germany, europe, kingdom, nine, china, north, united, france\n",
      "musician: actress, actor, author, writer, poet, composer, singer, kingdom, nine, canadian\n",
      "dance: music, external, traditional, original, history, early, united, popular, battle, classical\n",
      "\n",
      "\n"
     ]
    },
    {
     "name": "stderr",
     "output_type": "stream",
     "text": [
      "8500it [38:18,  3.71it/s]"
     ]
    },
    {
     "name": "stdout",
     "output_type": "stream",
     "text": [
      "| epoch   2 |  8500/32580 batches | loss    1.362 \n"
     ]
    },
    {
     "name": "stderr",
     "output_type": "stream",
     "text": [
      "8501it [38:19,  2.39it/s]"
     ]
    },
    {
     "name": "stdout",
     "output_type": "stream",
     "text": [
      "money: creation, much, seen, able, made, return, support, fact, order, information\n",
      "lion: reason, course, failure, medicine, equilibrium, complete, return, framework, carry, russia\n",
      "africa: america, india, germany, europe, kingdom, nine, china, north, united, france\n",
      "musician: actress, actor, author, writer, poet, composer, singer, kingdom, canadian, nine\n",
      "dance: music, external, traditional, history, original, early, popular, united, battle, classical\n",
      "\n",
      "\n"
     ]
    },
    {
     "name": "stderr",
     "output_type": "stream",
     "text": [
      "9000it [40:32,  3.43it/s]"
     ]
    },
    {
     "name": "stdout",
     "output_type": "stream",
     "text": [
      "| epoch   2 |  9000/32580 batches | loss    1.362 \n"
     ]
    },
    {
     "name": "stderr",
     "output_type": "stream",
     "text": [
      "9001it [40:33,  2.24it/s]"
     ]
    },
    {
     "name": "stdout",
     "output_type": "stream",
     "text": [
      "money: creation, much, seen, able, made, return, support, fact, order, information\n",
      "lion: reason, course, failure, medicine, equilibrium, complete, return, framework, carry, russia\n",
      "africa: america, india, germany, europe, kingdom, nine, china, north, united, france\n",
      "musician: actress, actor, author, writer, poet, composer, singer, kingdom, canadian, nine\n",
      "dance: music, external, traditional, original, history, early, popular, united, battle, classical\n",
      "\n",
      "\n"
     ]
    },
    {
     "name": "stderr",
     "output_type": "stream",
     "text": [
      "9500it [42:50,  3.22it/s]"
     ]
    },
    {
     "name": "stdout",
     "output_type": "stream",
     "text": [
      "| epoch   2 |  9500/32580 batches | loss    1.358 \n"
     ]
    },
    {
     "name": "stderr",
     "output_type": "stream",
     "text": [
      "9501it [42:52,  1.77it/s]"
     ]
    },
    {
     "name": "stdout",
     "output_type": "stream",
     "text": [
      "money: creation, much, seen, able, made, return, support, fact, order, information\n",
      "lion: reason, course, failure, equilibrium, medicine, complete, return, framework, carry, russia\n",
      "africa: india, america, germany, europe, kingdom, china, north, nine, united, france\n",
      "musician: actress, actor, author, writer, poet, composer, singer, kingdom, canadian, nine\n",
      "dance: music, external, traditional, original, history, early, popular, united, battle, classical\n",
      "\n",
      "\n"
     ]
    },
    {
     "name": "stderr",
     "output_type": "stream",
     "text": [
      "10000it [45:10,  3.77it/s]"
     ]
    },
    {
     "name": "stdout",
     "output_type": "stream",
     "text": [
      "| epoch   2 | 10000/32580 batches | loss    1.360 \n"
     ]
    },
    {
     "name": "stderr",
     "output_type": "stream",
     "text": [
      "10001it [45:11,  2.60it/s]"
     ]
    },
    {
     "name": "stdout",
     "output_type": "stream",
     "text": [
      "money: creation, much, seen, able, made, return, support, fact, information, order\n",
      "lion: reason, course, failure, equilibrium, medicine, complete, return, framework, carry, russia\n",
      "africa: india, america, germany, europe, kingdom, china, nine, north, united, france\n",
      "musician: actress, actor, author, writer, poet, composer, singer, kingdom, canadian, nine\n",
      "dance: music, external, traditional, original, history, early, popular, united, battle, classical\n",
      "\n",
      "\n"
     ]
    },
    {
     "name": "stderr",
     "output_type": "stream",
     "text": [
      "10500it [47:28,  3.68it/s]"
     ]
    },
    {
     "name": "stdout",
     "output_type": "stream",
     "text": [
      "| epoch   2 | 10500/32580 batches | loss    1.359 \n"
     ]
    },
    {
     "name": "stderr",
     "output_type": "stream",
     "text": [
      "10501it [47:28,  2.25it/s]"
     ]
    },
    {
     "name": "stdout",
     "output_type": "stream",
     "text": [
      "money: much, creation, seen, able, made, return, support, fact, information, order\n",
      "lion: reason, course, failure, equilibrium, medicine, complete, return, framework, carry, height\n",
      "africa: india, america, germany, europe, kingdom, china, north, nine, france, united\n",
      "musician: actress, actor, author, writer, poet, composer, singer, kingdom, nine, canadian\n",
      "dance: music, external, traditional, original, history, early, popular, united, battle, classical\n",
      "\n",
      "\n"
     ]
    },
    {
     "name": "stderr",
     "output_type": "stream",
     "text": [
      "11000it [49:38,  3.82it/s]"
     ]
    },
    {
     "name": "stdout",
     "output_type": "stream",
     "text": [
      "| epoch   2 | 11000/32580 batches | loss    1.362 \n"
     ]
    },
    {
     "name": "stderr",
     "output_type": "stream",
     "text": [
      "11001it [49:39,  2.73it/s]"
     ]
    },
    {
     "name": "stdout",
     "output_type": "stream",
     "text": [
      "money: much, creation, seen, able, made, return, support, fact, information, order\n",
      "lion: reason, course, failure, equilibrium, medicine, complete, return, carry, framework, height\n",
      "africa: india, america, germany, europe, kingdom, north, china, nine, united, france\n",
      "musician: actress, actor, author, writer, poet, composer, singer, kingdom, nine, canadian\n",
      "dance: music, external, traditional, original, history, early, popular, united, battle, classical\n",
      "\n",
      "\n"
     ]
    },
    {
     "name": "stderr",
     "output_type": "stream",
     "text": [
      "11500it [51:53,  3.93it/s]"
     ]
    },
    {
     "name": "stdout",
     "output_type": "stream",
     "text": [
      "| epoch   2 | 11500/32580 batches | loss    1.356 \n"
     ]
    },
    {
     "name": "stderr",
     "output_type": "stream",
     "text": [
      "11501it [51:54,  2.09it/s]"
     ]
    },
    {
     "name": "stdout",
     "output_type": "stream",
     "text": [
      "money: much, creation, seen, able, made, return, support, fact, information, order\n",
      "lion: reason, course, failure, equilibrium, medicine, complete, return, carry, framework, height\n",
      "africa: india, america, germany, europe, kingdom, north, china, nine, france, united\n",
      "musician: actress, actor, author, writer, poet, composer, singer, kingdom, nine, canadian\n",
      "dance: music, external, traditional, original, history, early, popular, united, battle, classical\n",
      "\n",
      "\n"
     ]
    },
    {
     "name": "stderr",
     "output_type": "stream",
     "text": [
      "12000it [54:04,  3.91it/s]"
     ]
    },
    {
     "name": "stdout",
     "output_type": "stream",
     "text": [
      "| epoch   2 | 12000/32580 batches | loss    1.358 \n"
     ]
    },
    {
     "name": "stderr",
     "output_type": "stream",
     "text": [
      "12001it [54:05,  2.90it/s]"
     ]
    },
    {
     "name": "stdout",
     "output_type": "stream",
     "text": [
      "money: much, creation, seen, able, made, return, support, fact, information, order\n",
      "lion: reason, course, failure, equilibrium, medicine, complete, return, carry, framework, height\n",
      "africa: india, germany, america, europe, kingdom, china, north, nine, united, france\n",
      "musician: actress, actor, author, writer, poet, composer, singer, kingdom, nine, canadian\n",
      "dance: music, external, traditional, original, history, early, popular, united, battle, classical\n",
      "\n",
      "\n"
     ]
    },
    {
     "name": "stderr",
     "output_type": "stream",
     "text": [
      "12500it [56:15,  3.85it/s]"
     ]
    },
    {
     "name": "stdout",
     "output_type": "stream",
     "text": [
      "| epoch   2 | 12500/32580 batches | loss    1.354 \n"
     ]
    },
    {
     "name": "stderr",
     "output_type": "stream",
     "text": [
      "12501it [56:16,  2.69it/s]"
     ]
    },
    {
     "name": "stdout",
     "output_type": "stream",
     "text": [
      "money: much, creation, seen, able, made, return, support, fact, information, order\n",
      "lion: reason, course, failure, equilibrium, medicine, complete, return, carry, framework, height\n",
      "africa: india, germany, america, europe, kingdom, china, north, nine, united, france\n",
      "musician: actress, actor, author, writer, poet, composer, singer, kingdom, nine, canadian\n",
      "dance: music, external, traditional, original, history, early, popular, united, battle, classical\n",
      "\n",
      "\n"
     ]
    },
    {
     "name": "stderr",
     "output_type": "stream",
     "text": [
      "13000it [58:26,  3.86it/s]"
     ]
    },
    {
     "name": "stdout",
     "output_type": "stream",
     "text": [
      "| epoch   2 | 13000/32580 batches | loss    1.351 \n"
     ]
    },
    {
     "name": "stderr",
     "output_type": "stream",
     "text": [
      "13001it [58:27,  2.93it/s]"
     ]
    },
    {
     "name": "stdout",
     "output_type": "stream",
     "text": [
      "money: much, creation, seen, able, made, return, support, fact, information, order\n",
      "lion: reason, course, failure, equilibrium, medicine, complete, return, carry, framework, height\n",
      "africa: india, america, germany, europe, kingdom, china, north, nine, united, france\n",
      "musician: actress, actor, author, writer, poet, composer, singer, kingdom, nine, canadian\n",
      "dance: music, external, traditional, original, history, popular, early, united, battle, classical\n",
      "\n",
      "\n"
     ]
    },
    {
     "name": "stderr",
     "output_type": "stream",
     "text": [
      "13500it [1:00:36,  3.84it/s]"
     ]
    },
    {
     "name": "stdout",
     "output_type": "stream",
     "text": [
      "| epoch   2 | 13500/32580 batches | loss    1.356 \n"
     ]
    },
    {
     "name": "stderr",
     "output_type": "stream",
     "text": [
      "13501it [1:00:37,  2.93it/s]"
     ]
    },
    {
     "name": "stdout",
     "output_type": "stream",
     "text": [
      "money: much, creation, seen, able, made, return, support, fact, information, order\n",
      "lion: reason, course, failure, equilibrium, medicine, complete, return, carry, framework, height\n",
      "africa: india, america, germany, europe, kingdom, north, china, nine, france, united\n",
      "musician: actress, actor, author, writer, poet, composer, singer, kingdom, nine, canadian\n",
      "dance: music, external, traditional, original, history, popular, early, united, battle, classical\n",
      "\n",
      "\n"
     ]
    },
    {
     "name": "stderr",
     "output_type": "stream",
     "text": [
      "14000it [1:02:49,  3.92it/s]"
     ]
    },
    {
     "name": "stdout",
     "output_type": "stream",
     "text": [
      "| epoch   2 | 14000/32580 batches | loss    1.354 \n"
     ]
    },
    {
     "name": "stderr",
     "output_type": "stream",
     "text": [
      "14001it [1:02:49,  2.70it/s]"
     ]
    },
    {
     "name": "stdout",
     "output_type": "stream",
     "text": [
      "money: much, creation, seen, able, made, return, support, fact, information, order\n",
      "lion: reason, course, failure, equilibrium, medicine, complete, return, carry, framework, height\n",
      "africa: india, germany, america, europe, kingdom, north, china, nine, united, france\n",
      "musician: actress, actor, author, writer, poet, composer, singer, kingdom, canadian, nine\n",
      "dance: music, external, traditional, original, history, popular, early, united, battle, classical\n",
      "\n",
      "\n"
     ]
    },
    {
     "name": "stderr",
     "output_type": "stream",
     "text": [
      "14500it [1:05:00,  3.66it/s]"
     ]
    },
    {
     "name": "stdout",
     "output_type": "stream",
     "text": [
      "| epoch   2 | 14500/32580 batches | loss    1.355 \n"
     ]
    },
    {
     "name": "stderr",
     "output_type": "stream",
     "text": [
      "14501it [1:05:01,  2.19it/s]"
     ]
    },
    {
     "name": "stdout",
     "output_type": "stream",
     "text": [
      "money: much, creation, seen, able, made, return, support, fact, information, order\n",
      "lion: reason, course, failure, medicine, equilibrium, complete, return, carry, height, framework\n",
      "africa: india, germany, america, europe, kingdom, north, china, nine, france, united\n",
      "musician: actress, actor, author, writer, poet, composer, singer, kingdom, nine, canadian\n",
      "dance: music, external, traditional, original, history, popular, early, united, classical, battle\n",
      "\n",
      "\n"
     ]
    },
    {
     "name": "stderr",
     "output_type": "stream",
     "text": [
      "15000it [1:07:11,  3.90it/s]"
     ]
    },
    {
     "name": "stdout",
     "output_type": "stream",
     "text": [
      "| epoch   2 | 15000/32580 batches | loss    1.354 \n"
     ]
    },
    {
     "name": "stderr",
     "output_type": "stream",
     "text": [
      "15001it [1:07:12,  3.00it/s]"
     ]
    },
    {
     "name": "stdout",
     "output_type": "stream",
     "text": [
      "money: much, creation, seen, able, made, return, support, fact, information, order\n",
      "lion: reason, course, failure, medicine, equilibrium, complete, return, carry, height, framework\n",
      "africa: india, america, germany, europe, kingdom, north, china, nine, france, united\n",
      "musician: actress, actor, author, writer, poet, composer, singer, kingdom, canadian, nine\n",
      "dance: music, external, traditional, original, history, popular, early, united, battle, classical\n",
      "\n",
      "\n"
     ]
    },
    {
     "name": "stderr",
     "output_type": "stream",
     "text": [
      "15500it [1:09:21,  3.29it/s]"
     ]
    },
    {
     "name": "stdout",
     "output_type": "stream",
     "text": [
      "| epoch   2 | 15500/32580 batches | loss    1.355 \n"
     ]
    },
    {
     "name": "stderr",
     "output_type": "stream",
     "text": [
      "15501it [1:09:22,  2.41it/s]"
     ]
    },
    {
     "name": "stdout",
     "output_type": "stream",
     "text": [
      "money: much, creation, seen, able, made, return, support, fact, information, order\n",
      "lion: reason, course, failure, equilibrium, medicine, complete, return, carry, height, framework\n",
      "africa: india, america, germany, europe, kingdom, china, north, nine, france, united\n",
      "musician: actress, actor, author, writer, poet, composer, singer, kingdom, canadian, nine\n",
      "dance: music, external, traditional, original, history, popular, early, united, battle, classical\n",
      "\n",
      "\n"
     ]
    },
    {
     "name": "stderr",
     "output_type": "stream",
     "text": [
      "16000it [1:11:32,  3.31it/s]"
     ]
    },
    {
     "name": "stdout",
     "output_type": "stream",
     "text": [
      "| epoch   2 | 16000/32580 batches | loss    1.356 \n"
     ]
    },
    {
     "name": "stderr",
     "output_type": "stream",
     "text": [
      "16001it [1:11:33,  2.22it/s]"
     ]
    },
    {
     "name": "stdout",
     "output_type": "stream",
     "text": [
      "money: much, creation, seen, able, made, support, return, fact, information, order\n",
      "lion: reason, course, failure, equilibrium, medicine, complete, return, carry, height, framework\n",
      "africa: india, america, germany, europe, kingdom, china, north, nine, france, united\n",
      "musician: actress, actor, author, writer, poet, composer, singer, kingdom, canadian, nine\n",
      "dance: music, external, traditional, original, history, popular, early, united, battle, able\n",
      "\n",
      "\n"
     ]
    },
    {
     "name": "stderr",
     "output_type": "stream",
     "text": [
      "16500it [1:13:36,  3.67it/s]"
     ]
    },
    {
     "name": "stdout",
     "output_type": "stream",
     "text": [
      "| epoch   2 | 16500/32580 batches | loss    1.357 \n"
     ]
    },
    {
     "name": "stderr",
     "output_type": "stream",
     "text": [
      "16501it [1:13:37,  2.20it/s]"
     ]
    },
    {
     "name": "stdout",
     "output_type": "stream",
     "text": [
      "money: much, creation, seen, able, made, support, return, fact, information, order\n",
      "lion: reason, course, failure, equilibrium, medicine, complete, return, height, carry, framework\n",
      "africa: india, germany, america, europe, kingdom, china, north, nine, france, united\n",
      "musician: actress, actor, author, writer, poet, composer, singer, kingdom, canadian, nine\n",
      "dance: music, external, traditional, original, history, popular, early, united, battle, able\n",
      "\n",
      "\n"
     ]
    },
    {
     "name": "stderr",
     "output_type": "stream",
     "text": [
      "17000it [2:43:58,  4.21it/s] "
     ]
    },
    {
     "name": "stdout",
     "output_type": "stream",
     "text": [
      "| epoch   2 | 17000/32580 batches | loss    1.353 \n"
     ]
    },
    {
     "name": "stderr",
     "output_type": "stream",
     "text": [
      "17001it [2:43:59,  2.18it/s]"
     ]
    },
    {
     "name": "stdout",
     "output_type": "stream",
     "text": [
      "money: much, creation, seen, able, made, support, return, fact, information, order\n",
      "lion: reason, course, failure, equilibrium, medicine, complete, return, carry, height, framework\n",
      "africa: india, germany, america, europe, kingdom, china, north, nine, france, united\n",
      "musician: actress, actor, author, writer, poet, composer, singer, kingdom, canadian, nine\n",
      "dance: music, external, traditional, original, history, popular, early, united, able, battle\n",
      "\n",
      "\n"
     ]
    },
    {
     "name": "stderr",
     "output_type": "stream",
     "text": [
      "17500it [4:29:36,  4.08it/s] "
     ]
    },
    {
     "name": "stdout",
     "output_type": "stream",
     "text": [
      "| epoch   2 | 17500/32580 batches | loss    1.354 \n"
     ]
    },
    {
     "name": "stderr",
     "output_type": "stream",
     "text": [
      "17501it [4:29:36,  3.25it/s]"
     ]
    },
    {
     "name": "stdout",
     "output_type": "stream",
     "text": [
      "money: much, creation, seen, able, made, support, return, fact, information, order\n",
      "lion: reason, course, failure, equilibrium, medicine, complete, return, height, carry, framework\n",
      "africa: india, germany, america, europe, kingdom, china, north, nine, france, united\n",
      "musician: actress, actor, author, writer, poet, composer, singer, kingdom, canadian, nine\n",
      "dance: music, external, traditional, original, history, popular, early, united, able, battle\n",
      "\n",
      "\n"
     ]
    },
    {
     "name": "stderr",
     "output_type": "stream",
     "text": [
      "18000it [4:31:42,  3.96it/s]"
     ]
    },
    {
     "name": "stdout",
     "output_type": "stream",
     "text": [
      "| epoch   2 | 18000/32580 batches | loss    1.354 \n"
     ]
    },
    {
     "name": "stderr",
     "output_type": "stream",
     "text": [
      "18001it [4:31:43,  2.71it/s]"
     ]
    },
    {
     "name": "stdout",
     "output_type": "stream",
     "text": [
      "money: creation, much, seen, able, made, support, return, fact, information, order\n",
      "lion: reason, course, failure, equilibrium, medicine, complete, return, height, carry, framework\n",
      "africa: india, germany, america, europe, kingdom, china, north, nine, france, united\n",
      "musician: actress, actor, author, writer, poet, composer, singer, kingdom, canadian, nine\n",
      "dance: music, external, traditional, original, history, popular, early, united, able, classical\n",
      "\n",
      "\n"
     ]
    },
    {
     "name": "stderr",
     "output_type": "stream",
     "text": [
      "18501it [4:33:46,  3.14it/s]"
     ]
    },
    {
     "name": "stdout",
     "output_type": "stream",
     "text": [
      "| epoch   2 | 18500/32580 batches | loss    1.352 \n",
      "money: creation, much, seen, able, made, support, return, fact, information, order\n",
      "lion: reason, course, failure, equilibrium, medicine, complete, return, height, carry, framework\n",
      "africa: india, germany, america, europe, kingdom, china, north, nine, france, united\n",
      "musician: actress, actor, author, writer, poet, composer, singer, kingdom, canadian, nine\n",
      "dance: music, external, traditional, original, history, popular, early, united, able, classical\n",
      "\n",
      "\n"
     ]
    },
    {
     "name": "stderr",
     "output_type": "stream",
     "text": [
      "19000it [4:35:49,  4.06it/s]"
     ]
    },
    {
     "name": "stdout",
     "output_type": "stream",
     "text": [
      "| epoch   2 | 19000/32580 batches | loss    1.348 \n"
     ]
    },
    {
     "name": "stderr",
     "output_type": "stream",
     "text": [
      "19001it [4:35:50,  3.10it/s]"
     ]
    },
    {
     "name": "stdout",
     "output_type": "stream",
     "text": [
      "money: much, creation, seen, able, made, support, return, fact, information, order\n",
      "lion: reason, course, failure, equilibrium, medicine, complete, return, height, carry, framework\n",
      "africa: india, america, germany, europe, kingdom, china, north, nine, france, united\n",
      "musician: actress, actor, author, writer, poet, composer, singer, kingdom, canadian, nine\n",
      "dance: music, external, traditional, original, history, popular, early, united, classical, able\n",
      "\n",
      "\n"
     ]
    },
    {
     "name": "stderr",
     "output_type": "stream",
     "text": [
      "19501it [4:37:53,  3.27it/s]"
     ]
    },
    {
     "name": "stdout",
     "output_type": "stream",
     "text": [
      "| epoch   2 | 19500/32580 batches | loss    1.354 \n",
      "money: much, creation, seen, able, made, support, return, fact, information, order\n",
      "lion: reason, course, failure, equilibrium, medicine, complete, return, height, carry, framework\n",
      "africa: india, germany, america, europe, kingdom, china, north, nine, france, united\n",
      "musician: actress, actor, author, writer, poet, composer, singer, kingdom, canadian, nine\n",
      "dance: music, external, traditional, original, history, popular, early, united, classical, able\n",
      "\n",
      "\n"
     ]
    },
    {
     "name": "stderr",
     "output_type": "stream",
     "text": [
      "20001it [4:39:57,  3.48it/s]"
     ]
    },
    {
     "name": "stdout",
     "output_type": "stream",
     "text": [
      "| epoch   2 | 20000/32580 batches | loss    1.347 \n",
      "money: much, creation, seen, able, made, support, return, fact, information, order\n",
      "lion: reason, course, failure, equilibrium, medicine, complete, return, carry, height, framework\n",
      "africa: india, germany, america, europe, kingdom, china, north, nine, france, united\n",
      "musician: actress, actor, author, writer, poet, composer, singer, kingdom, canadian, nine\n",
      "dance: music, external, traditional, original, history, popular, early, united, classical, able\n",
      "\n",
      "\n"
     ]
    },
    {
     "name": "stderr",
     "output_type": "stream",
     "text": [
      "20501it [4:41:59,  3.21it/s]"
     ]
    },
    {
     "name": "stdout",
     "output_type": "stream",
     "text": [
      "| epoch   2 | 20500/32580 batches | loss    1.354 \n",
      "money: much, creation, seen, able, made, support, return, fact, information, order\n",
      "lion: reason, course, failure, equilibrium, medicine, return, complete, carry, height, framework\n",
      "africa: india, germany, america, europe, kingdom, china, north, france, nine, united\n",
      "musician: actress, actor, author, writer, poet, composer, singer, kingdom, canadian, nine\n",
      "dance: music, external, traditional, original, history, popular, early, united, classical, able\n",
      "\n",
      "\n"
     ]
    },
    {
     "name": "stderr",
     "output_type": "stream",
     "text": [
      "21000it [4:44:03,  3.96it/s]"
     ]
    },
    {
     "name": "stdout",
     "output_type": "stream",
     "text": [
      "| epoch   2 | 21000/32580 batches | loss    1.353 \n"
     ]
    },
    {
     "name": "stderr",
     "output_type": "stream",
     "text": [
      "21001it [4:44:04,  2.55it/s]"
     ]
    },
    {
     "name": "stdout",
     "output_type": "stream",
     "text": [
      "money: much, creation, seen, able, made, support, return, fact, information, order\n",
      "lion: reason, course, failure, equilibrium, medicine, return, complete, carry, height, framework\n",
      "africa: india, germany, america, europe, kingdom, china, north, nine, france, united\n",
      "musician: actress, actor, author, writer, poet, composer, singer, kingdom, canadian, nine\n",
      "dance: music, external, traditional, original, history, popular, early, united, classical, able\n",
      "\n",
      "\n"
     ]
    },
    {
     "name": "stderr",
     "output_type": "stream",
     "text": [
      "21501it [4:46:07,  3.40it/s]"
     ]
    },
    {
     "name": "stdout",
     "output_type": "stream",
     "text": [
      "| epoch   2 | 21500/32580 batches | loss    1.350 \n",
      "money: much, creation, seen, able, made, support, return, fact, information, order\n",
      "lion: reason, course, failure, equilibrium, medicine, return, complete, carry, height, framework\n",
      "africa: india, germany, america, europe, kingdom, china, north, nine, france, united\n",
      "musician: actress, actor, author, writer, poet, composer, singer, kingdom, canadian, nine\n",
      "dance: music, external, traditional, original, history, popular, early, united, classical, able\n",
      "\n",
      "\n"
     ]
    },
    {
     "name": "stderr",
     "output_type": "stream",
     "text": [
      "22001it [4:48:10,  3.37it/s]"
     ]
    },
    {
     "name": "stdout",
     "output_type": "stream",
     "text": [
      "| epoch   2 | 22000/32580 batches | loss    1.351 \n",
      "money: much, creation, seen, able, made, support, return, fact, information, order\n",
      "lion: reason, course, failure, equilibrium, medicine, complete, return, carry, height, framework\n",
      "africa: india, germany, america, europe, kingdom, china, north, nine, france, united\n",
      "musician: actress, actor, author, writer, poet, composer, singer, kingdom, canadian, nine\n",
      "dance: music, external, traditional, original, history, popular, early, classical, united, able\n",
      "\n",
      "\n"
     ]
    },
    {
     "name": "stderr",
     "output_type": "stream",
     "text": [
      "22500it [4:50:14,  4.00it/s]"
     ]
    },
    {
     "name": "stdout",
     "output_type": "stream",
     "text": [
      "| epoch   2 | 22500/32580 batches | loss    1.348 \n"
     ]
    },
    {
     "name": "stderr",
     "output_type": "stream",
     "text": [
      "22501it [4:50:15,  3.12it/s]"
     ]
    },
    {
     "name": "stdout",
     "output_type": "stream",
     "text": [
      "money: much, creation, seen, able, made, support, return, fact, information, order\n",
      "lion: reason, course, failure, equilibrium, medicine, return, complete, height, carry, framework\n",
      "africa: india, germany, america, europe, kingdom, china, north, nine, france, united\n",
      "musician: actress, actor, author, writer, poet, composer, singer, kingdom, canadian, nine\n",
      "dance: music, external, traditional, original, history, popular, early, classical, united, able\n",
      "\n",
      "\n"
     ]
    },
    {
     "name": "stderr",
     "output_type": "stream",
     "text": [
      "23000it [4:52:20,  3.96it/s]"
     ]
    },
    {
     "name": "stdout",
     "output_type": "stream",
     "text": [
      "| epoch   2 | 23000/32580 batches | loss    1.351 \n"
     ]
    },
    {
     "name": "stderr",
     "output_type": "stream",
     "text": [
      "23001it [4:52:20,  2.91it/s]"
     ]
    },
    {
     "name": "stdout",
     "output_type": "stream",
     "text": [
      "money: much, creation, seen, able, made, support, return, fact, information, order\n",
      "lion: reason, course, failure, equilibrium, medicine, return, complete, height, carry, framework\n",
      "africa: india, germany, america, europe, kingdom, china, north, nine, france, united\n",
      "musician: actress, actor, author, writer, poet, composer, singer, kingdom, canadian, nine\n",
      "dance: music, external, traditional, original, history, popular, early, classical, united, able\n",
      "\n",
      "\n"
     ]
    },
    {
     "name": "stderr",
     "output_type": "stream",
     "text": [
      "23501it [4:54:24,  3.52it/s]"
     ]
    },
    {
     "name": "stdout",
     "output_type": "stream",
     "text": [
      "| epoch   2 | 23500/32580 batches | loss    1.349 \n",
      "money: much, creation, seen, able, made, support, return, fact, information, order\n",
      "lion: reason, course, failure, medicine, equilibrium, return, complete, carry, height, framework\n",
      "africa: india, germany, america, europe, kingdom, china, north, nine, france, united\n",
      "musician: actress, actor, author, writer, poet, composer, singer, kingdom, canadian, nine\n",
      "dance: music, external, traditional, original, history, popular, early, classical, united, able\n",
      "\n",
      "\n"
     ]
    },
    {
     "name": "stderr",
     "output_type": "stream",
     "text": [
      "24001it [4:56:28,  3.18it/s]"
     ]
    },
    {
     "name": "stdout",
     "output_type": "stream",
     "text": [
      "| epoch   2 | 24000/32580 batches | loss    1.347 \n",
      "money: much, creation, seen, able, made, support, return, fact, information, position\n",
      "lion: reason, course, failure, medicine, equilibrium, return, complete, carry, height, framework\n",
      "africa: india, germany, america, europe, kingdom, china, north, nine, france, united\n",
      "musician: actress, actor, author, writer, poet, composer, singer, kingdom, canadian, nine\n",
      "dance: music, external, traditional, original, history, popular, early, classical, united, able\n",
      "\n",
      "\n"
     ]
    },
    {
     "name": "stderr",
     "output_type": "stream",
     "text": [
      "24501it [4:58:31,  3.57it/s]"
     ]
    },
    {
     "name": "stdout",
     "output_type": "stream",
     "text": [
      "| epoch   2 | 24500/32580 batches | loss    1.348 \n",
      "money: much, creation, seen, able, made, support, return, fact, information, position\n",
      "lion: reason, course, failure, medicine, equilibrium, return, complete, carry, height, framework\n",
      "africa: india, germany, america, europe, kingdom, china, north, nine, france, united\n",
      "musician: actress, actor, author, writer, poet, composer, singer, kingdom, canadian, nine\n",
      "dance: music, external, traditional, original, history, popular, early, classical, united, able\n",
      "\n",
      "\n"
     ]
    },
    {
     "name": "stderr",
     "output_type": "stream",
     "text": [
      "25000it [5:00:36,  3.99it/s]"
     ]
    },
    {
     "name": "stdout",
     "output_type": "stream",
     "text": [
      "| epoch   2 | 25000/32580 batches | loss    1.352 \n"
     ]
    },
    {
     "name": "stderr",
     "output_type": "stream",
     "text": [
      "25001it [5:00:37,  3.19it/s]"
     ]
    },
    {
     "name": "stdout",
     "output_type": "stream",
     "text": [
      "money: much, creation, seen, able, made, support, return, fact, information, position\n",
      "lion: reason, course, failure, medicine, equilibrium, return, complete, carry, height, framework\n",
      "africa: india, germany, america, europe, kingdom, china, north, nine, france, united\n",
      "musician: actress, actor, author, writer, poet, composer, singer, kingdom, canadian, nine\n",
      "dance: music, external, traditional, original, history, popular, early, classical, united, able\n",
      "\n",
      "\n"
     ]
    },
    {
     "name": "stderr",
     "output_type": "stream",
     "text": [
      "25500it [5:02:41,  3.72it/s]"
     ]
    },
    {
     "name": "stdout",
     "output_type": "stream",
     "text": [
      "| epoch   2 | 25500/32580 batches | loss    1.344 \n"
     ]
    },
    {
     "name": "stderr",
     "output_type": "stream",
     "text": [
      "25501it [5:02:42,  2.67it/s]"
     ]
    },
    {
     "name": "stdout",
     "output_type": "stream",
     "text": [
      "money: much, creation, seen, able, made, support, return, fact, information, position\n",
      "lion: reason, course, failure, medicine, equilibrium, return, complete, carry, height, framework\n",
      "africa: india, germany, america, europe, kingdom, china, north, nine, france, united\n",
      "musician: actress, actor, author, writer, poet, composer, singer, kingdom, canadian, nine\n",
      "dance: music, external, traditional, original, history, popular, early, classical, united, able\n",
      "\n",
      "\n"
     ]
    },
    {
     "name": "stderr",
     "output_type": "stream",
     "text": [
      "26000it [5:04:45,  4.15it/s]"
     ]
    },
    {
     "name": "stdout",
     "output_type": "stream",
     "text": [
      "| epoch   2 | 26000/32580 batches | loss    1.345 \n"
     ]
    },
    {
     "name": "stderr",
     "output_type": "stream",
     "text": [
      "26001it [5:04:46,  3.14it/s]"
     ]
    },
    {
     "name": "stdout",
     "output_type": "stream",
     "text": [
      "money: much, creation, seen, able, made, support, return, fact, information, position\n",
      "lion: reason, course, failure, medicine, equilibrium, return, complete, carry, height, framework\n",
      "africa: india, germany, america, europe, kingdom, china, north, nine, france, united\n",
      "musician: actress, actor, author, writer, poet, composer, singer, kingdom, canadian, nine\n",
      "dance: music, external, traditional, original, history, popular, early, classical, united, able\n",
      "\n",
      "\n"
     ]
    },
    {
     "name": "stderr",
     "output_type": "stream",
     "text": [
      "26501it [5:06:49,  3.28it/s]"
     ]
    },
    {
     "name": "stdout",
     "output_type": "stream",
     "text": [
      "| epoch   2 | 26500/32580 batches | loss    1.348 \n",
      "money: much, creation, seen, able, support, made, return, fact, information, position\n",
      "lion: reason, course, failure, medicine, equilibrium, return, complete, height, carry, framework\n",
      "africa: india, germany, america, europe, kingdom, china, north, nine, france, south\n",
      "musician: actress, actor, author, writer, poet, composer, singer, kingdom, canadian, nine\n",
      "dance: music, external, traditional, original, history, popular, early, classical, united, able\n",
      "\n",
      "\n"
     ]
    },
    {
     "name": "stderr",
     "output_type": "stream",
     "text": [
      "27000it [5:08:51,  4.09it/s]"
     ]
    },
    {
     "name": "stdout",
     "output_type": "stream",
     "text": [
      "| epoch   2 | 27000/32580 batches | loss    1.344 \n"
     ]
    },
    {
     "name": "stderr",
     "output_type": "stream",
     "text": [
      "27001it [5:08:51,  2.87it/s]"
     ]
    },
    {
     "name": "stdout",
     "output_type": "stream",
     "text": [
      "money: much, creation, seen, able, made, support, return, fact, information, position\n",
      "lion: reason, course, failure, medicine, equilibrium, return, complete, carry, height, framework\n",
      "africa: india, germany, america, europe, kingdom, china, north, france, nine, south\n",
      "musician: actress, actor, author, writer, poet, composer, singer, kingdom, canadian, nine\n",
      "dance: music, external, traditional, original, history, popular, early, classical, united, able\n",
      "\n",
      "\n"
     ]
    },
    {
     "name": "stderr",
     "output_type": "stream",
     "text": [
      "27500it [5:10:53,  3.91it/s]"
     ]
    },
    {
     "name": "stdout",
     "output_type": "stream",
     "text": [
      "| epoch   2 | 27500/32580 batches | loss    1.344 \n"
     ]
    },
    {
     "name": "stderr",
     "output_type": "stream",
     "text": [
      "27501it [5:10:54,  3.18it/s]"
     ]
    },
    {
     "name": "stdout",
     "output_type": "stream",
     "text": [
      "money: much, creation, seen, able, support, made, return, fact, information, position\n",
      "lion: reason, course, failure, medicine, equilibrium, return, complete, height, carry, framework\n",
      "africa: india, germany, america, europe, kingdom, china, north, france, nine, united\n",
      "musician: actress, actor, author, writer, poet, composer, singer, kingdom, canadian, nine\n",
      "dance: music, external, traditional, original, history, popular, early, classical, united, able\n",
      "\n",
      "\n"
     ]
    },
    {
     "name": "stderr",
     "output_type": "stream",
     "text": [
      "28001it [5:12:56,  3.51it/s]"
     ]
    },
    {
     "name": "stdout",
     "output_type": "stream",
     "text": [
      "| epoch   2 | 28000/32580 batches | loss    1.348 \n",
      "money: much, creation, seen, able, support, made, return, fact, information, position\n",
      "lion: reason, course, failure, medicine, equilibrium, return, complete, height, carry, framework\n",
      "africa: india, germany, america, europe, kingdom, china, north, france, nine, united\n",
      "musician: actress, actor, author, writer, poet, composer, singer, kingdom, canadian, nine\n",
      "dance: music, external, traditional, original, history, popular, early, classical, united, able\n",
      "\n",
      "\n"
     ]
    },
    {
     "name": "stderr",
     "output_type": "stream",
     "text": [
      "28501it [5:14:58,  3.50it/s]"
     ]
    },
    {
     "name": "stdout",
     "output_type": "stream",
     "text": [
      "| epoch   2 | 28500/32580 batches | loss    1.346 \n",
      "money: much, creation, seen, able, support, made, fact, return, information, order\n",
      "lion: reason, course, failure, equilibrium, medicine, return, complete, height, carry, framework\n",
      "africa: india, germany, america, europe, kingdom, china, north, france, nine, south\n",
      "musician: actress, actor, author, writer, poet, composer, singer, kingdom, canadian, nine\n",
      "dance: music, external, traditional, original, popular, history, early, classical, united, able\n",
      "\n",
      "\n"
     ]
    },
    {
     "name": "stderr",
     "output_type": "stream",
     "text": [
      "29001it [5:17:00,  3.42it/s]"
     ]
    },
    {
     "name": "stdout",
     "output_type": "stream",
     "text": [
      "| epoch   2 | 29000/32580 batches | loss    1.346 \n",
      "money: much, creation, seen, able, support, made, fact, return, information, position\n",
      "lion: reason, course, failure, equilibrium, medicine, return, height, complete, carry, framework\n",
      "africa: india, germany, america, europe, kingdom, china, north, france, nine, south\n",
      "musician: actress, actor, author, writer, poet, composer, singer, kingdom, canadian, nine\n",
      "dance: music, external, traditional, original, popular, early, history, classical, united, able\n",
      "\n",
      "\n"
     ]
    },
    {
     "name": "stderr",
     "output_type": "stream",
     "text": [
      "29501it [5:19:02,  3.54it/s]"
     ]
    },
    {
     "name": "stdout",
     "output_type": "stream",
     "text": [
      "| epoch   2 | 29500/32580 batches | loss    1.348 \n",
      "money: much, creation, seen, able, support, made, fact, return, information, position\n",
      "lion: reason, course, failure, equilibrium, medicine, return, height, complete, carry, framework\n",
      "africa: india, germany, america, europe, kingdom, china, north, france, nine, south\n",
      "musician: actress, actor, author, writer, poet, composer, singer, kingdom, canadian, nine\n",
      "dance: music, external, traditional, original, popular, history, early, classical, united, able\n",
      "\n",
      "\n"
     ]
    },
    {
     "name": "stderr",
     "output_type": "stream",
     "text": [
      "30000it [5:21:06,  4.05it/s]"
     ]
    },
    {
     "name": "stdout",
     "output_type": "stream",
     "text": [
      "| epoch   2 | 30000/32580 batches | loss    1.340 \n"
     ]
    },
    {
     "name": "stderr",
     "output_type": "stream",
     "text": [
      "30001it [5:21:06,  3.09it/s]"
     ]
    },
    {
     "name": "stdout",
     "output_type": "stream",
     "text": [
      "money: much, creation, seen, able, support, made, fact, return, information, position\n",
      "lion: reason, course, failure, equilibrium, medicine, return, height, complete, carry, framework\n",
      "africa: india, germany, america, europe, kingdom, china, north, france, nine, south\n",
      "musician: actress, actor, author, writer, poet, composer, singer, kingdom, canadian, nine\n",
      "dance: music, external, traditional, original, popular, history, early, classical, united, able\n",
      "\n",
      "\n"
     ]
    },
    {
     "name": "stderr",
     "output_type": "stream",
     "text": [
      "30501it [5:23:11,  3.47it/s]"
     ]
    },
    {
     "name": "stdout",
     "output_type": "stream",
     "text": [
      "| epoch   2 | 30500/32580 batches | loss    1.346 \n",
      "money: much, creation, seen, able, support, made, fact, return, information, position\n",
      "lion: reason, course, failure, equilibrium, medicine, return, height, complete, carry, framework\n",
      "africa: india, germany, america, europe, kingdom, china, north, france, nine, south\n",
      "musician: actress, actor, author, writer, poet, composer, singer, kingdom, canadian, nine\n",
      "dance: music, external, traditional, original, popular, history, early, classical, united, able\n",
      "\n",
      "\n"
     ]
    },
    {
     "name": "stderr",
     "output_type": "stream",
     "text": [
      "31001it [5:25:15,  3.39it/s]"
     ]
    },
    {
     "name": "stdout",
     "output_type": "stream",
     "text": [
      "| epoch   2 | 31000/32580 batches | loss    1.342 \n",
      "money: much, creation, seen, able, support, made, fact, return, information, position\n",
      "lion: reason, course, failure, equilibrium, medicine, return, height, complete, carry, framework\n",
      "africa: india, germany, america, europe, kingdom, china, north, france, nine, south\n",
      "musician: actress, actor, author, writer, poet, composer, singer, kingdom, nine, canadian\n",
      "dance: music, external, traditional, original, popular, history, early, classical, united, able\n",
      "\n",
      "\n"
     ]
    },
    {
     "name": "stderr",
     "output_type": "stream",
     "text": [
      "31500it [5:27:20,  4.02it/s]"
     ]
    },
    {
     "name": "stdout",
     "output_type": "stream",
     "text": [
      "| epoch   2 | 31500/32580 batches | loss    1.344 \n"
     ]
    },
    {
     "name": "stderr",
     "output_type": "stream",
     "text": [
      "31501it [5:27:20,  2.98it/s]"
     ]
    },
    {
     "name": "stdout",
     "output_type": "stream",
     "text": [
      "money: much, creation, seen, able, support, made, fact, return, information, position\n",
      "lion: reason, course, failure, equilibrium, medicine, return, height, complete, carry, framework\n",
      "africa: india, germany, america, europe, kingdom, china, north, france, nine, south\n",
      "musician: actress, actor, author, writer, poet, composer, singer, kingdom, nine, canadian\n",
      "dance: music, external, traditional, original, popular, history, early, classical, united, able\n",
      "\n",
      "\n"
     ]
    },
    {
     "name": "stderr",
     "output_type": "stream",
     "text": [
      "32001it [5:29:25,  3.45it/s]"
     ]
    },
    {
     "name": "stdout",
     "output_type": "stream",
     "text": [
      "| epoch   2 | 32000/32580 batches | loss    1.344 \n",
      "money: much, creation, seen, able, support, return, fact, made, information, position\n",
      "lion: reason, course, failure, equilibrium, medicine, return, height, complete, carry, framework\n",
      "africa: india, germany, america, europe, kingdom, china, north, france, nine, south\n",
      "musician: actress, actor, author, writer, poet, composer, singer, kingdom, nine, canadian\n",
      "dance: music, external, traditional, original, popular, history, early, classical, united, able\n",
      "\n",
      "\n"
     ]
    },
    {
     "name": "stderr",
     "output_type": "stream",
     "text": [
      "32500it [5:31:30,  4.10it/s]"
     ]
    },
    {
     "name": "stdout",
     "output_type": "stream",
     "text": [
      "| epoch   2 | 32500/32580 batches | loss    1.342 \n"
     ]
    },
    {
     "name": "stderr",
     "output_type": "stream",
     "text": [
      "32501it [5:31:31,  3.07it/s]"
     ]
    },
    {
     "name": "stdout",
     "output_type": "stream",
     "text": [
      "money: much, creation, seen, able, support, fact, return, made, information, position\n",
      "lion: reason, course, failure, equilibrium, medicine, return, height, complete, carry, framework\n",
      "africa: india, germany, america, europe, kingdom, china, north, france, nine, south\n",
      "musician: actress, actor, author, writer, poet, composer, singer, kingdom, nine, canadian\n",
      "dance: music, external, traditional, original, popular, history, early, classical, united, able\n",
      "\n",
      "\n"
     ]
    },
    {
     "name": "stderr",
     "output_type": "stream",
     "text": [
      "32580it [5:31:56,  1.64it/s]\n",
      "0it [00:00, ?it/s]"
     ]
    },
    {
     "name": "stdout",
     "output_type": "stream",
     "text": [
      "| epoch   3 |     0/32580 batches | loss    1.304 \n"
     ]
    },
    {
     "name": "stderr",
     "output_type": "stream",
     "text": [
      "1it [00:02,  2.28s/it]"
     ]
    },
    {
     "name": "stdout",
     "output_type": "stream",
     "text": [
      "money: much, creation, seen, able, support, return, fact, made, information, position\n",
      "lion: reason, course, failure, equilibrium, medicine, return, height, complete, carry, framework\n",
      "africa: india, germany, america, europe, kingdom, china, north, france, nine, south\n",
      "musician: actress, actor, author, writer, poet, composer, singer, kingdom, nine, canadian\n",
      "dance: music, external, traditional, original, popular, history, early, classical, united, able\n",
      "\n",
      "\n"
     ]
    },
    {
     "name": "stderr",
     "output_type": "stream",
     "text": [
      "500it [02:06,  4.09it/s]"
     ]
    },
    {
     "name": "stdout",
     "output_type": "stream",
     "text": [
      "| epoch   3 |   500/32580 batches | loss    1.334 \n"
     ]
    },
    {
     "name": "stderr",
     "output_type": "stream",
     "text": [
      "501it [02:06,  2.86it/s]"
     ]
    },
    {
     "name": "stdout",
     "output_type": "stream",
     "text": [
      "money: much, creation, seen, able, support, return, fact, made, information, position\n",
      "lion: reason, course, failure, equilibrium, medicine, return, height, complete, carry, framework\n",
      "africa: india, germany, america, europe, kingdom, china, north, france, nine, south\n",
      "musician: actress, actor, author, writer, poet, composer, singer, kingdom, nine, canadian\n",
      "dance: music, external, traditional, original, popular, history, early, classical, united, able\n",
      "\n",
      "\n"
     ]
    },
    {
     "name": "stderr",
     "output_type": "stream",
     "text": [
      "1001it [04:10,  3.27it/s]"
     ]
    },
    {
     "name": "stdout",
     "output_type": "stream",
     "text": [
      "| epoch   3 |  1000/32580 batches | loss    1.337 \n",
      "money: much, creation, seen, able, support, return, fact, made, information, position\n",
      "lion: reason, course, failure, equilibrium, medicine, return, height, complete, carry, framework\n",
      "africa: india, germany, america, europe, kingdom, china, north, france, nine, south\n",
      "musician: actress, actor, author, writer, poet, composer, singer, kingdom, nine, canadian\n",
      "dance: music, external, traditional, original, popular, history, early, classical, united, able\n",
      "\n",
      "\n"
     ]
    },
    {
     "name": "stderr",
     "output_type": "stream",
     "text": [
      "1500it [06:16,  4.09it/s]"
     ]
    },
    {
     "name": "stdout",
     "output_type": "stream",
     "text": [
      "| epoch   3 |  1500/32580 batches | loss    1.334 \n"
     ]
    },
    {
     "name": "stderr",
     "output_type": "stream",
     "text": [
      "1501it [06:17,  2.69it/s]"
     ]
    },
    {
     "name": "stdout",
     "output_type": "stream",
     "text": [
      "money: much, creation, seen, able, support, return, fact, made, information, position\n",
      "lion: reason, course, failure, equilibrium, medicine, return, height, complete, carry, framework\n",
      "africa: india, germany, america, europe, kingdom, china, north, france, nine, south\n",
      "musician: actress, actor, author, writer, poet, composer, singer, kingdom, nine, canadian\n",
      "dance: music, external, traditional, original, popular, history, early, classical, united, able\n",
      "\n",
      "\n"
     ]
    },
    {
     "name": "stderr",
     "output_type": "stream",
     "text": [
      "2000it [08:21,  4.01it/s]"
     ]
    },
    {
     "name": "stdout",
     "output_type": "stream",
     "text": [
      "| epoch   3 |  2000/32580 batches | loss    1.336 \n"
     ]
    },
    {
     "name": "stderr",
     "output_type": "stream",
     "text": [
      "2001it [08:21,  3.04it/s]"
     ]
    },
    {
     "name": "stdout",
     "output_type": "stream",
     "text": [
      "money: much, creation, seen, able, support, return, fact, made, information, position\n",
      "lion: reason, course, failure, equilibrium, medicine, return, height, complete, carry, framework\n",
      "africa: india, germany, america, europe, kingdom, china, north, france, nine, south\n",
      "musician: actress, actor, author, writer, poet, composer, singer, kingdom, nine, canadian\n",
      "dance: music, external, traditional, original, popular, history, early, classical, united, able\n",
      "\n",
      "\n"
     ]
    },
    {
     "name": "stderr",
     "output_type": "stream",
     "text": [
      "2500it [10:25,  4.07it/s]"
     ]
    },
    {
     "name": "stdout",
     "output_type": "stream",
     "text": [
      "| epoch   3 |  2500/32580 batches | loss    1.336 \n"
     ]
    },
    {
     "name": "stderr",
     "output_type": "stream",
     "text": [
      "2501it [10:26,  3.19it/s]"
     ]
    },
    {
     "name": "stdout",
     "output_type": "stream",
     "text": [
      "money: much, creation, seen, able, support, return, fact, made, information, position\n",
      "lion: reason, course, failure, equilibrium, medicine, return, height, complete, carry, framework\n",
      "africa: india, germany, america, europe, kingdom, china, north, france, nine, south\n",
      "musician: actress, actor, author, writer, poet, composer, singer, kingdom, nine, canadian\n",
      "dance: music, external, traditional, original, popular, history, early, classical, united, able\n",
      "\n",
      "\n"
     ]
    },
    {
     "name": "stderr",
     "output_type": "stream",
     "text": [
      "3000it [12:30,  4.15it/s]"
     ]
    },
    {
     "name": "stdout",
     "output_type": "stream",
     "text": [
      "| epoch   3 |  3000/32580 batches | loss    1.336 \n"
     ]
    },
    {
     "name": "stderr",
     "output_type": "stream",
     "text": [
      "3001it [12:30,  3.12it/s]"
     ]
    },
    {
     "name": "stdout",
     "output_type": "stream",
     "text": [
      "money: much, creation, seen, able, support, fact, return, made, information, position\n",
      "lion: reason, course, failure, equilibrium, medicine, return, height, complete, carry, framework\n",
      "africa: india, germany, america, europe, kingdom, china, north, france, nine, south\n",
      "musician: actress, actor, author, writer, poet, composer, singer, kingdom, nine, canadian\n",
      "dance: music, external, traditional, original, popular, history, early, classical, united, able\n",
      "\n",
      "\n"
     ]
    },
    {
     "name": "stderr",
     "output_type": "stream",
     "text": [
      "3501it [14:34,  3.43it/s]"
     ]
    },
    {
     "name": "stdout",
     "output_type": "stream",
     "text": [
      "| epoch   3 |  3500/32580 batches | loss    1.330 \n",
      "money: much, creation, seen, able, support, fact, return, made, information, position\n",
      "lion: reason, course, failure, equilibrium, medicine, return, height, complete, carry, framework\n",
      "africa: india, germany, america, europe, kingdom, china, north, france, nine, south\n",
      "musician: actress, actor, author, writer, poet, composer, singer, kingdom, nine, canadian\n",
      "dance: music, external, traditional, original, popular, history, early, classical, united, able\n",
      "\n",
      "\n"
     ]
    },
    {
     "name": "stderr",
     "output_type": "stream",
     "text": [
      "4001it [16:38,  3.24it/s]"
     ]
    },
    {
     "name": "stdout",
     "output_type": "stream",
     "text": [
      "| epoch   3 |  4000/32580 batches | loss    1.335 \n",
      "money: much, creation, seen, able, support, return, fact, made, information, position\n",
      "lion: reason, course, failure, equilibrium, medicine, return, height, complete, carry, framework\n",
      "africa: india, germany, europe, america, kingdom, china, north, france, nine, south\n",
      "musician: actress, actor, author, writer, poet, composer, singer, kingdom, nine, canadian\n",
      "dance: music, external, traditional, original, popular, history, early, classical, united, able\n",
      "\n",
      "\n"
     ]
    },
    {
     "name": "stderr",
     "output_type": "stream",
     "text": [
      "4500it [18:42,  4.01it/s]"
     ]
    },
    {
     "name": "stdout",
     "output_type": "stream",
     "text": [
      "| epoch   3 |  4500/32580 batches | loss    1.329 \n"
     ]
    },
    {
     "name": "stderr",
     "output_type": "stream",
     "text": [
      "4501it [18:42,  3.06it/s]"
     ]
    },
    {
     "name": "stdout",
     "output_type": "stream",
     "text": [
      "money: much, creation, seen, able, support, return, fact, made, information, position\n",
      "lion: reason, course, failure, equilibrium, medicine, return, height, carry, complete, framework\n",
      "africa: india, germany, europe, america, kingdom, china, north, france, nine, south\n",
      "musician: actress, actor, author, writer, poet, composer, singer, kingdom, nine, canadian\n",
      "dance: music, external, traditional, original, popular, history, early, classical, united, able\n",
      "\n",
      "\n"
     ]
    },
    {
     "name": "stderr",
     "output_type": "stream",
     "text": [
      "5000it [20:46,  4.07it/s]"
     ]
    },
    {
     "name": "stdout",
     "output_type": "stream",
     "text": [
      "| epoch   3 |  5000/32580 batches | loss    1.337 \n"
     ]
    },
    {
     "name": "stderr",
     "output_type": "stream",
     "text": [
      "5001it [20:47,  3.22it/s]"
     ]
    },
    {
     "name": "stdout",
     "output_type": "stream",
     "text": [
      "money: much, creation, seen, able, support, return, fact, made, information, position\n",
      "lion: reason, course, failure, equilibrium, medicine, return, height, carry, complete, framework\n",
      "africa: india, germany, europe, america, kingdom, china, north, france, nine, south\n",
      "musician: actress, actor, author, writer, poet, composer, singer, kingdom, nine, canadian\n",
      "dance: music, external, traditional, original, popular, history, early, classical, united, able\n",
      "\n",
      "\n"
     ]
    },
    {
     "name": "stderr",
     "output_type": "stream",
     "text": [
      "5501it [22:50,  3.27it/s]"
     ]
    },
    {
     "name": "stdout",
     "output_type": "stream",
     "text": [
      "| epoch   3 |  5500/32580 batches | loss    1.335 \n",
      "money: much, creation, seen, able, support, return, fact, made, information, position\n",
      "lion: reason, course, failure, equilibrium, medicine, return, height, carry, complete, framework\n",
      "africa: india, germany, europe, america, kingdom, china, north, france, nine, south\n",
      "musician: actress, actor, author, writer, poet, composer, singer, kingdom, nine, canadian\n",
      "dance: music, external, traditional, original, popular, history, early, classical, united, able\n",
      "\n",
      "\n"
     ]
    },
    {
     "name": "stderr",
     "output_type": "stream",
     "text": [
      "6000it [24:53,  4.05it/s]"
     ]
    },
    {
     "name": "stdout",
     "output_type": "stream",
     "text": [
      "| epoch   3 |  6000/32580 batches | loss    1.333 \n"
     ]
    },
    {
     "name": "stderr",
     "output_type": "stream",
     "text": [
      "6001it [24:54,  3.28it/s]"
     ]
    },
    {
     "name": "stdout",
     "output_type": "stream",
     "text": [
      "money: much, creation, seen, able, support, return, fact, made, information, position\n",
      "lion: reason, course, failure, equilibrium, medicine, return, height, carry, complete, framework\n",
      "africa: india, germany, europe, america, kingdom, china, north, france, nine, south\n",
      "musician: actress, actor, author, writer, poet, composer, singer, kingdom, nine, canadian\n",
      "dance: music, external, traditional, original, popular, history, early, classical, united, able\n",
      "\n",
      "\n"
     ]
    },
    {
     "name": "stderr",
     "output_type": "stream",
     "text": [
      "6501it [26:57,  3.49it/s]"
     ]
    },
    {
     "name": "stdout",
     "output_type": "stream",
     "text": [
      "| epoch   3 |  6500/32580 batches | loss    1.338 \n",
      "money: much, creation, seen, able, support, return, fact, made, information, position\n",
      "lion: reason, course, failure, equilibrium, medicine, return, height, carry, complete, framework\n",
      "africa: india, germany, europe, america, kingdom, china, north, france, nine, south\n",
      "musician: actress, actor, author, writer, poet, composer, singer, kingdom, nine, canadian\n",
      "dance: music, external, traditional, original, popular, history, early, classical, united, able\n",
      "\n",
      "\n"
     ]
    },
    {
     "name": "stderr",
     "output_type": "stream",
     "text": [
      "7000it [29:00,  3.96it/s]"
     ]
    },
    {
     "name": "stdout",
     "output_type": "stream",
     "text": [
      "| epoch   3 |  7000/32580 batches | loss    1.334 \n"
     ]
    },
    {
     "name": "stderr",
     "output_type": "stream",
     "text": [
      "7001it [29:01,  3.21it/s]"
     ]
    },
    {
     "name": "stdout",
     "output_type": "stream",
     "text": [
      "money: much, creation, seen, able, support, return, fact, made, information, position\n",
      "lion: reason, course, failure, equilibrium, medicine, return, height, carry, complete, framework\n",
      "africa: india, germany, europe, america, kingdom, china, north, france, nine, south\n",
      "musician: actress, actor, author, writer, poet, composer, singer, kingdom, nine, canadian\n",
      "dance: music, external, traditional, original, popular, history, early, classical, united, able\n",
      "\n",
      "\n"
     ]
    },
    {
     "name": "stderr",
     "output_type": "stream",
     "text": [
      "7500it [31:05,  4.10it/s]"
     ]
    },
    {
     "name": "stdout",
     "output_type": "stream",
     "text": [
      "| epoch   3 |  7500/32580 batches | loss    1.333 \n"
     ]
    },
    {
     "name": "stderr",
     "output_type": "stream",
     "text": [
      "7501it [31:05,  3.19it/s]"
     ]
    },
    {
     "name": "stdout",
     "output_type": "stream",
     "text": [
      "money: much, creation, seen, able, support, return, fact, made, information, position\n",
      "lion: reason, course, failure, equilibrium, medicine, return, height, carry, complete, framework\n",
      "africa: india, germany, america, europe, kingdom, china, north, france, nine, south\n",
      "musician: actress, actor, author, writer, poet, composer, singer, kingdom, nine, canadian\n",
      "dance: music, external, traditional, original, popular, history, early, classical, united, able\n",
      "\n",
      "\n"
     ]
    },
    {
     "name": "stderr",
     "output_type": "stream",
     "text": [
      "8000it [33:10,  4.16it/s]"
     ]
    },
    {
     "name": "stdout",
     "output_type": "stream",
     "text": [
      "| epoch   3 |  8000/32580 batches | loss    1.339 \n"
     ]
    },
    {
     "name": "stderr",
     "output_type": "stream",
     "text": [
      "8001it [33:10,  3.32it/s]"
     ]
    },
    {
     "name": "stdout",
     "output_type": "stream",
     "text": [
      "money: much, creation, seen, able, support, return, fact, made, information, position\n",
      "lion: reason, course, failure, equilibrium, medicine, return, height, carry, complete, framework\n",
      "africa: india, germany, europe, america, kingdom, china, north, france, nine, south\n",
      "musician: actress, actor, author, writer, poet, composer, singer, kingdom, nine, canadian\n",
      "dance: music, external, traditional, original, popular, history, early, classical, united, able\n",
      "\n",
      "\n"
     ]
    },
    {
     "name": "stderr",
     "output_type": "stream",
     "text": [
      "8501it [35:12,  3.44it/s]"
     ]
    },
    {
     "name": "stdout",
     "output_type": "stream",
     "text": [
      "| epoch   3 |  8500/32580 batches | loss    1.334 \n",
      "money: much, creation, seen, able, support, return, fact, made, information, position\n",
      "lion: reason, course, failure, equilibrium, medicine, return, height, carry, framework, complete\n",
      "africa: india, germany, europe, america, kingdom, china, north, france, nine, south\n",
      "musician: actress, actor, author, writer, poet, composer, singer, kingdom, nine, canadian\n",
      "dance: music, external, traditional, original, popular, history, early, classical, united, able\n",
      "\n",
      "\n"
     ]
    },
    {
     "name": "stderr",
     "output_type": "stream",
     "text": [
      "9001it [37:16,  3.30it/s]"
     ]
    },
    {
     "name": "stdout",
     "output_type": "stream",
     "text": [
      "| epoch   3 |  9000/32580 batches | loss    1.335 \n",
      "money: much, creation, seen, able, support, return, fact, made, information, position\n",
      "lion: reason, course, failure, equilibrium, medicine, return, height, carry, complete, framework\n",
      "africa: india, germany, europe, america, kingdom, china, north, france, nine, south\n",
      "musician: actress, actor, author, writer, poet, composer, singer, kingdom, nine, canadian\n",
      "dance: music, external, traditional, original, popular, history, early, classical, united, able\n",
      "\n",
      "\n"
     ]
    },
    {
     "name": "stderr",
     "output_type": "stream",
     "text": [
      "9500it [39:19,  4.08it/s]"
     ]
    },
    {
     "name": "stdout",
     "output_type": "stream",
     "text": [
      "| epoch   3 |  9500/32580 batches | loss    1.332 \n"
     ]
    },
    {
     "name": "stderr",
     "output_type": "stream",
     "text": [
      "9501it [39:19,  3.09it/s]"
     ]
    },
    {
     "name": "stdout",
     "output_type": "stream",
     "text": [
      "money: much, creation, seen, able, support, return, fact, made, information, position\n",
      "lion: reason, course, failure, equilibrium, medicine, return, height, carry, framework, complete\n",
      "africa: india, germany, europe, america, kingdom, china, north, france, nine, south\n",
      "musician: actress, actor, author, writer, poet, composer, singer, kingdom, nine, canadian\n",
      "dance: music, external, traditional, original, popular, history, early, classical, united, able\n",
      "\n",
      "\n"
     ]
    },
    {
     "name": "stderr",
     "output_type": "stream",
     "text": [
      "10000it [41:25,  4.05it/s]"
     ]
    },
    {
     "name": "stdout",
     "output_type": "stream",
     "text": [
      "| epoch   3 | 10000/32580 batches | loss    1.335 \n"
     ]
    },
    {
     "name": "stderr",
     "output_type": "stream",
     "text": [
      "10001it [41:26,  2.69it/s]"
     ]
    },
    {
     "name": "stdout",
     "output_type": "stream",
     "text": [
      "money: much, creation, seen, able, support, return, fact, made, information, position\n",
      "lion: reason, course, failure, equilibrium, medicine, return, height, carry, framework, complete\n",
      "africa: india, germany, europe, america, kingdom, china, north, france, nine, south\n",
      "musician: actress, actor, author, writer, poet, composer, singer, kingdom, nine, canadian\n",
      "dance: music, external, traditional, original, popular, history, early, classical, united, able\n",
      "\n",
      "\n"
     ]
    },
    {
     "name": "stderr",
     "output_type": "stream",
     "text": [
      "10500it [43:30,  4.13it/s]"
     ]
    },
    {
     "name": "stdout",
     "output_type": "stream",
     "text": [
      "| epoch   3 | 10500/32580 batches | loss    1.329 \n"
     ]
    },
    {
     "name": "stderr",
     "output_type": "stream",
     "text": [
      "10501it [43:30,  3.10it/s]"
     ]
    },
    {
     "name": "stdout",
     "output_type": "stream",
     "text": [
      "money: much, creation, seen, able, support, fact, return, made, information, position\n",
      "lion: reason, course, failure, equilibrium, medicine, return, height, carry, framework, complete\n",
      "africa: india, germany, europe, america, kingdom, china, north, france, nine, south\n",
      "musician: actress, actor, author, writer, poet, composer, singer, kingdom, nine, canadian\n",
      "dance: music, external, traditional, original, popular, history, early, classical, united, able\n",
      "\n",
      "\n"
     ]
    },
    {
     "name": "stderr",
     "output_type": "stream",
     "text": [
      "11001it [45:35,  3.45it/s]"
     ]
    },
    {
     "name": "stdout",
     "output_type": "stream",
     "text": [
      "| epoch   3 | 11000/32580 batches | loss    1.333 \n",
      "money: much, creation, seen, able, support, fact, return, made, information, position\n",
      "lion: reason, course, failure, equilibrium, medicine, return, height, carry, framework, complete\n",
      "africa: india, germany, europe, america, kingdom, china, north, france, nine, south\n",
      "musician: actress, actor, author, writer, poet, composer, singer, kingdom, nine, canadian\n",
      "dance: music, external, traditional, original, popular, history, early, classical, united, able\n",
      "\n",
      "\n"
     ]
    },
    {
     "name": "stderr",
     "output_type": "stream",
     "text": [
      "11500it [47:40,  3.95it/s]"
     ]
    },
    {
     "name": "stdout",
     "output_type": "stream",
     "text": [
      "| epoch   3 | 11500/32580 batches | loss    1.335 \n"
     ]
    },
    {
     "name": "stderr",
     "output_type": "stream",
     "text": [
      "11501it [47:40,  2.68it/s]"
     ]
    },
    {
     "name": "stdout",
     "output_type": "stream",
     "text": [
      "money: much, creation, seen, able, support, fact, return, made, information, position\n",
      "lion: reason, course, failure, equilibrium, medicine, return, height, carry, framework, complete\n",
      "africa: india, germany, europe, america, kingdom, china, north, france, nine, south\n",
      "musician: actress, actor, author, writer, poet, composer, singer, kingdom, nine, canadian\n",
      "dance: music, external, traditional, original, popular, history, early, classical, united, able\n",
      "\n",
      "\n"
     ]
    },
    {
     "name": "stderr",
     "output_type": "stream",
     "text": [
      "12001it [49:45,  3.39it/s]"
     ]
    },
    {
     "name": "stdout",
     "output_type": "stream",
     "text": [
      "| epoch   3 | 12000/32580 batches | loss    1.331 \n",
      "money: much, creation, seen, able, support, return, fact, made, information, position\n",
      "lion: reason, course, failure, equilibrium, medicine, return, height, carry, complete, framework\n",
      "africa: india, germany, europe, america, kingdom, china, north, france, nine, south\n",
      "musician: actress, actor, author, writer, poet, composer, singer, kingdom, nine, canadian\n",
      "dance: music, external, traditional, original, popular, history, early, classical, united, able\n",
      "\n",
      "\n"
     ]
    },
    {
     "name": "stderr",
     "output_type": "stream",
     "text": [
      "12501it [51:47,  3.45it/s]"
     ]
    },
    {
     "name": "stdout",
     "output_type": "stream",
     "text": [
      "| epoch   3 | 12500/32580 batches | loss    1.332 \n",
      "money: much, creation, seen, able, support, fact, return, made, information, position\n",
      "lion: reason, course, failure, equilibrium, medicine, return, height, carry, framework, complete\n",
      "africa: india, germany, europe, america, kingdom, china, north, france, nine, south\n",
      "musician: actress, actor, author, writer, poet, composer, singer, kingdom, nine, canadian\n",
      "dance: music, external, traditional, original, popular, history, early, classical, united, able\n",
      "\n",
      "\n"
     ]
    },
    {
     "name": "stderr",
     "output_type": "stream",
     "text": [
      "13001it [53:53,  3.35it/s]"
     ]
    },
    {
     "name": "stdout",
     "output_type": "stream",
     "text": [
      "| epoch   3 | 13000/32580 batches | loss    1.337 \n",
      "money: much, creation, seen, able, support, fact, return, made, information, position\n",
      "lion: reason, course, failure, equilibrium, medicine, return, height, carry, framework, complete\n",
      "africa: india, germany, europe, america, kingdom, china, north, france, nine, south\n",
      "musician: actress, actor, author, writer, poet, composer, singer, kingdom, nine, canadian\n",
      "dance: music, external, traditional, original, popular, history, early, classical, united, able\n",
      "\n",
      "\n"
     ]
    },
    {
     "name": "stderr",
     "output_type": "stream",
     "text": [
      "13500it [55:57,  4.19it/s]"
     ]
    },
    {
     "name": "stdout",
     "output_type": "stream",
     "text": [
      "| epoch   3 | 13500/32580 batches | loss    1.332 \n"
     ]
    },
    {
     "name": "stderr",
     "output_type": "stream",
     "text": [
      "13501it [55:57,  3.33it/s]"
     ]
    },
    {
     "name": "stdout",
     "output_type": "stream",
     "text": [
      "money: much, creation, seen, able, support, return, fact, made, information, position\n",
      "lion: reason, course, failure, equilibrium, medicine, return, height, carry, framework, complete\n",
      "africa: india, germany, europe, america, kingdom, china, north, france, nine, south\n",
      "musician: actress, actor, author, writer, poet, composer, singer, kingdom, nine, canadian\n",
      "dance: music, external, traditional, original, popular, history, early, classical, united, able\n",
      "\n",
      "\n"
     ]
    },
    {
     "name": "stderr",
     "output_type": "stream",
     "text": [
      "14001it [57:59,  3.41it/s]"
     ]
    },
    {
     "name": "stdout",
     "output_type": "stream",
     "text": [
      "| epoch   3 | 14000/32580 batches | loss    1.331 \n",
      "money: much, creation, seen, able, support, return, fact, made, information, position\n",
      "lion: reason, course, failure, equilibrium, medicine, return, height, carry, framework, complete\n",
      "africa: india, germany, europe, america, kingdom, china, north, france, nine, south\n",
      "musician: actress, actor, author, writer, poet, composer, singer, kingdom, nine, canadian\n",
      "dance: music, external, traditional, original, popular, history, early, classical, united, able\n",
      "\n",
      "\n"
     ]
    },
    {
     "name": "stderr",
     "output_type": "stream",
     "text": [
      "14500it [1:00:02,  4.11it/s]"
     ]
    },
    {
     "name": "stdout",
     "output_type": "stream",
     "text": [
      "| epoch   3 | 14500/32580 batches | loss    1.331 \n"
     ]
    },
    {
     "name": "stderr",
     "output_type": "stream",
     "text": [
      "14501it [1:00:02,  3.24it/s]"
     ]
    },
    {
     "name": "stdout",
     "output_type": "stream",
     "text": [
      "money: much, creation, seen, able, support, fact, return, made, information, position\n",
      "lion: reason, course, failure, equilibrium, medicine, return, height, carry, framework, complete\n",
      "africa: india, germany, europe, america, kingdom, china, north, france, nine, south\n",
      "musician: actress, actor, author, writer, poet, composer, singer, kingdom, nine, canadian\n",
      "dance: music, external, traditional, original, popular, history, early, classical, united, able\n",
      "\n",
      "\n"
     ]
    },
    {
     "name": "stderr",
     "output_type": "stream",
     "text": [
      "15000it [1:02:09,  3.80it/s]"
     ]
    },
    {
     "name": "stdout",
     "output_type": "stream",
     "text": [
      "| epoch   3 | 15000/32580 batches | loss    1.331 \n"
     ]
    },
    {
     "name": "stderr",
     "output_type": "stream",
     "text": [
      "15001it [1:02:09,  2.86it/s]"
     ]
    },
    {
     "name": "stdout",
     "output_type": "stream",
     "text": [
      "money: much, creation, seen, able, support, fact, return, made, information, position\n",
      "lion: reason, course, failure, equilibrium, medicine, return, height, carry, framework, complete\n",
      "africa: india, germany, europe, america, kingdom, china, north, france, nine, south\n",
      "musician: actress, actor, author, writer, poet, composer, singer, kingdom, nine, canadian\n",
      "dance: music, external, traditional, original, popular, history, early, classical, united, able\n",
      "\n",
      "\n"
     ]
    },
    {
     "name": "stderr",
     "output_type": "stream",
     "text": [
      "15500it [1:04:18,  4.04it/s]"
     ]
    },
    {
     "name": "stdout",
     "output_type": "stream",
     "text": [
      "| epoch   3 | 15500/32580 batches | loss    1.329 \n",
      "money: much, creation, seen, able, support, fact, return, made, information, position\n",
      "lion: reason, course, failure, equilibrium, medicine, return, height, carry, framework, complete\n",
      "africa: india, germany, europe, america, kingdom, china, north, france, nine, south\n",
      "musician: actress, actor, author, writer, poet, composer, singer, kingdom, nine, canadian\n",
      "dance: music, external, traditional, original, popular, history, early, classical, united, able\n",
      "\n",
      "\n"
     ]
    },
    {
     "name": "stderr",
     "output_type": "stream",
     "text": [
      "16001it [1:06:28,  3.35it/s]"
     ]
    },
    {
     "name": "stdout",
     "output_type": "stream",
     "text": [
      "| epoch   3 | 16000/32580 batches | loss    1.331 \n",
      "money: much, creation, seen, able, support, fact, return, made, information, position\n",
      "lion: reason, course, failure, equilibrium, medicine, return, height, carry, framework, complete\n",
      "africa: india, germany, europe, america, kingdom, china, north, france, nine, south\n",
      "musician: actress, actor, author, writer, poet, composer, singer, kingdom, canadian, nine\n",
      "dance: music, external, traditional, original, popular, history, early, classical, united, able\n",
      "\n",
      "\n"
     ]
    },
    {
     "name": "stderr",
     "output_type": "stream",
     "text": [
      "16501it [1:08:37,  3.30it/s]"
     ]
    },
    {
     "name": "stdout",
     "output_type": "stream",
     "text": [
      "| epoch   3 | 16500/32580 batches | loss    1.330 \n",
      "money: much, creation, seen, able, support, fact, return, made, information, position\n",
      "lion: reason, course, failure, equilibrium, medicine, return, height, carry, framework, complete\n",
      "africa: india, germany, europe, america, kingdom, china, north, france, nine, south\n",
      "musician: actress, actor, author, writer, poet, composer, singer, kingdom, canadian, nine\n",
      "dance: music, external, traditional, original, popular, history, early, classical, united, able\n",
      "\n",
      "\n"
     ]
    },
    {
     "name": "stderr",
     "output_type": "stream",
     "text": [
      "17001it [1:10:48,  3.15it/s]"
     ]
    },
    {
     "name": "stdout",
     "output_type": "stream",
     "text": [
      "| epoch   3 | 17000/32580 batches | loss    1.333 \n",
      "money: much, creation, seen, able, support, fact, return, made, information, position\n",
      "lion: reason, course, failure, equilibrium, medicine, return, height, carry, framework, complete\n",
      "africa: india, germany, europe, america, kingdom, china, north, france, nine, south\n",
      "musician: actress, actor, author, writer, poet, composer, singer, kingdom, nine, canadian\n",
      "dance: music, external, traditional, original, popular, history, early, classical, united, able\n",
      "\n",
      "\n"
     ]
    },
    {
     "name": "stderr",
     "output_type": "stream",
     "text": [
      "17501it [1:13:53,  3.38it/s]"
     ]
    },
    {
     "name": "stdout",
     "output_type": "stream",
     "text": [
      "| epoch   3 | 17500/32580 batches | loss    1.333 \n",
      "money: much, creation, seen, able, support, fact, return, made, information, position\n",
      "lion: reason, course, failure, equilibrium, medicine, return, height, carry, framework, complete\n",
      "africa: india, germany, europe, america, kingdom, china, north, france, nine, south\n",
      "musician: actress, actor, author, writer, poet, composer, singer, kingdom, nine, canadian\n",
      "dance: music, external, traditional, original, popular, history, early, classical, united, able\n",
      "\n",
      "\n"
     ]
    },
    {
     "name": "stderr",
     "output_type": "stream",
     "text": [
      "18001it [1:15:55,  3.51it/s]"
     ]
    },
    {
     "name": "stdout",
     "output_type": "stream",
     "text": [
      "| epoch   3 | 18000/32580 batches | loss    1.336 \n",
      "money: much, creation, seen, able, support, fact, return, made, information, position\n",
      "lion: reason, course, failure, equilibrium, medicine, return, height, carry, framework, complete\n",
      "africa: india, germany, europe, america, kingdom, china, north, france, nine, south\n",
      "musician: actress, actor, author, writer, poet, composer, singer, kingdom, nine, canadian\n",
      "dance: music, external, traditional, original, popular, history, early, classical, united, able\n",
      "\n",
      "\n"
     ]
    },
    {
     "name": "stderr",
     "output_type": "stream",
     "text": [
      "18501it [1:17:57,  3.50it/s]"
     ]
    },
    {
     "name": "stdout",
     "output_type": "stream",
     "text": [
      "| epoch   3 | 18500/32580 batches | loss    1.335 \n",
      "money: much, creation, seen, able, support, fact, return, made, information, position\n",
      "lion: reason, course, failure, equilibrium, medicine, return, height, carry, framework, complete\n",
      "africa: india, germany, europe, america, kingdom, china, north, france, nine, south\n",
      "musician: actress, actor, author, writer, poet, composer, singer, kingdom, nine, canadian\n",
      "dance: music, external, traditional, original, popular, history, early, classical, united, able\n",
      "\n",
      "\n"
     ]
    },
    {
     "name": "stderr",
     "output_type": "stream",
     "text": [
      "19000it [1:20:00,  4.03it/s]"
     ]
    },
    {
     "name": "stdout",
     "output_type": "stream",
     "text": [
      "| epoch   3 | 19000/32580 batches | loss    1.334 \n"
     ]
    },
    {
     "name": "stderr",
     "output_type": "stream",
     "text": [
      "19001it [1:20:01,  2.89it/s]"
     ]
    },
    {
     "name": "stdout",
     "output_type": "stream",
     "text": [
      "money: much, creation, seen, able, support, fact, return, made, information, position\n",
      "lion: reason, course, failure, equilibrium, medicine, return, height, carry, framework, complete\n",
      "africa: india, germany, europe, america, kingdom, china, north, france, nine, south\n",
      "musician: actress, actor, author, writer, poet, composer, singer, kingdom, nine, canadian\n",
      "dance: music, external, traditional, original, popular, history, early, classical, united, able\n",
      "\n",
      "\n"
     ]
    },
    {
     "name": "stderr",
     "output_type": "stream",
     "text": [
      "19500it [1:22:04,  3.99it/s]"
     ]
    },
    {
     "name": "stdout",
     "output_type": "stream",
     "text": [
      "| epoch   3 | 19500/32580 batches | loss    1.335 \n"
     ]
    },
    {
     "name": "stderr",
     "output_type": "stream",
     "text": [
      "19501it [1:22:05,  2.95it/s]"
     ]
    },
    {
     "name": "stdout",
     "output_type": "stream",
     "text": [
      "money: much, creation, seen, able, support, fact, return, made, information, position\n",
      "lion: reason, course, failure, equilibrium, medicine, return, height, carry, framework, complete\n",
      "africa: india, germany, europe, america, kingdom, china, north, france, nine, south\n",
      "musician: actress, actor, author, writer, poet, composer, singer, kingdom, nine, canadian\n",
      "dance: music, external, traditional, original, popular, history, early, classical, united, able\n",
      "\n",
      "\n"
     ]
    },
    {
     "name": "stderr",
     "output_type": "stream",
     "text": [
      "20001it [1:24:06,  3.52it/s]"
     ]
    },
    {
     "name": "stdout",
     "output_type": "stream",
     "text": [
      "| epoch   3 | 20000/32580 batches | loss    1.332 \n",
      "money: much, creation, seen, able, support, fact, return, made, information, position\n",
      "lion: reason, course, failure, equilibrium, medicine, return, height, carry, framework, complete\n",
      "africa: india, germany, europe, america, kingdom, china, north, france, nine, south\n",
      "musician: actress, actor, author, writer, poet, composer, singer, kingdom, nine, canadian\n",
      "dance: music, external, traditional, original, popular, history, early, classical, united, able\n",
      "\n",
      "\n"
     ]
    },
    {
     "name": "stderr",
     "output_type": "stream",
     "text": [
      "20500it [1:26:06,  3.88it/s]"
     ]
    },
    {
     "name": "stdout",
     "output_type": "stream",
     "text": [
      "| epoch   3 | 20500/32580 batches | loss    1.336 \n"
     ]
    },
    {
     "name": "stderr",
     "output_type": "stream",
     "text": [
      "20501it [1:26:07,  3.00it/s]"
     ]
    },
    {
     "name": "stdout",
     "output_type": "stream",
     "text": [
      "money: much, creation, seen, able, support, fact, return, made, information, position\n",
      "lion: reason, course, failure, equilibrium, medicine, return, height, carry, framework, complete\n",
      "africa: india, germany, europe, america, kingdom, china, north, france, nine, south\n",
      "musician: actress, actor, author, writer, poet, composer, singer, kingdom, nine, canadian\n",
      "dance: music, external, traditional, original, popular, history, early, classical, united, able\n",
      "\n",
      "\n"
     ]
    },
    {
     "name": "stderr",
     "output_type": "stream",
     "text": [
      "21000it [1:28:07,  4.18it/s]"
     ]
    },
    {
     "name": "stdout",
     "output_type": "stream",
     "text": [
      "| epoch   3 | 21000/32580 batches | loss    1.332 \n"
     ]
    },
    {
     "name": "stderr",
     "output_type": "stream",
     "text": [
      "21001it [1:28:08,  3.00it/s]"
     ]
    },
    {
     "name": "stdout",
     "output_type": "stream",
     "text": [
      "money: much, creation, seen, able, support, fact, return, made, information, position\n",
      "lion: reason, course, failure, equilibrium, medicine, return, height, carry, framework, complete\n",
      "africa: india, germany, europe, america, kingdom, china, north, france, nine, south\n",
      "musician: actress, actor, author, writer, poet, composer, singer, kingdom, nine, canadian\n",
      "dance: music, external, traditional, original, popular, history, early, classical, united, able\n",
      "\n",
      "\n"
     ]
    },
    {
     "name": "stderr",
     "output_type": "stream",
     "text": [
      "21501it [1:30:08,  3.51it/s]"
     ]
    },
    {
     "name": "stdout",
     "output_type": "stream",
     "text": [
      "| epoch   3 | 21500/32580 batches | loss    1.331 \n",
      "money: much, creation, seen, able, support, fact, return, made, information, position\n",
      "lion: reason, course, failure, equilibrium, medicine, return, height, carry, framework, complete\n",
      "africa: india, germany, europe, america, kingdom, china, north, france, nine, south\n",
      "musician: actress, actor, author, writer, poet, composer, singer, kingdom, nine, canadian\n",
      "dance: music, external, traditional, original, popular, history, early, classical, united, able\n",
      "\n",
      "\n"
     ]
    },
    {
     "name": "stderr",
     "output_type": "stream",
     "text": [
      "22000it [1:33:18,  4.19it/s]"
     ]
    },
    {
     "name": "stdout",
     "output_type": "stream",
     "text": [
      "| epoch   3 | 22000/32580 batches | loss    1.332 \n"
     ]
    },
    {
     "name": "stderr",
     "output_type": "stream",
     "text": [
      "22001it [1:33:19,  2.14it/s]"
     ]
    },
    {
     "name": "stdout",
     "output_type": "stream",
     "text": [
      "money: much, creation, seen, able, support, fact, return, made, information, position\n",
      "lion: reason, course, failure, equilibrium, medicine, return, height, carry, framework, complete\n",
      "africa: india, germany, europe, america, kingdom, china, north, france, nine, south\n",
      "musician: actress, actor, author, writer, poet, composer, singer, kingdom, nine, canadian\n",
      "dance: music, external, traditional, original, popular, history, early, classical, united, able\n",
      "\n",
      "\n"
     ]
    },
    {
     "name": "stderr",
     "output_type": "stream",
     "text": [
      "22500it [1:35:20,  4.18it/s]"
     ]
    },
    {
     "name": "stdout",
     "output_type": "stream",
     "text": [
      "| epoch   3 | 22500/32580 batches | loss    1.331 \n"
     ]
    },
    {
     "name": "stderr",
     "output_type": "stream",
     "text": [
      "22501it [1:35:21,  3.07it/s]"
     ]
    },
    {
     "name": "stdout",
     "output_type": "stream",
     "text": [
      "money: much, creation, seen, able, support, fact, return, made, information, position\n",
      "lion: reason, course, failure, equilibrium, medicine, return, height, carry, framework, complete\n",
      "africa: india, germany, europe, america, kingdom, china, north, france, nine, south\n",
      "musician: actress, actor, author, writer, poet, composer, singer, kingdom, nine, canadian\n",
      "dance: music, external, traditional, original, popular, history, early, classical, united, able\n",
      "\n",
      "\n"
     ]
    },
    {
     "name": "stderr",
     "output_type": "stream",
     "text": [
      "23000it [1:37:21,  4.24it/s]"
     ]
    },
    {
     "name": "stdout",
     "output_type": "stream",
     "text": [
      "| epoch   3 | 23000/32580 batches | loss    1.334 \n"
     ]
    },
    {
     "name": "stderr",
     "output_type": "stream",
     "text": [
      "23001it [1:37:21,  3.31it/s]"
     ]
    },
    {
     "name": "stdout",
     "output_type": "stream",
     "text": [
      "money: much, creation, seen, able, support, fact, return, made, information, position\n",
      "lion: reason, course, failure, equilibrium, medicine, return, height, carry, framework, complete\n",
      "africa: india, germany, europe, america, kingdom, china, north, france, nine, south\n",
      "musician: actress, actor, author, writer, poet, composer, singer, kingdom, nine, canadian\n",
      "dance: music, external, traditional, original, popular, history, early, classical, united, able\n",
      "\n",
      "\n"
     ]
    },
    {
     "name": "stderr",
     "output_type": "stream",
     "text": [
      "23500it [1:39:21,  4.22it/s]"
     ]
    },
    {
     "name": "stdout",
     "output_type": "stream",
     "text": [
      "| epoch   3 | 23500/32580 batches | loss    1.329 \n"
     ]
    },
    {
     "name": "stderr",
     "output_type": "stream",
     "text": [
      "23501it [1:39:21,  3.34it/s]"
     ]
    },
    {
     "name": "stdout",
     "output_type": "stream",
     "text": [
      "money: much, creation, seen, able, support, fact, return, made, information, position\n",
      "lion: reason, course, failure, equilibrium, medicine, return, height, carry, framework, complete\n",
      "africa: india, germany, europe, america, kingdom, china, north, france, nine, south\n",
      "musician: actress, actor, author, writer, poet, composer, singer, kingdom, nine, canadian\n",
      "dance: music, external, traditional, original, popular, history, early, classical, united, able\n",
      "\n",
      "\n"
     ]
    },
    {
     "name": "stderr",
     "output_type": "stream",
     "text": [
      "24000it [1:41:22,  4.04it/s]"
     ]
    },
    {
     "name": "stdout",
     "output_type": "stream",
     "text": [
      "| epoch   3 | 24000/32580 batches | loss    1.335 \n"
     ]
    },
    {
     "name": "stderr",
     "output_type": "stream",
     "text": [
      "24001it [1:41:22,  3.07it/s]"
     ]
    },
    {
     "name": "stdout",
     "output_type": "stream",
     "text": [
      "money: much, creation, seen, able, support, fact, return, made, information, position\n",
      "lion: reason, course, failure, equilibrium, medicine, return, height, carry, framework, complete\n",
      "africa: india, germany, europe, america, kingdom, china, north, france, nine, south\n",
      "musician: actress, actor, author, writer, poet, composer, singer, kingdom, nine, canadian\n",
      "dance: music, external, traditional, original, popular, history, early, classical, united, able\n",
      "\n",
      "\n"
     ]
    },
    {
     "name": "stderr",
     "output_type": "stream",
     "text": [
      "24501it [1:43:23,  3.41it/s]"
     ]
    },
    {
     "name": "stdout",
     "output_type": "stream",
     "text": [
      "| epoch   3 | 24500/32580 batches | loss    1.331 \n",
      "money: much, creation, seen, able, support, fact, return, made, information, position\n",
      "lion: reason, course, failure, equilibrium, medicine, return, height, carry, framework, complete\n",
      "africa: india, germany, europe, america, kingdom, china, north, france, nine, south\n",
      "musician: actress, actor, author, writer, poet, composer, singer, kingdom, nine, canadian\n",
      "dance: music, external, traditional, original, popular, history, early, classical, united, able\n",
      "\n",
      "\n"
     ]
    },
    {
     "name": "stderr",
     "output_type": "stream",
     "text": [
      "25000it [1:45:23,  4.10it/s]"
     ]
    },
    {
     "name": "stdout",
     "output_type": "stream",
     "text": [
      "| epoch   3 | 25000/32580 batches | loss    1.335 \n"
     ]
    },
    {
     "name": "stderr",
     "output_type": "stream",
     "text": [
      "25001it [1:45:24,  3.21it/s]"
     ]
    },
    {
     "name": "stdout",
     "output_type": "stream",
     "text": [
      "money: much, creation, seen, able, support, fact, return, made, information, position\n",
      "lion: reason, course, failure, equilibrium, medicine, return, height, carry, framework, complete\n",
      "africa: india, germany, europe, america, kingdom, china, north, france, nine, south\n",
      "musician: actress, actor, author, writer, poet, composer, singer, kingdom, nine, canadian\n",
      "dance: music, external, traditional, original, popular, history, classical, early, united, able\n",
      "\n",
      "\n"
     ]
    },
    {
     "name": "stderr",
     "output_type": "stream",
     "text": [
      "25501it [1:47:25,  3.38it/s]"
     ]
    },
    {
     "name": "stdout",
     "output_type": "stream",
     "text": [
      "| epoch   3 | 25500/32580 batches | loss    1.337 \n",
      "money: much, creation, seen, able, support, fact, return, made, information, position\n",
      "lion: reason, course, failure, equilibrium, medicine, return, height, carry, framework, complete\n",
      "africa: india, germany, europe, america, kingdom, china, north, france, nine, south\n",
      "musician: actress, actor, author, writer, poet, composer, singer, kingdom, nine, canadian\n",
      "dance: music, external, traditional, original, popular, history, classical, early, united, able\n",
      "\n",
      "\n"
     ]
    },
    {
     "name": "stderr",
     "output_type": "stream",
     "text": [
      "26001it [1:49:24,  3.41it/s]"
     ]
    },
    {
     "name": "stdout",
     "output_type": "stream",
     "text": [
      "| epoch   3 | 26000/32580 batches | loss    1.330 \n",
      "money: much, creation, seen, able, support, fact, return, made, information, position\n",
      "lion: reason, course, failure, equilibrium, medicine, return, height, carry, framework, complete\n",
      "africa: india, germany, europe, america, kingdom, china, north, france, nine, south\n",
      "musician: actress, actor, author, writer, poet, composer, singer, kingdom, nine, canadian\n",
      "dance: music, external, traditional, original, popular, history, classical, early, united, able\n",
      "\n",
      "\n"
     ]
    },
    {
     "name": "stderr",
     "output_type": "stream",
     "text": [
      "26500it [1:51:26,  4.05it/s]"
     ]
    },
    {
     "name": "stdout",
     "output_type": "stream",
     "text": [
      "| epoch   3 | 26500/32580 batches | loss    1.330 \n"
     ]
    },
    {
     "name": "stderr",
     "output_type": "stream",
     "text": [
      "26501it [1:51:26,  3.11it/s]"
     ]
    },
    {
     "name": "stdout",
     "output_type": "stream",
     "text": [
      "money: much, creation, seen, able, support, fact, return, made, information, position\n",
      "lion: reason, course, failure, equilibrium, medicine, return, height, carry, framework, complete\n",
      "africa: india, germany, europe, america, kingdom, china, north, france, nine, south\n",
      "musician: actress, actor, author, writer, poet, composer, singer, kingdom, nine, canadian\n",
      "dance: music, external, traditional, original, popular, history, classical, early, united, able\n",
      "\n",
      "\n"
     ]
    },
    {
     "name": "stderr",
     "output_type": "stream",
     "text": [
      "27000it [1:53:30,  4.07it/s]"
     ]
    },
    {
     "name": "stdout",
     "output_type": "stream",
     "text": [
      "| epoch   3 | 27000/32580 batches | loss    1.334 \n"
     ]
    },
    {
     "name": "stderr",
     "output_type": "stream",
     "text": [
      "27001it [1:53:30,  2.63it/s]"
     ]
    },
    {
     "name": "stdout",
     "output_type": "stream",
     "text": [
      "money: much, creation, seen, able, support, fact, return, made, information, position\n",
      "lion: reason, course, failure, equilibrium, medicine, return, height, carry, framework, complete\n",
      "africa: india, germany, europe, america, kingdom, china, north, france, nine, south\n",
      "musician: actress, actor, author, writer, poet, composer, singer, kingdom, nine, canadian\n",
      "dance: music, external, traditional, original, popular, history, classical, early, united, able\n",
      "\n",
      "\n"
     ]
    },
    {
     "name": "stderr",
     "output_type": "stream",
     "text": [
      "27500it [1:55:34,  3.97it/s]"
     ]
    },
    {
     "name": "stdout",
     "output_type": "stream",
     "text": [
      "| epoch   3 | 27500/32580 batches | loss    1.329 \n"
     ]
    },
    {
     "name": "stderr",
     "output_type": "stream",
     "text": [
      "27501it [1:55:35,  3.19it/s]"
     ]
    },
    {
     "name": "stdout",
     "output_type": "stream",
     "text": [
      "money: much, creation, seen, able, support, fact, return, made, information, position\n",
      "lion: reason, course, failure, equilibrium, medicine, return, height, carry, framework, complete\n",
      "africa: india, germany, europe, america, kingdom, china, north, france, nine, south\n",
      "musician: actress, actor, author, writer, poet, composer, singer, kingdom, nine, canadian\n",
      "dance: music, external, traditional, original, popular, history, classical, early, united, able\n",
      "\n",
      "\n"
     ]
    },
    {
     "name": "stderr",
     "output_type": "stream",
     "text": [
      "28000it [1:57:36,  4.24it/s]"
     ]
    },
    {
     "name": "stdout",
     "output_type": "stream",
     "text": [
      "| epoch   3 | 28000/32580 batches | loss    1.335 \n"
     ]
    },
    {
     "name": "stderr",
     "output_type": "stream",
     "text": [
      "28001it [1:57:36,  3.19it/s]"
     ]
    },
    {
     "name": "stdout",
     "output_type": "stream",
     "text": [
      "money: much, creation, seen, able, support, fact, return, made, information, position\n",
      "lion: reason, course, failure, equilibrium, medicine, return, height, carry, framework, complete\n",
      "africa: india, germany, europe, america, kingdom, china, north, france, nine, south\n",
      "musician: actress, actor, author, writer, poet, composer, singer, kingdom, nine, canadian\n",
      "dance: music, external, traditional, original, popular, history, classical, early, united, able\n",
      "\n",
      "\n"
     ]
    },
    {
     "name": "stderr",
     "output_type": "stream",
     "text": [
      "28501it [1:59:37,  3.43it/s]"
     ]
    },
    {
     "name": "stdout",
     "output_type": "stream",
     "text": [
      "| epoch   3 | 28500/32580 batches | loss    1.334 \n",
      "money: much, creation, seen, able, support, fact, return, made, information, position\n",
      "lion: reason, course, failure, equilibrium, medicine, return, height, carry, framework, complete\n",
      "africa: india, germany, europe, america, kingdom, china, north, france, nine, south\n",
      "musician: actress, actor, author, writer, poet, composer, singer, kingdom, nine, canadian\n",
      "dance: music, external, traditional, original, popular, history, classical, early, united, able\n",
      "\n",
      "\n"
     ]
    },
    {
     "name": "stderr",
     "output_type": "stream",
     "text": [
      "29001it [2:01:39,  3.38it/s]"
     ]
    },
    {
     "name": "stdout",
     "output_type": "stream",
     "text": [
      "| epoch   3 | 29000/32580 batches | loss    1.334 \n",
      "money: much, creation, seen, able, support, fact, return, made, information, position\n",
      "lion: reason, course, failure, equilibrium, medicine, return, height, carry, framework, complete\n",
      "africa: india, germany, europe, america, kingdom, china, north, france, nine, south\n",
      "musician: actress, actor, author, writer, poet, composer, singer, kingdom, nine, canadian\n",
      "dance: music, external, traditional, original, popular, history, classical, early, united, able\n",
      "\n",
      "\n"
     ]
    },
    {
     "name": "stderr",
     "output_type": "stream",
     "text": [
      "29501it [2:03:42,  3.46it/s]"
     ]
    },
    {
     "name": "stdout",
     "output_type": "stream",
     "text": [
      "| epoch   3 | 29500/32580 batches | loss    1.340 \n",
      "money: much, creation, seen, able, support, fact, return, made, information, position\n",
      "lion: reason, course, failure, equilibrium, medicine, return, height, carry, framework, complete\n",
      "africa: india, germany, europe, america, kingdom, china, north, france, nine, south\n",
      "musician: actress, actor, author, writer, poet, composer, singer, kingdom, nine, canadian\n",
      "dance: music, external, traditional, original, popular, history, classical, early, united, able\n",
      "\n",
      "\n"
     ]
    },
    {
     "name": "stderr",
     "output_type": "stream",
     "text": [
      "30000it [2:05:44,  4.23it/s]"
     ]
    },
    {
     "name": "stdout",
     "output_type": "stream",
     "text": [
      "| epoch   3 | 30000/32580 batches | loss    1.335 \n"
     ]
    },
    {
     "name": "stderr",
     "output_type": "stream",
     "text": [
      "30001it [2:05:44,  3.26it/s]"
     ]
    },
    {
     "name": "stdout",
     "output_type": "stream",
     "text": [
      "money: much, creation, seen, able, support, fact, return, made, information, position\n",
      "lion: reason, course, failure, equilibrium, medicine, return, height, carry, framework, complete\n",
      "africa: india, germany, europe, america, kingdom, china, north, france, nine, south\n",
      "musician: actress, actor, author, writer, poet, composer, singer, kingdom, nine, canadian\n",
      "dance: music, external, traditional, original, popular, history, classical, early, united, able\n",
      "\n",
      "\n"
     ]
    },
    {
     "name": "stderr",
     "output_type": "stream",
     "text": [
      "30501it [2:07:46,  3.50it/s]"
     ]
    },
    {
     "name": "stdout",
     "output_type": "stream",
     "text": [
      "| epoch   3 | 30500/32580 batches | loss    1.332 \n",
      "money: much, creation, seen, able, support, fact, return, made, information, position\n",
      "lion: reason, course, failure, equilibrium, medicine, return, height, carry, framework, complete\n",
      "africa: india, germany, europe, america, kingdom, china, north, france, nine, south\n",
      "musician: actress, actor, author, writer, poet, composer, singer, kingdom, nine, canadian\n",
      "dance: music, external, traditional, original, popular, history, classical, early, united, able\n",
      "\n",
      "\n"
     ]
    },
    {
     "name": "stderr",
     "output_type": "stream",
     "text": [
      "31000it [2:09:47,  4.15it/s]"
     ]
    },
    {
     "name": "stdout",
     "output_type": "stream",
     "text": [
      "| epoch   3 | 31000/32580 batches | loss    1.337 \n"
     ]
    },
    {
     "name": "stderr",
     "output_type": "stream",
     "text": [
      "31001it [2:09:47,  3.17it/s]"
     ]
    },
    {
     "name": "stdout",
     "output_type": "stream",
     "text": [
      "money: much, creation, seen, able, support, fact, return, made, information, position\n",
      "lion: reason, course, failure, equilibrium, medicine, return, height, carry, framework, complete\n",
      "africa: india, germany, europe, america, kingdom, china, north, france, nine, south\n",
      "musician: actress, actor, author, writer, poet, composer, singer, kingdom, nine, canadian\n",
      "dance: music, external, traditional, original, popular, history, classical, early, united, able\n",
      "\n",
      "\n"
     ]
    },
    {
     "name": "stderr",
     "output_type": "stream",
     "text": [
      "31501it [2:11:48,  3.38it/s]"
     ]
    },
    {
     "name": "stdout",
     "output_type": "stream",
     "text": [
      "| epoch   3 | 31500/32580 batches | loss    1.334 \n",
      "money: much, creation, seen, able, support, fact, return, made, information, position\n",
      "lion: reason, course, failure, equilibrium, medicine, return, height, carry, framework, complete\n",
      "africa: india, germany, europe, america, kingdom, china, north, france, nine, south\n",
      "musician: actress, actor, author, writer, poet, composer, singer, kingdom, nine, canadian\n",
      "dance: music, external, traditional, original, popular, history, classical, early, united, able\n",
      "\n",
      "\n"
     ]
    },
    {
     "name": "stderr",
     "output_type": "stream",
     "text": [
      "32001it [2:13:50,  3.38it/s]"
     ]
    },
    {
     "name": "stdout",
     "output_type": "stream",
     "text": [
      "| epoch   3 | 32000/32580 batches | loss    1.333 \n",
      "money: much, creation, seen, able, support, fact, return, made, information, position\n",
      "lion: reason, course, failure, equilibrium, medicine, return, height, carry, framework, complete\n",
      "africa: india, germany, europe, america, kingdom, china, north, france, nine, south\n",
      "musician: actress, actor, author, writer, poet, composer, singer, kingdom, nine, canadian\n",
      "dance: music, external, traditional, original, popular, history, classical, early, united, able\n",
      "\n",
      "\n"
     ]
    },
    {
     "name": "stderr",
     "output_type": "stream",
     "text": [
      "32501it [2:15:51,  3.44it/s]"
     ]
    },
    {
     "name": "stdout",
     "output_type": "stream",
     "text": [
      "| epoch   3 | 32500/32580 batches | loss    1.330 \n",
      "money: much, creation, seen, able, support, fact, return, made, information, position\n",
      "lion: reason, course, failure, equilibrium, medicine, return, height, carry, framework, complete\n",
      "africa: india, germany, europe, america, kingdom, china, north, france, nine, south\n",
      "musician: actress, actor, author, writer, poet, composer, singer, kingdom, nine, canadian\n",
      "dance: music, external, traditional, original, popular, history, classical, early, united, able\n",
      "\n",
      "\n"
     ]
    },
    {
     "name": "stderr",
     "output_type": "stream",
     "text": [
      "32580it [2:16:13,  3.99it/s]\n",
      "1it [00:01,  1.48s/it]"
     ]
    },
    {
     "name": "stdout",
     "output_type": "stream",
     "text": [
      "| epoch   4 |     0/32580 batches | loss    1.319 \n",
      "money: much, creation, seen, able, support, fact, return, made, information, position\n",
      "lion: reason, course, failure, equilibrium, medicine, return, height, carry, framework, complete\n",
      "africa: india, germany, europe, america, kingdom, china, north, france, nine, south\n",
      "musician: actress, actor, author, writer, poet, composer, singer, kingdom, nine, canadian\n",
      "dance: music, external, traditional, original, popular, history, classical, early, united, able\n",
      "\n",
      "\n"
     ]
    },
    {
     "name": "stderr",
     "output_type": "stream",
     "text": [
      "501it [02:03,  3.37it/s]"
     ]
    },
    {
     "name": "stdout",
     "output_type": "stream",
     "text": [
      "| epoch   4 |   500/32580 batches | loss    1.326 \n",
      "money: much, creation, seen, able, support, fact, return, made, information, position\n",
      "lion: reason, course, failure, equilibrium, medicine, return, height, carry, framework, complete\n",
      "africa: india, germany, europe, america, kingdom, china, north, france, nine, south\n",
      "musician: actress, actor, author, writer, poet, composer, singer, kingdom, nine, canadian\n",
      "dance: music, external, traditional, original, popular, history, classical, early, united, able\n",
      "\n",
      "\n"
     ]
    },
    {
     "name": "stderr",
     "output_type": "stream",
     "text": [
      "1001it [04:04,  3.56it/s]"
     ]
    },
    {
     "name": "stdout",
     "output_type": "stream",
     "text": [
      "| epoch   4 |  1000/32580 batches | loss    1.329 \n",
      "money: much, creation, seen, able, support, fact, return, made, information, position\n",
      "lion: reason, course, failure, equilibrium, medicine, return, height, carry, framework, complete\n",
      "africa: india, germany, europe, america, kingdom, china, north, france, nine, south\n",
      "musician: actress, actor, author, writer, poet, composer, singer, kingdom, nine, canadian\n",
      "dance: music, external, traditional, original, popular, history, classical, early, united, able\n",
      "\n",
      "\n"
     ]
    },
    {
     "name": "stderr",
     "output_type": "stream",
     "text": [
      "1500it [06:05,  3.91it/s]"
     ]
    },
    {
     "name": "stdout",
     "output_type": "stream",
     "text": [
      "| epoch   4 |  1500/32580 batches | loss    1.330 \n"
     ]
    },
    {
     "name": "stderr",
     "output_type": "stream",
     "text": [
      "1501it [06:05,  2.83it/s]"
     ]
    },
    {
     "name": "stdout",
     "output_type": "stream",
     "text": [
      "money: much, creation, seen, able, support, fact, return, made, information, position\n",
      "lion: reason, course, failure, equilibrium, medicine, return, height, carry, framework, complete\n",
      "africa: india, germany, europe, america, kingdom, china, north, france, nine, south\n",
      "musician: actress, actor, author, writer, poet, composer, singer, kingdom, nine, canadian\n",
      "dance: music, external, traditional, original, popular, history, classical, early, united, able\n",
      "\n",
      "\n"
     ]
    },
    {
     "name": "stderr",
     "output_type": "stream",
     "text": [
      "2001it [08:07,  3.30it/s]"
     ]
    },
    {
     "name": "stdout",
     "output_type": "stream",
     "text": [
      "| epoch   4 |  2000/32580 batches | loss    1.332 \n",
      "money: much, creation, seen, able, support, fact, return, made, information, position\n",
      "lion: reason, course, failure, equilibrium, medicine, return, height, carry, framework, complete\n",
      "africa: india, germany, europe, america, kingdom, china, north, france, nine, south\n",
      "musician: actress, actor, author, writer, poet, composer, singer, kingdom, nine, canadian\n",
      "dance: music, external, traditional, original, popular, history, classical, early, united, able\n",
      "\n",
      "\n"
     ]
    },
    {
     "name": "stderr",
     "output_type": "stream",
     "text": [
      "2500it [10:09,  4.07it/s]"
     ]
    },
    {
     "name": "stdout",
     "output_type": "stream",
     "text": [
      "| epoch   4 |  2500/32580 batches | loss    1.334 \n"
     ]
    },
    {
     "name": "stderr",
     "output_type": "stream",
     "text": [
      "2501it [10:09,  3.29it/s]"
     ]
    },
    {
     "name": "stdout",
     "output_type": "stream",
     "text": [
      "money: much, creation, seen, able, support, fact, return, made, information, position\n",
      "lion: reason, course, failure, equilibrium, medicine, return, height, carry, framework, complete\n",
      "africa: india, germany, europe, america, kingdom, china, north, france, nine, south\n",
      "musician: actress, actor, author, writer, poet, composer, singer, kingdom, nine, canadian\n",
      "dance: music, external, traditional, original, popular, history, classical, early, united, able\n",
      "\n",
      "\n"
     ]
    },
    {
     "name": "stderr",
     "output_type": "stream",
     "text": [
      "3000it [12:11,  4.14it/s]"
     ]
    },
    {
     "name": "stdout",
     "output_type": "stream",
     "text": [
      "| epoch   4 |  3000/32580 batches | loss    1.330 \n"
     ]
    },
    {
     "name": "stderr",
     "output_type": "stream",
     "text": [
      "3001it [12:12,  3.22it/s]"
     ]
    },
    {
     "name": "stdout",
     "output_type": "stream",
     "text": [
      "money: much, creation, seen, able, support, fact, return, made, information, position\n",
      "lion: reason, course, failure, equilibrium, medicine, return, height, carry, framework, complete\n",
      "africa: india, germany, europe, america, kingdom, china, north, france, nine, south\n",
      "musician: actress, actor, author, writer, poet, composer, singer, kingdom, nine, canadian\n",
      "dance: music, external, traditional, original, popular, history, classical, early, united, able\n",
      "\n",
      "\n"
     ]
    },
    {
     "name": "stderr",
     "output_type": "stream",
     "text": [
      "3501it [14:12,  3.24it/s]"
     ]
    },
    {
     "name": "stdout",
     "output_type": "stream",
     "text": [
      "| epoch   4 |  3500/32580 batches | loss    1.334 \n",
      "money: much, creation, seen, able, support, fact, return, made, information, position\n",
      "lion: reason, course, failure, equilibrium, medicine, return, height, carry, framework, complete\n",
      "africa: india, germany, europe, america, kingdom, china, north, france, nine, south\n",
      "musician: actress, actor, author, writer, poet, composer, singer, kingdom, nine, canadian\n",
      "dance: music, external, traditional, original, popular, history, classical, early, united, able\n",
      "\n",
      "\n"
     ]
    },
    {
     "name": "stderr",
     "output_type": "stream",
     "text": [
      "4001it [16:13,  3.40it/s]"
     ]
    },
    {
     "name": "stdout",
     "output_type": "stream",
     "text": [
      "| epoch   4 |  4000/32580 batches | loss    1.332 \n",
      "money: much, creation, seen, able, support, fact, return, made, information, position\n",
      "lion: reason, course, failure, equilibrium, medicine, return, height, carry, framework, complete\n",
      "africa: india, germany, europe, america, kingdom, china, north, france, nine, south\n",
      "musician: actress, actor, author, writer, poet, composer, singer, kingdom, nine, canadian\n",
      "dance: music, external, traditional, original, popular, history, classical, early, united, able\n",
      "\n",
      "\n"
     ]
    },
    {
     "name": "stderr",
     "output_type": "stream",
     "text": [
      "4501it [18:14,  3.48it/s]"
     ]
    },
    {
     "name": "stdout",
     "output_type": "stream",
     "text": [
      "| epoch   4 |  4500/32580 batches | loss    1.332 \n",
      "money: much, creation, seen, able, support, fact, return, made, information, position\n",
      "lion: reason, course, failure, equilibrium, medicine, return, height, carry, framework, complete\n",
      "africa: india, germany, europe, america, kingdom, china, north, france, nine, south\n",
      "musician: actress, actor, author, writer, poet, composer, singer, kingdom, nine, canadian\n",
      "dance: music, external, traditional, original, popular, history, classical, early, united, able\n",
      "\n",
      "\n"
     ]
    },
    {
     "name": "stderr",
     "output_type": "stream",
     "text": [
      "5000it [20:16,  4.14it/s]"
     ]
    },
    {
     "name": "stdout",
     "output_type": "stream",
     "text": [
      "| epoch   4 |  5000/32580 batches | loss    1.332 \n"
     ]
    },
    {
     "name": "stderr",
     "output_type": "stream",
     "text": [
      "5001it [20:16,  2.66it/s]"
     ]
    },
    {
     "name": "stdout",
     "output_type": "stream",
     "text": [
      "money: much, creation, seen, able, support, fact, return, made, information, position\n",
      "lion: reason, course, failure, equilibrium, medicine, return, height, carry, framework, complete\n",
      "africa: india, germany, europe, america, kingdom, china, north, france, nine, south\n",
      "musician: actress, actor, author, writer, poet, composer, singer, kingdom, nine, canadian\n",
      "dance: music, external, traditional, original, popular, history, classical, early, united, able\n",
      "\n",
      "\n"
     ]
    },
    {
     "name": "stderr",
     "output_type": "stream",
     "text": [
      "5501it [22:18,  3.29it/s]"
     ]
    },
    {
     "name": "stdout",
     "output_type": "stream",
     "text": [
      "| epoch   4 |  5500/32580 batches | loss    1.331 \n",
      "money: much, creation, seen, able, support, fact, return, made, information, position\n",
      "lion: reason, course, failure, equilibrium, medicine, return, height, carry, framework, complete\n",
      "africa: india, germany, europe, america, kingdom, china, north, france, nine, south\n",
      "musician: actress, actor, author, writer, poet, composer, singer, kingdom, nine, canadian\n",
      "dance: music, external, traditional, original, popular, history, classical, early, united, able\n",
      "\n",
      "\n"
     ]
    },
    {
     "name": "stderr",
     "output_type": "stream",
     "text": [
      "6001it [24:18,  3.45it/s]"
     ]
    },
    {
     "name": "stdout",
     "output_type": "stream",
     "text": [
      "| epoch   4 |  6000/32580 batches | loss    1.332 \n",
      "money: much, creation, seen, able, support, fact, return, made, information, position\n",
      "lion: reason, course, failure, equilibrium, medicine, return, height, carry, framework, complete\n",
      "africa: india, germany, europe, america, kingdom, china, north, france, nine, south\n",
      "musician: actress, actor, author, writer, poet, composer, singer, kingdom, nine, canadian\n",
      "dance: music, external, traditional, original, popular, history, classical, early, united, able\n",
      "\n",
      "\n"
     ]
    },
    {
     "name": "stderr",
     "output_type": "stream",
     "text": [
      "6501it [26:20,  3.49it/s]"
     ]
    },
    {
     "name": "stdout",
     "output_type": "stream",
     "text": [
      "| epoch   4 |  6500/32580 batches | loss    1.333 \n",
      "money: much, creation, seen, able, support, fact, return, made, information, position\n",
      "lion: reason, course, failure, equilibrium, medicine, return, height, carry, framework, complete\n",
      "africa: india, germany, europe, america, kingdom, china, north, france, nine, south\n",
      "musician: actress, actor, author, writer, poet, composer, singer, kingdom, nine, canadian\n",
      "dance: music, external, traditional, original, popular, history, classical, early, united, able\n",
      "\n",
      "\n"
     ]
    },
    {
     "name": "stderr",
     "output_type": "stream",
     "text": [
      "7001it [28:20,  3.47it/s]"
     ]
    },
    {
     "name": "stdout",
     "output_type": "stream",
     "text": [
      "| epoch   4 |  7000/32580 batches | loss    1.333 \n",
      "money: much, creation, seen, able, support, fact, return, made, information, position\n",
      "lion: reason, course, failure, equilibrium, medicine, return, height, carry, framework, complete\n",
      "africa: india, germany, europe, america, kingdom, china, north, france, nine, south\n",
      "musician: actress, actor, author, writer, poet, composer, singer, kingdom, nine, canadian\n",
      "dance: music, external, traditional, original, popular, history, classical, early, united, able\n",
      "\n",
      "\n"
     ]
    },
    {
     "name": "stderr",
     "output_type": "stream",
     "text": [
      "7501it [30:24,  3.33it/s]"
     ]
    },
    {
     "name": "stdout",
     "output_type": "stream",
     "text": [
      "| epoch   4 |  7500/32580 batches | loss    1.329 \n",
      "money: much, creation, seen, able, support, fact, return, made, information, position\n",
      "lion: reason, course, failure, equilibrium, medicine, return, height, carry, framework, complete\n",
      "africa: india, germany, europe, america, kingdom, china, north, france, nine, south\n",
      "musician: actress, actor, author, writer, poet, composer, singer, kingdom, nine, canadian\n",
      "dance: music, external, traditional, original, popular, history, classical, early, united, able\n",
      "\n",
      "\n"
     ]
    },
    {
     "name": "stderr",
     "output_type": "stream",
     "text": [
      "8001it [32:30,  3.16it/s]"
     ]
    },
    {
     "name": "stdout",
     "output_type": "stream",
     "text": [
      "| epoch   4 |  8000/32580 batches | loss    1.330 \n",
      "money: much, creation, seen, able, support, fact, return, made, information, position\n",
      "lion: reason, course, failure, equilibrium, medicine, return, height, carry, framework, complete\n",
      "africa: india, germany, europe, america, kingdom, china, north, france, nine, south\n",
      "musician: actress, actor, author, writer, poet, composer, singer, kingdom, nine, canadian\n",
      "dance: music, external, traditional, original, popular, history, classical, early, united, able\n",
      "\n",
      "\n"
     ]
    },
    {
     "name": "stderr",
     "output_type": "stream",
     "text": [
      "8500it [34:40,  4.07it/s]"
     ]
    },
    {
     "name": "stdout",
     "output_type": "stream",
     "text": [
      "| epoch   4 |  8500/32580 batches | loss    1.331 \n"
     ]
    },
    {
     "name": "stderr",
     "output_type": "stream",
     "text": [
      "8501it [34:41,  3.25it/s]"
     ]
    },
    {
     "name": "stdout",
     "output_type": "stream",
     "text": [
      "money: much, creation, seen, able, support, fact, return, made, information, position\n",
      "lion: reason, course, failure, equilibrium, medicine, return, height, carry, framework, complete\n",
      "africa: india, germany, europe, america, kingdom, china, north, france, nine, south\n",
      "musician: actress, actor, author, writer, poet, composer, singer, kingdom, nine, canadian\n",
      "dance: music, external, traditional, original, popular, history, classical, early, united, able\n",
      "\n",
      "\n"
     ]
    },
    {
     "name": "stderr",
     "output_type": "stream",
     "text": [
      "9001it [36:46,  3.36it/s]"
     ]
    },
    {
     "name": "stdout",
     "output_type": "stream",
     "text": [
      "| epoch   4 |  9000/32580 batches | loss    1.333 \n",
      "money: much, creation, seen, able, support, fact, return, made, information, position\n",
      "lion: reason, course, failure, equilibrium, medicine, return, height, carry, framework, complete\n",
      "africa: india, germany, europe, america, kingdom, china, north, france, nine, south\n",
      "musician: actress, actor, author, writer, poet, composer, singer, kingdom, nine, canadian\n",
      "dance: music, external, traditional, original, popular, history, classical, early, united, able\n",
      "\n",
      "\n"
     ]
    },
    {
     "name": "stderr",
     "output_type": "stream",
     "text": [
      "9500it [38:51,  4.04it/s]"
     ]
    },
    {
     "name": "stdout",
     "output_type": "stream",
     "text": [
      "| epoch   4 |  9500/32580 batches | loss    1.334 \n"
     ]
    },
    {
     "name": "stderr",
     "output_type": "stream",
     "text": [
      "9501it [38:52,  2.99it/s]"
     ]
    },
    {
     "name": "stdout",
     "output_type": "stream",
     "text": [
      "money: much, creation, seen, able, support, fact, return, made, information, position\n",
      "lion: reason, course, failure, equilibrium, medicine, return, height, carry, framework, complete\n",
      "africa: india, germany, europe, america, kingdom, china, north, france, nine, south\n",
      "musician: actress, actor, author, writer, poet, composer, singer, kingdom, nine, canadian\n",
      "dance: music, external, traditional, original, popular, history, classical, early, united, able\n",
      "\n",
      "\n"
     ]
    },
    {
     "name": "stderr",
     "output_type": "stream",
     "text": [
      "10001it [40:58,  3.23it/s]"
     ]
    },
    {
     "name": "stdout",
     "output_type": "stream",
     "text": [
      "| epoch   4 | 10000/32580 batches | loss    1.332 \n",
      "money: much, creation, seen, able, support, fact, return, made, information, position\n",
      "lion: reason, course, failure, equilibrium, medicine, return, height, carry, framework, complete\n",
      "africa: india, germany, europe, america, kingdom, china, north, france, nine, south\n",
      "musician: actress, actor, author, writer, poet, composer, singer, kingdom, nine, canadian\n",
      "dance: music, external, traditional, original, popular, history, classical, early, united, able\n",
      "\n",
      "\n"
     ]
    },
    {
     "name": "stderr",
     "output_type": "stream",
     "text": [
      "10501it [43:00,  3.48it/s]"
     ]
    },
    {
     "name": "stdout",
     "output_type": "stream",
     "text": [
      "| epoch   4 | 10500/32580 batches | loss    1.334 \n",
      "money: much, creation, seen, able, support, fact, return, made, information, position\n",
      "lion: reason, course, failure, equilibrium, medicine, return, height, carry, framework, complete\n",
      "africa: india, germany, europe, america, kingdom, china, north, france, nine, south\n",
      "musician: actress, actor, author, writer, poet, composer, singer, kingdom, nine, canadian\n",
      "dance: music, external, traditional, original, popular, history, classical, early, united, able\n",
      "\n",
      "\n"
     ]
    },
    {
     "name": "stderr",
     "output_type": "stream",
     "text": [
      "11001it [45:00,  3.50it/s]"
     ]
    },
    {
     "name": "stdout",
     "output_type": "stream",
     "text": [
      "| epoch   4 | 11000/32580 batches | loss    1.331 \n",
      "money: much, creation, seen, able, support, fact, return, made, information, position\n",
      "lion: reason, course, failure, equilibrium, medicine, return, height, carry, framework, complete\n",
      "africa: india, germany, europe, america, kingdom, china, north, france, nine, south\n",
      "musician: actress, actor, author, writer, poet, composer, singer, kingdom, nine, canadian\n",
      "dance: music, external, traditional, original, popular, history, classical, early, united, able\n",
      "\n",
      "\n"
     ]
    },
    {
     "name": "stderr",
     "output_type": "stream",
     "text": [
      "11500it [47:00,  4.08it/s]"
     ]
    },
    {
     "name": "stdout",
     "output_type": "stream",
     "text": [
      "| epoch   4 | 11500/32580 batches | loss    1.331 \n"
     ]
    },
    {
     "name": "stderr",
     "output_type": "stream",
     "text": [
      "11501it [47:01,  3.13it/s]"
     ]
    },
    {
     "name": "stdout",
     "output_type": "stream",
     "text": [
      "money: much, creation, seen, able, support, fact, return, made, information, position\n",
      "lion: reason, course, failure, equilibrium, medicine, return, height, carry, framework, complete\n",
      "africa: india, germany, europe, america, kingdom, china, north, france, nine, south\n",
      "musician: actress, actor, author, writer, poet, composer, singer, kingdom, nine, canadian\n",
      "dance: music, external, traditional, original, popular, history, classical, early, united, able\n",
      "\n",
      "\n"
     ]
    },
    {
     "name": "stderr",
     "output_type": "stream",
     "text": [
      "12001it [49:01,  3.46it/s]"
     ]
    },
    {
     "name": "stdout",
     "output_type": "stream",
     "text": [
      "| epoch   4 | 12000/32580 batches | loss    1.329 \n",
      "money: much, creation, seen, able, support, fact, return, made, information, position\n",
      "lion: reason, course, failure, equilibrium, medicine, return, height, carry, framework, complete\n",
      "africa: india, germany, europe, america, kingdom, china, north, france, nine, south\n",
      "musician: actress, actor, author, writer, poet, composer, singer, kingdom, nine, canadian\n",
      "dance: music, external, traditional, original, popular, history, classical, early, united, able\n",
      "\n",
      "\n"
     ]
    },
    {
     "name": "stderr",
     "output_type": "stream",
     "text": [
      "12500it [51:01,  4.21it/s]"
     ]
    },
    {
     "name": "stdout",
     "output_type": "stream",
     "text": [
      "| epoch   4 | 12500/32580 batches | loss    1.333 \n"
     ]
    },
    {
     "name": "stderr",
     "output_type": "stream",
     "text": [
      "12501it [51:01,  2.93it/s]"
     ]
    },
    {
     "name": "stdout",
     "output_type": "stream",
     "text": [
      "money: much, creation, seen, able, support, fact, return, made, information, position\n",
      "lion: reason, course, failure, equilibrium, medicine, return, height, carry, framework, complete\n",
      "africa: india, germany, europe, america, kingdom, china, north, france, nine, south\n",
      "musician: actress, actor, author, writer, poet, composer, singer, kingdom, nine, canadian\n",
      "dance: music, external, traditional, original, popular, history, classical, early, united, able\n",
      "\n",
      "\n"
     ]
    },
    {
     "name": "stderr",
     "output_type": "stream",
     "text": [
      "13000it [53:01,  4.13it/s]"
     ]
    },
    {
     "name": "stdout",
     "output_type": "stream",
     "text": [
      "| epoch   4 | 13000/32580 batches | loss    1.328 \n"
     ]
    },
    {
     "name": "stderr",
     "output_type": "stream",
     "text": [
      "13001it [53:02,  3.16it/s]"
     ]
    },
    {
     "name": "stdout",
     "output_type": "stream",
     "text": [
      "money: much, creation, seen, able, support, fact, return, made, information, position\n",
      "lion: reason, course, failure, equilibrium, medicine, return, height, carry, framework, complete\n",
      "africa: india, germany, europe, america, kingdom, china, north, france, nine, south\n",
      "musician: actress, actor, author, writer, poet, composer, singer, kingdom, nine, canadian\n",
      "dance: music, external, traditional, original, popular, history, classical, early, united, able\n",
      "\n",
      "\n"
     ]
    },
    {
     "name": "stderr",
     "output_type": "stream",
     "text": [
      "13501it [55:03,  3.49it/s]"
     ]
    },
    {
     "name": "stdout",
     "output_type": "stream",
     "text": [
      "| epoch   4 | 13500/32580 batches | loss    1.330 \n",
      "money: much, creation, seen, able, support, fact, return, made, information, position\n",
      "lion: reason, course, failure, equilibrium, medicine, return, height, carry, framework, complete\n",
      "africa: india, germany, europe, america, kingdom, china, north, france, nine, south\n",
      "musician: actress, actor, author, writer, poet, composer, singer, kingdom, nine, canadian\n",
      "dance: music, external, traditional, original, popular, history, classical, early, united, able\n",
      "\n",
      "\n"
     ]
    },
    {
     "name": "stderr",
     "output_type": "stream",
     "text": [
      "14001it [57:03,  3.49it/s]"
     ]
    },
    {
     "name": "stdout",
     "output_type": "stream",
     "text": [
      "| epoch   4 | 14000/32580 batches | loss    1.334 \n",
      "money: much, creation, seen, able, support, fact, return, made, information, position\n",
      "lion: reason, course, failure, equilibrium, medicine, return, height, carry, framework, complete\n",
      "africa: india, germany, europe, america, kingdom, china, north, france, nine, south\n",
      "musician: actress, actor, author, writer, poet, composer, singer, kingdom, nine, canadian\n",
      "dance: music, external, traditional, original, popular, history, classical, early, united, able\n",
      "\n",
      "\n"
     ]
    },
    {
     "name": "stderr",
     "output_type": "stream",
     "text": [
      "14501it [59:04,  3.56it/s]"
     ]
    },
    {
     "name": "stdout",
     "output_type": "stream",
     "text": [
      "| epoch   4 | 14500/32580 batches | loss    1.330 \n",
      "money: much, creation, seen, able, support, fact, return, made, information, position\n",
      "lion: reason, course, failure, equilibrium, medicine, return, height, carry, framework, complete\n",
      "africa: india, germany, europe, america, kingdom, china, north, france, nine, south\n",
      "musician: actress, actor, author, writer, poet, composer, singer, kingdom, nine, canadian\n",
      "dance: music, external, traditional, original, popular, history, classical, early, united, able\n",
      "\n",
      "\n"
     ]
    },
    {
     "name": "stderr",
     "output_type": "stream",
     "text": [
      "15001it [1:01:04,  3.37it/s]"
     ]
    },
    {
     "name": "stdout",
     "output_type": "stream",
     "text": [
      "| epoch   4 | 15000/32580 batches | loss    1.330 \n",
      "money: much, creation, seen, able, support, fact, return, made, information, position\n",
      "lion: reason, course, failure, equilibrium, medicine, return, height, carry, framework, complete\n",
      "africa: india, germany, europe, america, kingdom, china, north, france, nine, south\n",
      "musician: actress, actor, author, writer, poet, composer, singer, kingdom, nine, canadian\n",
      "dance: music, external, traditional, original, popular, history, classical, early, united, able\n",
      "\n",
      "\n"
     ]
    },
    {
     "name": "stderr",
     "output_type": "stream",
     "text": [
      "15501it [1:03:05,  3.47it/s]"
     ]
    },
    {
     "name": "stdout",
     "output_type": "stream",
     "text": [
      "| epoch   4 | 15500/32580 batches | loss    1.332 \n",
      "money: much, creation, seen, able, support, fact, return, made, information, position\n",
      "lion: reason, course, failure, equilibrium, medicine, return, height, carry, framework, complete\n",
      "africa: india, germany, europe, america, kingdom, china, north, france, nine, south\n",
      "musician: actress, actor, author, writer, poet, composer, singer, kingdom, nine, canadian\n",
      "dance: music, external, traditional, original, popular, history, classical, early, united, able\n",
      "\n",
      "\n"
     ]
    },
    {
     "name": "stderr",
     "output_type": "stream",
     "text": [
      "16000it [1:05:05,  4.17it/s]"
     ]
    },
    {
     "name": "stdout",
     "output_type": "stream",
     "text": [
      "| epoch   4 | 16000/32580 batches | loss    1.326 \n"
     ]
    },
    {
     "name": "stderr",
     "output_type": "stream",
     "text": [
      "16001it [1:05:05,  3.33it/s]"
     ]
    },
    {
     "name": "stdout",
     "output_type": "stream",
     "text": [
      "money: much, creation, seen, able, support, fact, return, made, information, position\n",
      "lion: reason, course, failure, equilibrium, medicine, return, height, carry, framework, complete\n",
      "africa: india, germany, europe, america, kingdom, china, north, france, nine, south\n",
      "musician: actress, actor, author, writer, poet, composer, singer, kingdom, nine, canadian\n",
      "dance: music, external, traditional, original, popular, history, classical, early, united, able\n",
      "\n",
      "\n"
     ]
    },
    {
     "name": "stderr",
     "output_type": "stream",
     "text": [
      "16501it [1:07:06,  3.50it/s]"
     ]
    },
    {
     "name": "stdout",
     "output_type": "stream",
     "text": [
      "| epoch   4 | 16500/32580 batches | loss    1.332 \n",
      "money: much, creation, seen, able, support, fact, return, made, information, position\n",
      "lion: reason, course, failure, equilibrium, medicine, return, height, carry, framework, complete\n",
      "africa: india, germany, europe, america, kingdom, china, north, france, nine, south\n",
      "musician: actress, actor, author, writer, poet, composer, singer, kingdom, nine, canadian\n",
      "dance: music, external, traditional, original, popular, history, classical, early, united, able\n",
      "\n",
      "\n"
     ]
    },
    {
     "name": "stderr",
     "output_type": "stream",
     "text": [
      "17000it [1:09:06,  4.19it/s]"
     ]
    },
    {
     "name": "stdout",
     "output_type": "stream",
     "text": [
      "| epoch   4 | 17000/32580 batches | loss    1.331 \n"
     ]
    },
    {
     "name": "stderr",
     "output_type": "stream",
     "text": [
      "17001it [1:09:06,  3.19it/s]"
     ]
    },
    {
     "name": "stdout",
     "output_type": "stream",
     "text": [
      "money: much, creation, seen, able, support, fact, return, made, information, position\n",
      "lion: reason, course, failure, equilibrium, medicine, return, height, carry, framework, complete\n",
      "africa: india, germany, europe, america, kingdom, china, north, france, nine, south\n",
      "musician: actress, actor, author, writer, poet, composer, singer, kingdom, nine, canadian\n",
      "dance: music, external, traditional, original, popular, history, classical, early, united, able\n",
      "\n",
      "\n"
     ]
    },
    {
     "name": "stderr",
     "output_type": "stream",
     "text": [
      "17501it [1:11:06,  3.42it/s]"
     ]
    },
    {
     "name": "stdout",
     "output_type": "stream",
     "text": [
      "| epoch   4 | 17500/32580 batches | loss    1.336 \n",
      "money: much, creation, seen, able, support, fact, return, made, information, position\n",
      "lion: reason, course, failure, equilibrium, medicine, return, height, carry, framework, complete\n",
      "africa: india, germany, europe, america, kingdom, china, north, france, nine, south\n",
      "musician: actress, actor, author, writer, poet, composer, singer, kingdom, nine, canadian\n",
      "dance: music, external, traditional, original, popular, history, classical, early, united, able\n",
      "\n",
      "\n"
     ]
    },
    {
     "name": "stderr",
     "output_type": "stream",
     "text": [
      "18001it [1:13:06,  3.44it/s]"
     ]
    },
    {
     "name": "stdout",
     "output_type": "stream",
     "text": [
      "| epoch   4 | 18000/32580 batches | loss    1.331 \n",
      "money: much, creation, seen, able, support, fact, return, made, information, position\n",
      "lion: reason, course, failure, equilibrium, medicine, return, height, carry, framework, complete\n",
      "africa: india, germany, europe, america, kingdom, china, north, france, nine, south\n",
      "musician: actress, actor, author, writer, poet, composer, singer, kingdom, nine, canadian\n",
      "dance: music, external, traditional, original, popular, history, classical, early, united, able\n",
      "\n",
      "\n"
     ]
    },
    {
     "name": "stderr",
     "output_type": "stream",
     "text": [
      "18501it [1:15:06,  3.37it/s]"
     ]
    },
    {
     "name": "stdout",
     "output_type": "stream",
     "text": [
      "| epoch   4 | 18500/32580 batches | loss    1.328 \n",
      "money: much, creation, seen, able, support, fact, return, made, information, position\n",
      "lion: reason, course, failure, equilibrium, medicine, return, height, carry, framework, complete\n",
      "africa: india, germany, europe, america, kingdom, china, north, france, nine, south\n",
      "musician: actress, actor, author, writer, poet, composer, singer, kingdom, nine, canadian\n",
      "dance: music, external, traditional, original, popular, history, classical, early, united, able\n",
      "\n",
      "\n"
     ]
    },
    {
     "name": "stderr",
     "output_type": "stream",
     "text": [
      "19001it [1:17:07,  3.47it/s]"
     ]
    },
    {
     "name": "stdout",
     "output_type": "stream",
     "text": [
      "| epoch   4 | 19000/32580 batches | loss    1.328 \n",
      "money: much, creation, seen, able, support, fact, return, made, information, position\n",
      "lion: reason, course, failure, equilibrium, medicine, return, height, carry, framework, complete\n",
      "africa: india, germany, europe, america, kingdom, china, north, france, nine, south\n",
      "musician: actress, actor, author, writer, poet, composer, singer, kingdom, nine, canadian\n",
      "dance: music, external, traditional, original, popular, history, classical, early, united, able\n",
      "\n",
      "\n"
     ]
    },
    {
     "name": "stderr",
     "output_type": "stream",
     "text": [
      "19501it [1:19:07,  3.49it/s]"
     ]
    },
    {
     "name": "stdout",
     "output_type": "stream",
     "text": [
      "| epoch   4 | 19500/32580 batches | loss    1.328 \n",
      "money: much, creation, seen, able, support, fact, return, made, information, position\n",
      "lion: reason, course, failure, equilibrium, medicine, return, height, carry, framework, complete\n",
      "africa: india, germany, europe, america, kingdom, china, north, france, nine, south\n",
      "musician: actress, actor, author, writer, poet, composer, singer, kingdom, nine, canadian\n",
      "dance: music, external, traditional, original, popular, history, classical, early, united, able\n",
      "\n",
      "\n"
     ]
    },
    {
     "name": "stderr",
     "output_type": "stream",
     "text": [
      "20001it [1:21:07,  3.49it/s]"
     ]
    },
    {
     "name": "stdout",
     "output_type": "stream",
     "text": [
      "| epoch   4 | 20000/32580 batches | loss    1.334 \n",
      "money: much, creation, seen, able, support, fact, return, made, information, position\n",
      "lion: reason, course, failure, equilibrium, medicine, return, height, carry, framework, complete\n",
      "africa: india, germany, europe, america, kingdom, china, north, france, nine, south\n",
      "musician: actress, actor, author, writer, poet, composer, singer, kingdom, nine, canadian\n",
      "dance: music, external, traditional, original, popular, history, classical, early, united, able\n",
      "\n",
      "\n"
     ]
    },
    {
     "name": "stderr",
     "output_type": "stream",
     "text": [
      "20501it [1:23:06,  3.57it/s]"
     ]
    },
    {
     "name": "stdout",
     "output_type": "stream",
     "text": [
      "| epoch   4 | 20500/32580 batches | loss    1.330 \n",
      "money: much, creation, seen, able, support, fact, return, made, information, position\n",
      "lion: reason, course, failure, equilibrium, medicine, return, height, carry, framework, complete\n",
      "africa: india, germany, europe, america, kingdom, china, north, france, nine, south\n",
      "musician: actress, actor, author, writer, poet, composer, singer, kingdom, nine, canadian\n",
      "dance: music, external, traditional, original, popular, history, classical, early, united, able\n",
      "\n",
      "\n"
     ]
    },
    {
     "name": "stderr",
     "output_type": "stream",
     "text": [
      "21000it [1:25:07,  4.16it/s]"
     ]
    },
    {
     "name": "stdout",
     "output_type": "stream",
     "text": [
      "| epoch   4 | 21000/32580 batches | loss    1.332 \n"
     ]
    },
    {
     "name": "stderr",
     "output_type": "stream",
     "text": [
      "21001it [1:25:07,  2.98it/s]"
     ]
    },
    {
     "name": "stdout",
     "output_type": "stream",
     "text": [
      "money: much, creation, seen, able, support, fact, return, made, information, position\n",
      "lion: reason, course, failure, equilibrium, medicine, return, height, carry, framework, complete\n",
      "africa: india, germany, europe, america, kingdom, china, north, france, nine, south\n",
      "musician: actress, actor, author, writer, poet, composer, singer, kingdom, nine, canadian\n",
      "dance: music, external, traditional, original, popular, history, classical, early, united, able\n",
      "\n",
      "\n"
     ]
    },
    {
     "name": "stderr",
     "output_type": "stream",
     "text": [
      "21500it [4:51:04,  2.71it/s] "
     ]
    },
    {
     "name": "stdout",
     "output_type": "stream",
     "text": [
      "| epoch   4 | 21500/32580 batches | loss    1.331 \n"
     ]
    },
    {
     "name": "stderr",
     "output_type": "stream",
     "text": [
      "21501it [4:51:05,  1.95it/s]"
     ]
    },
    {
     "name": "stdout",
     "output_type": "stream",
     "text": [
      "money: much, creation, seen, able, support, fact, return, made, information, position\n",
      "lion: reason, course, failure, equilibrium, medicine, return, height, carry, framework, complete\n",
      "africa: india, germany, europe, america, kingdom, china, north, france, nine, south\n",
      "musician: actress, actor, author, writer, poet, composer, singer, kingdom, nine, canadian\n",
      "dance: music, external, traditional, original, popular, history, classical, early, united, able\n",
      "\n",
      "\n"
     ]
    },
    {
     "name": "stderr",
     "output_type": "stream",
     "text": [
      "22000it [9:23:09,  3.01it/s] "
     ]
    },
    {
     "name": "stdout",
     "output_type": "stream",
     "text": [
      "| epoch   4 | 22000/32580 batches | loss    1.334 \n"
     ]
    },
    {
     "name": "stderr",
     "output_type": "stream",
     "text": [
      "22001it [9:23:09,  2.02it/s]"
     ]
    },
    {
     "name": "stdout",
     "output_type": "stream",
     "text": [
      "money: much, creation, seen, able, support, fact, return, made, information, position\n",
      "lion: reason, course, failure, equilibrium, medicine, return, height, carry, framework, complete\n",
      "africa: india, germany, europe, america, kingdom, china, north, france, nine, south\n",
      "musician: actress, actor, author, writer, poet, composer, singer, kingdom, nine, canadian\n",
      "dance: music, external, traditional, original, popular, history, classical, early, united, able\n",
      "\n",
      "\n"
     ]
    },
    {
     "name": "stderr",
     "output_type": "stream",
     "text": [
      "22500it [12:58:17,  2.51it/s] "
     ]
    },
    {
     "name": "stdout",
     "output_type": "stream",
     "text": [
      "| epoch   4 | 22500/32580 batches | loss    1.332 \n"
     ]
    },
    {
     "name": "stderr",
     "output_type": "stream",
     "text": [
      "22501it [12:58:18,  1.84it/s]"
     ]
    },
    {
     "name": "stdout",
     "output_type": "stream",
     "text": [
      "money: much, creation, seen, able, support, fact, return, made, information, position\n",
      "lion: reason, course, failure, equilibrium, medicine, return, height, carry, framework, complete\n",
      "africa: india, germany, europe, america, kingdom, china, north, france, nine, south\n",
      "musician: actress, actor, author, writer, poet, composer, singer, kingdom, nine, canadian\n",
      "dance: music, external, traditional, original, popular, history, classical, early, united, able\n",
      "\n",
      "\n"
     ]
    },
    {
     "name": "stderr",
     "output_type": "stream",
     "text": [
      "23001it [13:00:26,  3.36it/s]"
     ]
    },
    {
     "name": "stdout",
     "output_type": "stream",
     "text": [
      "| epoch   4 | 23000/32580 batches | loss    1.329 \n",
      "money: much, creation, seen, able, support, fact, return, made, information, position\n",
      "lion: reason, course, failure, equilibrium, medicine, return, height, carry, framework, complete\n",
      "africa: india, germany, europe, america, kingdom, china, north, france, nine, south\n",
      "musician: actress, actor, author, writer, poet, composer, singer, kingdom, nine, canadian\n",
      "dance: music, external, traditional, original, popular, history, classical, early, united, able\n",
      "\n",
      "\n"
     ]
    },
    {
     "name": "stderr",
     "output_type": "stream",
     "text": [
      "23501it [13:02:29,  3.51it/s]"
     ]
    },
    {
     "name": "stdout",
     "output_type": "stream",
     "text": [
      "| epoch   4 | 23500/32580 batches | loss    1.331 \n",
      "money: much, creation, seen, able, support, fact, return, made, information, position\n",
      "lion: reason, course, failure, equilibrium, medicine, return, height, carry, framework, complete\n",
      "africa: india, germany, europe, america, kingdom, china, north, france, nine, south\n",
      "musician: actress, actor, author, writer, poet, composer, singer, kingdom, nine, canadian\n",
      "dance: music, external, traditional, original, popular, history, classical, early, united, able\n",
      "\n",
      "\n"
     ]
    },
    {
     "name": "stderr",
     "output_type": "stream",
     "text": [
      "24000it [13:17:10,  2.96it/s] "
     ]
    },
    {
     "name": "stdout",
     "output_type": "stream",
     "text": [
      "| epoch   4 | 24000/32580 batches | loss    1.333 \n"
     ]
    },
    {
     "name": "stderr",
     "output_type": "stream",
     "text": [
      "24001it [13:17:11,  1.75it/s]"
     ]
    },
    {
     "name": "stdout",
     "output_type": "stream",
     "text": [
      "money: much, creation, seen, able, support, fact, return, made, information, position\n",
      "lion: reason, course, failure, equilibrium, medicine, return, height, carry, framework, complete\n",
      "africa: india, germany, europe, america, kingdom, china, north, france, nine, south\n",
      "musician: actress, actor, author, writer, poet, composer, singer, kingdom, nine, canadian\n",
      "dance: music, external, traditional, original, popular, history, classical, early, united, able\n",
      "\n",
      "\n"
     ]
    },
    {
     "name": "stderr",
     "output_type": "stream",
     "text": [
      "24500it [13:19:51,  3.20it/s]"
     ]
    },
    {
     "name": "stdout",
     "output_type": "stream",
     "text": [
      "| epoch   4 | 24500/32580 batches | loss    1.333 \n"
     ]
    },
    {
     "name": "stderr",
     "output_type": "stream",
     "text": [
      "24501it [13:19:52,  2.25it/s]"
     ]
    },
    {
     "name": "stdout",
     "output_type": "stream",
     "text": [
      "money: much, creation, seen, able, support, fact, return, made, information, position\n",
      "lion: reason, course, failure, equilibrium, medicine, return, height, carry, framework, complete\n",
      "africa: india, germany, europe, america, kingdom, china, north, france, nine, south\n",
      "musician: actress, actor, author, writer, poet, composer, singer, kingdom, nine, canadian\n",
      "dance: music, external, traditional, original, popular, history, classical, early, united, able\n",
      "\n",
      "\n"
     ]
    },
    {
     "name": "stderr",
     "output_type": "stream",
     "text": [
      "25000it [13:22:39,  3.24it/s]"
     ]
    },
    {
     "name": "stdout",
     "output_type": "stream",
     "text": [
      "| epoch   4 | 25000/32580 batches | loss    1.328 \n"
     ]
    },
    {
     "name": "stderr",
     "output_type": "stream",
     "text": [
      "25001it [13:22:40,  2.22it/s]"
     ]
    },
    {
     "name": "stdout",
     "output_type": "stream",
     "text": [
      "money: much, creation, seen, able, support, fact, return, made, information, position\n",
      "lion: reason, course, failure, equilibrium, medicine, return, height, carry, framework, complete\n",
      "africa: india, germany, europe, america, kingdom, china, north, france, nine, south\n",
      "musician: actress, actor, author, writer, poet, composer, singer, kingdom, nine, canadian\n",
      "dance: music, external, traditional, original, popular, history, classical, early, united, able\n",
      "\n",
      "\n"
     ]
    },
    {
     "name": "stderr",
     "output_type": "stream",
     "text": [
      "25500it [13:25:19,  3.43it/s]"
     ]
    },
    {
     "name": "stdout",
     "output_type": "stream",
     "text": [
      "| epoch   4 | 25500/32580 batches | loss    1.332 \n"
     ]
    },
    {
     "name": "stderr",
     "output_type": "stream",
     "text": [
      "25501it [13:25:19,  2.73it/s]"
     ]
    },
    {
     "name": "stdout",
     "output_type": "stream",
     "text": [
      "money: much, creation, seen, able, support, fact, return, made, information, position\n",
      "lion: reason, course, failure, equilibrium, medicine, return, height, carry, framework, complete\n",
      "africa: india, germany, europe, america, kingdom, china, north, france, nine, south\n",
      "musician: actress, actor, author, writer, poet, composer, singer, kingdom, nine, canadian\n",
      "dance: music, external, traditional, original, popular, history, classical, early, united, able\n",
      "\n",
      "\n"
     ]
    },
    {
     "name": "stderr",
     "output_type": "stream",
     "text": [
      "26000it [13:27:55,  3.64it/s]"
     ]
    },
    {
     "name": "stdout",
     "output_type": "stream",
     "text": [
      "| epoch   4 | 26000/32580 batches | loss    1.329 \n"
     ]
    },
    {
     "name": "stderr",
     "output_type": "stream",
     "text": [
      "26001it [13:27:55,  2.53it/s]"
     ]
    },
    {
     "name": "stdout",
     "output_type": "stream",
     "text": [
      "money: much, creation, seen, able, support, fact, return, made, information, position\n",
      "lion: reason, course, failure, equilibrium, medicine, return, height, carry, framework, complete\n",
      "africa: india, germany, europe, america, kingdom, china, north, france, nine, south\n",
      "musician: actress, actor, author, writer, poet, composer, singer, kingdom, nine, canadian\n",
      "dance: music, external, traditional, original, popular, history, classical, early, united, able\n",
      "\n",
      "\n"
     ]
    },
    {
     "name": "stderr",
     "output_type": "stream",
     "text": [
      "26500it [13:30:13,  3.51it/s]"
     ]
    },
    {
     "name": "stdout",
     "output_type": "stream",
     "text": [
      "| epoch   4 | 26500/32580 batches | loss    1.333 \n"
     ]
    },
    {
     "name": "stderr",
     "output_type": "stream",
     "text": [
      "26501it [13:30:13,  2.68it/s]"
     ]
    },
    {
     "name": "stdout",
     "output_type": "stream",
     "text": [
      "money: much, creation, seen, able, support, fact, return, made, information, position\n",
      "lion: reason, course, failure, equilibrium, medicine, return, height, carry, framework, complete\n",
      "africa: india, germany, europe, america, kingdom, china, north, france, nine, south\n",
      "musician: actress, actor, author, writer, poet, composer, singer, kingdom, nine, canadian\n",
      "dance: music, external, traditional, original, popular, history, classical, early, united, able\n",
      "\n",
      "\n"
     ]
    },
    {
     "name": "stderr",
     "output_type": "stream",
     "text": [
      "27000it [13:32:29,  3.76it/s]"
     ]
    },
    {
     "name": "stdout",
     "output_type": "stream",
     "text": [
      "| epoch   4 | 27000/32580 batches | loss    1.332 \n"
     ]
    },
    {
     "name": "stderr",
     "output_type": "stream",
     "text": [
      "27001it [13:32:29,  2.71it/s]"
     ]
    },
    {
     "name": "stdout",
     "output_type": "stream",
     "text": [
      "money: much, creation, seen, able, support, fact, return, made, information, position\n",
      "lion: reason, course, failure, equilibrium, medicine, return, height, carry, framework, complete\n",
      "africa: india, germany, europe, america, kingdom, china, north, france, nine, south\n",
      "musician: actress, actor, author, writer, poet, composer, singer, kingdom, nine, canadian\n",
      "dance: music, external, traditional, original, popular, history, classical, early, united, able\n",
      "\n",
      "\n"
     ]
    },
    {
     "name": "stderr",
     "output_type": "stream",
     "text": [
      "27501it [13:34:44,  3.20it/s]"
     ]
    },
    {
     "name": "stdout",
     "output_type": "stream",
     "text": [
      "| epoch   4 | 27500/32580 batches | loss    1.331 \n",
      "money: much, creation, seen, able, support, fact, return, made, information, position\n",
      "lion: reason, course, failure, equilibrium, medicine, return, height, carry, framework, complete\n",
      "africa: india, germany, europe, america, kingdom, china, north, france, nine, south\n",
      "musician: actress, actor, author, writer, poet, composer, singer, kingdom, nine, canadian\n",
      "dance: music, external, traditional, original, popular, history, classical, early, united, able\n",
      "\n",
      "\n"
     ]
    },
    {
     "name": "stderr",
     "output_type": "stream",
     "text": [
      "28000it [13:36:59,  3.85it/s]"
     ]
    },
    {
     "name": "stdout",
     "output_type": "stream",
     "text": [
      "| epoch   4 | 28000/32580 batches | loss    1.332 \n"
     ]
    },
    {
     "name": "stderr",
     "output_type": "stream",
     "text": [
      "28001it [13:37:00,  2.91it/s]"
     ]
    },
    {
     "name": "stdout",
     "output_type": "stream",
     "text": [
      "money: much, creation, seen, able, support, fact, return, made, information, position\n",
      "lion: reason, course, failure, equilibrium, medicine, return, height, carry, framework, complete\n",
      "africa: india, germany, europe, america, kingdom, china, north, france, nine, south\n",
      "musician: actress, actor, author, writer, poet, composer, singer, kingdom, nine, canadian\n",
      "dance: music, external, traditional, original, popular, history, classical, early, united, able\n",
      "\n",
      "\n"
     ]
    },
    {
     "name": "stderr",
     "output_type": "stream",
     "text": [
      "28501it [13:39:09,  3.51it/s]"
     ]
    },
    {
     "name": "stdout",
     "output_type": "stream",
     "text": [
      "| epoch   4 | 28500/32580 batches | loss    1.332 \n",
      "money: much, creation, seen, able, support, fact, return, made, information, position\n",
      "lion: reason, course, failure, equilibrium, medicine, return, height, carry, framework, complete\n",
      "africa: india, germany, europe, america, kingdom, china, north, france, nine, south\n",
      "musician: actress, actor, author, writer, poet, composer, singer, kingdom, nine, canadian\n",
      "dance: music, external, traditional, original, popular, history, classical, early, united, able\n",
      "\n",
      "\n"
     ]
    },
    {
     "name": "stderr",
     "output_type": "stream",
     "text": [
      "29000it [13:41:21,  3.77it/s]"
     ]
    },
    {
     "name": "stdout",
     "output_type": "stream",
     "text": [
      "| epoch   4 | 29000/32580 batches | loss    1.328 \n"
     ]
    },
    {
     "name": "stderr",
     "output_type": "stream",
     "text": [
      "29001it [13:41:21,  3.02it/s]"
     ]
    },
    {
     "name": "stdout",
     "output_type": "stream",
     "text": [
      "money: much, creation, seen, able, support, fact, return, made, information, position\n",
      "lion: reason, course, failure, equilibrium, medicine, return, height, carry, framework, complete\n",
      "africa: india, germany, europe, america, kingdom, china, north, france, nine, south\n",
      "musician: actress, actor, author, writer, poet, composer, singer, kingdom, nine, canadian\n",
      "dance: music, external, traditional, original, popular, history, classical, early, united, able\n",
      "\n",
      "\n"
     ]
    },
    {
     "name": "stderr",
     "output_type": "stream",
     "text": [
      "29500it [13:43:34,  3.81it/s]"
     ]
    },
    {
     "name": "stdout",
     "output_type": "stream",
     "text": [
      "| epoch   4 | 29500/32580 batches | loss    1.335 \n"
     ]
    },
    {
     "name": "stderr",
     "output_type": "stream",
     "text": [
      "29501it [13:43:35,  2.91it/s]"
     ]
    },
    {
     "name": "stdout",
     "output_type": "stream",
     "text": [
      "money: much, creation, seen, able, support, fact, return, made, information, position\n",
      "lion: reason, course, failure, equilibrium, medicine, return, height, carry, framework, complete\n",
      "africa: india, germany, europe, america, kingdom, china, north, france, nine, south\n",
      "musician: actress, actor, author, writer, poet, composer, singer, kingdom, nine, canadian\n",
      "dance: music, external, traditional, original, popular, history, classical, early, united, able\n",
      "\n",
      "\n"
     ]
    },
    {
     "name": "stderr",
     "output_type": "stream",
     "text": [
      "30000it [13:45:50,  3.70it/s]"
     ]
    },
    {
     "name": "stdout",
     "output_type": "stream",
     "text": [
      "| epoch   4 | 30000/32580 batches | loss    1.328 \n"
     ]
    },
    {
     "name": "stderr",
     "output_type": "stream",
     "text": [
      "30001it [13:45:50,  2.92it/s]"
     ]
    },
    {
     "name": "stdout",
     "output_type": "stream",
     "text": [
      "money: much, creation, seen, able, support, fact, return, made, information, position\n",
      "lion: reason, course, failure, equilibrium, medicine, return, height, carry, framework, complete\n",
      "africa: india, germany, europe, america, kingdom, china, north, france, nine, south\n",
      "musician: actress, actor, author, writer, poet, composer, singer, kingdom, nine, canadian\n",
      "dance: music, external, traditional, original, popular, history, classical, early, united, able\n",
      "\n",
      "\n"
     ]
    },
    {
     "name": "stderr",
     "output_type": "stream",
     "text": [
      "30501it [13:48:01,  3.47it/s]"
     ]
    },
    {
     "name": "stdout",
     "output_type": "stream",
     "text": [
      "| epoch   4 | 30500/32580 batches | loss    1.329 \n",
      "money: much, creation, seen, able, support, fact, return, made, information, position\n",
      "lion: reason, course, failure, equilibrium, medicine, return, height, carry, framework, complete\n",
      "africa: india, germany, europe, america, kingdom, china, north, france, nine, south\n",
      "musician: actress, actor, author, writer, poet, composer, singer, kingdom, nine, canadian\n",
      "dance: music, external, traditional, original, popular, history, classical, early, united, able\n",
      "\n",
      "\n"
     ]
    },
    {
     "name": "stderr",
     "output_type": "stream",
     "text": [
      "31001it [14:06:49,  3.55it/s] "
     ]
    },
    {
     "name": "stdout",
     "output_type": "stream",
     "text": [
      "| epoch   4 | 31000/32580 batches | loss    1.331 \n",
      "money: much, creation, seen, able, support, fact, return, made, information, position\n",
      "lion: reason, course, failure, equilibrium, medicine, return, height, carry, framework, complete\n",
      "africa: india, germany, europe, america, kingdom, china, north, france, nine, south\n",
      "musician: actress, actor, author, writer, poet, composer, singer, kingdom, nine, canadian\n",
      "dance: music, external, traditional, original, popular, history, classical, early, united, able\n",
      "\n",
      "\n"
     ]
    },
    {
     "name": "stderr",
     "output_type": "stream",
     "text": [
      "31501it [14:08:46,  3.53it/s]"
     ]
    },
    {
     "name": "stdout",
     "output_type": "stream",
     "text": [
      "| epoch   4 | 31500/32580 batches | loss    1.335 \n",
      "money: much, creation, seen, able, support, fact, return, made, information, position\n",
      "lion: reason, course, failure, equilibrium, medicine, return, height, carry, framework, complete\n",
      "africa: india, germany, europe, america, kingdom, china, north, france, nine, south\n",
      "musician: actress, actor, author, writer, poet, composer, singer, kingdom, nine, canadian\n",
      "dance: music, external, traditional, original, popular, history, classical, early, united, able\n",
      "\n",
      "\n"
     ]
    },
    {
     "name": "stderr",
     "output_type": "stream",
     "text": [
      "32001it [14:10:46,  3.52it/s]"
     ]
    },
    {
     "name": "stdout",
     "output_type": "stream",
     "text": [
      "| epoch   4 | 32000/32580 batches | loss    1.330 \n",
      "money: much, creation, seen, able, support, fact, return, made, information, position\n",
      "lion: reason, course, failure, equilibrium, medicine, return, height, carry, framework, complete\n",
      "africa: india, germany, europe, america, kingdom, china, north, france, nine, south\n",
      "musician: actress, actor, author, writer, poet, composer, singer, kingdom, nine, canadian\n",
      "dance: music, external, traditional, original, popular, history, classical, early, united, able\n",
      "\n",
      "\n"
     ]
    },
    {
     "name": "stderr",
     "output_type": "stream",
     "text": [
      "32181it [14:11:29,  4.24it/s]"
     ]
    }
   ],
   "source": [
    "for epoch in range(1, NUM_EPOCHS + 1):\n",
    "    epoch_start_time = time.time()\n",
    "    \n",
    "    train(train_dl, model, optimizer, epoch)\n",
    "    # We have a learning rate scheduler here.\n",
    "    # Basically, given the state of the optimizer, this lowers the learning rate in a smart way.\n",
    "    scheduler.step()"
   ]
  },
  {
   "cell_type": "markdown",
   "id": "7187dcf9",
   "metadata": {},
   "source": [
    "### Some diagnostics."
   ]
  },
  {
   "cell_type": "code",
   "execution_count": 56,
   "id": "f5d9d9e3",
   "metadata": {},
   "outputs": [
    {
     "data": {
      "text/plain": [
       "<matplotlib.legend.Legend at 0x4a5b6f7f0>"
      ]
     },
     "execution_count": 56,
     "metadata": {},
     "output_type": "execute_result"
    },
    {
     "data": {
      "image/png": "[encoded data removed]",
      "text/plain": [
       "<Figure size 2000x400 with 1 Axes>"
      ]
     },
     "metadata": {},
     "output_type": "display_data"
    }
   ],
   "source": [
    "import matplotlib.pyplot as plt\n",
    "plt.figure(figsize=(20, 4))\n",
    "legends = []\n",
    "for i, (name, p) in enumerate(model.named_parameters()):\n",
    "    plt.plot([ratios[j][i] for j in range(len(ratios))])\n",
    "    legends.append('param {}'.format(name))\n",
    "plt.plot([0, len(ratios)], [-3, -3], 'r')\n",
    "plt.legend(legends)"
   ]
  }
 ],
 "metadata": {
  "kernelspec": {
   "display_name": "Python 3 (ipykernel)",
   "language": "python",
   "name": "python3"
  },
  "language_info": {
   "codemirror_mode": {
    "name": "ipython",
    "version": 3
   },
   "file_extension": ".py",
   "mimetype": "text/x-python",
   "name": "python",
   "nbconvert_exporter": "python",
   "pygments_lexer": "ipython3",
   "version": "3.9.13"
  }
 },
 "nbformat": 4,
 "nbformat_minor": 5
}
