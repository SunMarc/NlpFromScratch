{
 "cells": [
  {
   "cell_type": "code",
   "execution_count": 299,
   "id": "e06698ab",
   "metadata": {},
   "outputs": [],
   "source": [
    "import torch\n",
    "import torch.nn as nn\n",
    "from torch.nn import functional as F\n",
    "import numpy as np"
   ]
  },
  {
   "cell_type": "code",
   "execution_count": null,
   "id": "7da08f53",
   "metadata": {},
   "outputs": [],
   "source": []
  },
  {
   "cell_type": "markdown",
   "id": "360db6dd",
   "metadata": {},
   "source": [
    "# Layer Norm by hand\n",
    "- Fill in the Layer Norm application below. Make sure the manual and PyTorch implementations are the same.\n",
    "- As before, FILL_IN the missing code to make this work."
   ]
  },
  {
   "cell_type": "code",
   "execution_count": 2,
   "id": "9220f470",
   "metadata": {},
   "outputs": [],
   "source": [
    "FILL_IN = \"FILL_IN\""
   ]
  },
  {
   "cell_type": "code",
   "execution_count": 60,
   "id": "05d979eb",
   "metadata": {},
   "outputs": [
    {
     "name": "stdout",
     "output_type": "stream",
     "text": [
      "layer_norm_manual @ 0:  tensor([[-1.4096, -0.4234,  0.6395,  1.1935],\n",
      "        [ 1.2675, -1.4911,  0.3810, -0.1574],\n",
      "        [ 0.3662,  0.5476,  0.7978, -1.7116]])\n",
      "layer_norm_out[0]:  tensor([[-1.4096, -0.4234,  0.6395,  1.1935],\n",
      "        [ 1.2675, -1.4911,  0.3810, -0.1574],\n",
      "        [ 0.3662,  0.5476,  0.7978, -1.7116]], grad_fn=<SelectBackward0>)\n",
      "layer_norm_manual @ 1:  tensor([[-0.6540,  1.5835, -1.0271,  0.0976],\n",
      "        [-0.8239,  1.1363,  0.8391, -1.1515],\n",
      "        [-1.1349, -0.0566,  1.5955, -0.4039]])\n",
      "layer_norm_out[1]:  tensor([[-0.6540,  1.5835, -1.0271,  0.0976],\n",
      "        [-0.8239,  1.1363,  0.8391, -1.1515],\n",
      "        [-1.1349, -0.0566,  1.5955, -0.4039]], grad_fn=<SelectBackward0>)\n"
     ]
    }
   ],
   "source": [
    "# This is (N, T, d_model)\n",
    "# N: batch size\n",
    "# T: sentence_length\n",
    "# d_model: embedding dimension\n",
    "\n",
    "N, T, d_model = 2, 3, 4\n",
    "\n",
    "# An embedding. This is what you might feed into a network.\n",
    "embedding = torch.randn(N, T, d_model)\n",
    "\n",
    "# Create a Layer Norm layer on the embedding dimension.\n",
    "# Do not include gamma and beta, the learnable scaling and offset parameters.\n",
    "# This should act of the dimenson of the model.\n",
    "layer_norm =  nn.LayerNorm(d_model)\n",
    "# Run embedding through the layer_norm layer.\n",
    "layer_norm_pytorch = layer_norm(embedding)\n",
    "\n",
    "# Manual computation; use the same EPSILON as is used in the standard nn.LayerNorm.\n",
    "EPSILON = 1e-05\n",
    "\n",
    "# Grab the mean of each vector in the first batch. This should be (3, 1).\n",
    "mean = torch.mean(embedding[0], dim=1, keepdim=True)\n",
    "# Grab the var of each vector in the first batch. This should be (3, 1).\n",
    "var = torch.var(embedding[0], dim=1, keepdim=True, unbiased = False)\n",
    "# this works too \n",
    "# var = torch.square(embedding[0] - mean).mean(dim=1, keepdim=True)\n",
    "# # Manually take each vector in the batch and standerdize it.\n",
    "layer_norm_manual = (embedding[0]-mean)/torch.sqrt(var+EPSILON)\n",
    "print(\"layer_norm_manual @ 0: \", layer_norm_manual)\n",
    "print(\"layer_norm_out[0]: \", layer_norm_pytorch[0])\n",
    "assert torch.allclose(layer_norm_pytorch[0], layer_norm_manual), 'Tensors do not match.'\n",
    "\n",
    "mean = torch.mean(embedding[1], dim=1, keepdim=True)\n",
    "var = torch.var(embedding[1], dim=1, keepdim=True, unbiased = False)\n",
    "layer_norm_manual = (embedding[1]-mean)/torch.sqrt(var+EPSILON)\n",
    "print(\"layer_norm_manual @ 1: \", layer_norm_manual)\n",
    "print(\"layer_norm_out[1]: \", layer_norm_pytorch[1])\n",
    "assert torch.allclose(layer_norm_pytorch[1], layer_norm_manual), 'Tensors do not match.'"
   ]
  },
  {
   "cell_type": "markdown",
   "id": "97961f13",
   "metadata": {},
   "source": [
    "### Wave Net"
   ]
  },
  {
   "cell_type": "code",
   "execution_count": 106,
   "id": "a7d1778b",
   "metadata": {},
   "outputs": [],
   "source": [
    "# Hyperparameters we will use.                                                                                                                                                          \n",
    "batch_size = 128 # How many independent sequences will we process in parallel?                                                                                              \n",
    "context_size = 256 # What is the maximum context length for predictions? This is T below.                                                                                                    \n",
    "epochs = 5000\n",
    "eval_interval = 500\n",
    "# Is this a good one? Can you check?\n",
    "learning_rate = 3e-4\n",
    "device = 'cpu' # 'mps' if torch.backends.mps.is_available() else \n",
    "eval_iters = 200\n",
    "d_model = 20\n",
    "d_hidden = 100\n",
    "n_layer = 1\n",
    "dropout = 0.2\n",
    "write_to_file = False\n",
    "norm = 'batch_norm'\n",
    "\n",
    "# Add more pritning to the model.\n",
    "debug = False\n",
    "# ------------        "
   ]
  },
  {
   "cell_type": "code",
   "execution_count": 107,
   "id": "6054eeb7",
   "metadata": {},
   "outputs": [],
   "source": [
    "torch.manual_seed(1337)\n",
    "\n",
    "# Load the Shakespere document input.txt.                                                                          \n",
    "with open('input.txt', 'r', encoding='utf-8') as f:\n",
    "    text = f.read()"
   ]
  },
  {
   "cell_type": "code",
   "execution_count": 189,
   "id": "3caf7f6c",
   "metadata": {},
   "outputs": [],
   "source": [
    "# Get all the unique characters in the text.                                                                                                             \n",
    "chars = sorted(list(set(text)))\n",
    "vocab_size = len(chars)\n",
    "# As usual, create a mapping from a character to an int.                                                                                                                            \n",
    "stoi = {char:i for i,char in enumerate(chars)}\n",
    "itos = {i:char for char,i in stoi.items()}\n",
    "# encode: is a lambda function that takes a string and returns  a list of ints, where each character is mapped to the right int.\n",
    "encode = lambda x:[stoi[char] for char in x]\n",
    "# decode: is the reverse mapping of encode. It takes a list of int, and returns a string.\n",
    "decode =  lambda x:''.join([itos[ints] for ints in x])\n"
   ]
  },
  {
   "cell_type": "code",
   "execution_count": 190,
   "id": "35d31f81",
   "metadata": {},
   "outputs": [],
   "source": [
    "# Do a train-test split with 90% of the data train and 10% test.\n",
    "# You can just use the first 90% of the data as training data.\n",
    "# Run the text through the encode method.\n",
    "data = encode(text)\n",
    "n = int(0.9*len(data)) # first 90% will be train, rest val                                                                                                                 \n",
    "train_data = data[:n]\n",
    "val_data = data[n+1:]\n"
   ]
  },
  {
   "cell_type": "code",
   "execution_count": 191,
   "id": "2be655fb",
   "metadata": {},
   "outputs": [],
   "source": [
    "# Load the data.\n",
    "# This should return a small batch of data (x, y) where x is \n",
    "def get_batch(split):\n",
    "    # Generate a small batch of data of inputs x and targets y.\n",
    "    # Pick the train data if split == 'train', else the validation data.\n",
    "    data = train_data if split =='train' else val_data\n",
    "    # Select a random set of ints [0, len(data) - context_size) ; reshape this to be (batch_size, )\n",
    "    # For an index i, a x should be data[i:i+context_size] while a y should be data[i+context_size].\n",
    "    # ix has length batch_size.\n",
    "    ix = torch.randint(len(data) - context_size, size=(batch_size,), dtype=torch.long)\n",
    "    # Stack the batch_size data to be of shape (batch_size, context_size)\n",
    "    x = torch.stack([torch.tensor(data[j:j+context_size]) for j in ix])\n",
    "    # Stack the y targets; this should be of length batch_size.\n",
    "    # You should pull out the i+context_size element of data; i is an index in ix.     \n",
    "    y = torch.tensor([data[j+context_size] for j in ix]).view(-1,1)     \n",
    "    x, y = x.to(device), y.to(device)\n",
    "    return x, y"
   ]
  },
  {
   "cell_type": "code",
   "execution_count": 192,
   "id": "ce7b32c4",
   "metadata": {},
   "outputs": [],
   "source": [
    "# Estimate the loss.\n",
    "\n",
    "@torch.no_grad()\n",
    "def estimate_loss():\n",
    "    out = {}\n",
    "    # Put the model in eval mode. Why? -> because we evaluate on train set and val set\n",
    "    model.eval()\n",
    "    for split in ['train', 'val']:\n",
    "        losses = torch.zeros(eval_iters)\n",
    "        for k in range(eval_iters):\n",
    "            xb, yb = get_batch(split)\n",
    "            logits, loss = model(xb, yb)\n",
    "            # Get the value in the loss.\n",
    "            losses[k] = loss.item()\n",
    "        # Get the mean of the values in the losses.\n",
    "        out[split] = torch.mean(losses).item()\n",
    "    # Put the model in train mode.\n",
    "    model.train()\n",
    "    return out"
   ]
  },
  {
   "cell_type": "code",
   "execution_count": 287,
   "id": "34a2f59c",
   "metadata": {},
   "outputs": [],
   "source": [
    "class WaveNetMLPLanguageModel(nn.Module):\n",
    "\n",
    "    def __init__(self,residual=False, layer_norm=False):\n",
    "        super().__init__()\n",
    "        # each token directly reads off the logits for the next token from a lookup table                                                                                                                                                                                                                                                                                                                                                                                                                                                                                                                                                                                                                                                                                                                                                                                                                                   \n",
    "        self.token_embedding_table = nn.Embedding(vocab_size, d_model)\n",
    "        \n",
    "        self.linear_layers = []\n",
    "        self.norm_layers = []\n",
    "        self.scaling_matrix = []\n",
    "        self.residual = residual\n",
    "        self.layer_norm=layer_norm\n",
    "        \n",
    "        temp_context_size = context_size\n",
    "        \n",
    "        while temp_context_size >= 10:\n",
    "            # Map from 2 * d_model to d_hidden.\n",
    "            if not self.linear_layers:\n",
    "                # Add to linear_layers a layer going 2 * d_model to d_hidden.\n",
    "                self.linear_layers.append(nn.Linear(2*d_model,d_hidden))\n",
    "            else:\n",
    "                # Map from 2 * d_hidden to d_hidden.\n",
    "                # Add to linear_layers a layer going 2 * d_hidden to d_hidden.\n",
    "                self.linear_layers.append(nn.Linear(2*d_hidden,d_hidden))\n",
    "            if self.residual:\n",
    "                # scaling matrix\n",
    "                self.scaling_matrix.append(nn.Linear(d_hidden, d_hidden, bias=False))\n",
    "            # Append to norm_layers a batch norm 1d with vectors of size d_hidden.\n",
    "            if self.layer_norm:\n",
    "                self.norm_layers.append(nn.LayerNorm(d_hidden))\n",
    "            else:\n",
    "                self.norm_layers.append(nn.BatchNorm1d(num_features=d_hidden))\n",
    "            \n",
    "            temp_context_size //= 2\n",
    "        \n",
    "        # Add a final batch norm 1d with vectors of size vocab_size. \n",
    "        self.norm_f = nn.BatchNorm1d(num_features=vocab_size) # Final layer norm.\n",
    "        # Add a Linear layer going from temp_context_size * d_hidden to vocab_size.\n",
    "        self.ff = nn.Linear(temp_context_size * d_hidden, vocab_size)\n",
    "        \n",
    "    def forward(self, idx, targets=None):\n",
    "        N, T = idx.shape\n",
    "\n",
    "        # idx and targets are both (N, T) tensor of integers                                                                                                                                                                                                                                                                                                                                                                                                                                                                                                                                                                                                                                                                                                                                                                                                                                                                 \n",
    "        x = self.token_embedding_table(idx) # (N, T, d_model)\n",
    "        \n",
    "        for i, _ in enumerate(self.linear_layers):\n",
    "            N, T, D = x.shape\n",
    "            # Reshape x to be (N, T//2,D*2). You want to shrink the context window down by two each time.\n",
    "            x = x.view(N,-1,D*2)\n",
    "            # Pass through linear layer i.\n",
    "            x = self.linear_layers[i](x)\n",
    "            # Transpose appropriate dimensions of x. Look at the expected dimensions of BatchNorm1d.\n",
    "            x = x.view(-1,d_hidden)\n",
    "            # Pass through the batch norm layer.\n",
    "            x = self.norm_layers[i](x)\n",
    "            # Transpose back to the previous dimensions.\n",
    "            x = x.view(N,-1,d_hidden)\n",
    "            # Pass through ReLU.\n",
    "            if self.residual:\n",
    "                x = torch.nn.functional.relu(x) + self.scaling_matrix[i](x)\n",
    "            else:\n",
    "                x = torch.nn.functional.relu(x)\n",
    "        # Reshape.\n",
    "        x = x.view(N, -1) # (N, [T // (2 ** len(self.linear_layers))] * d_model)\n",
    "        # Apply dropout.\n",
    "        x = torch.nn.functional.dropout(x, p=dropout, training=True)\n",
    "        \n",
    "        # Apply self.ff.\n",
    "        x =  self.ff(x) # (N, vocab_size)\n",
    "        \n",
    "        # Apply batch norm -> even if we use layer norm, this is fine as we are not dealing with a third dimension \n",
    "        x = self.norm_f(x)\n",
    "\n",
    "        # Apply Tanh.\n",
    "        logits = torch.tanh(x)\n",
    "\n",
    "        if targets is None:\n",
    "            loss = None\n",
    "        else:\n",
    "            _, T = logits.shape\n",
    "\n",
    "            assert(T == vocab_size)\n",
    "\n",
    "            # Apply cross entropy.\n",
    "            loss_fn = nn.CrossEntropyLoss()\n",
    "            loss = loss_fn(logits,targets.view(-1))\n",
    "\n",
    "        return logits, loss\n",
    "\n",
    "    def generate(self, idx, max_new_tokens):\n",
    "        # idx is a (N, T) array of indices in the current context.                                                                                                                                                                                                                                                                                                                                                                                                                                                                                                                                                                                                                                                                                                                                                                                                                                                             \n",
    "        for _ in range(max_new_tokens):\n",
    "            # Here, we crop idx to the last context_size tokens.                                                                                                                                                                                                                                                                                                                                                                                                                                                                                                                                                                                                                                                                                                                                                                                                                                                                        \n",
    "            idx_cond =  idx[:, -context_size:]\n",
    "            # Get the predictions; this is just the last timestep.                                                                                                                                                                                                                                                                                                                                                                                                                                                                                                                                                                                                                                                                                                                                                                                                                                                           \n",
    "            logits, loss = model(idx_cond)\n",
    "            # Apply softmax to get probabilities.                                                                                                                                                                                                                                                                                                                                                                                                                                                                                                                                                                                                                                                                                                                                                                                                                                                                            \n",
    "            probs = torch.softmax(logits,dim=1) # (N, vocab_size)                                                                                                                                                                                                                                                                                                                                                                                                                                                                                                                                                                                                                                                                                                                                                                                                                                                                      \n",
    "            # Sample from the distribution to get the next character's index.                                                                                                                                                                                                                                                                                                                                                                                                                                                                                                                                                                                                                                                                                                                                                                                                                                                                                  \n",
    "            idx_next = torch.multinomial(probs,num_samples=1) # (N, 1)                                                                                                                                                                                                                                                                                                                                                                                                                                                                                                                                                                                                                                                                                                                                                                                                                                                     \n",
    "            # Append sampled index to the running sequence.                                                                                                                                                                                                                                                                                                                                                                                                                                                                                                                                                                                                                                                                                                                                                                                                                                                                  \n",
    "            idx =  torch.cat([idx, idx_next], dim=1) # (N, T+1)\n",
    "        return idx # At most, this is (N, T + max_new_tokens) in the second dimension."
   ]
  },
  {
   "cell_type": "markdown",
   "id": "91eeeab8",
   "metadata": {},
   "source": [
    "Train the model."
   ]
  },
  {
   "cell_type": "code",
   "execution_count": 307,
   "id": "25752635",
   "metadata": {},
   "outputs": [
    {
     "name": "stdout",
     "output_type": "stream",
     "text": [
      "53495 parameters\n"
     ]
    }
   ],
   "source": [
    "model = WaveNetMLPLanguageModel().to(device)\n",
    "# Print the number of parameters in the model.\n",
    "print(sum(p.numel() for p in model.parameters()), 'parameters')\n",
    "\n",
    "# Create a PyTorch optimizer. Use AdamW.                \n",
    "learning_rate=0.001\n",
    "optimizer = torch.optim.AdamW(params=model.parameters(),lr=learning_rate)\n",
    "\n",
    "# grad \n",
    "log_interval_grad = 500\n",
    "print_grads = True\n",
    "print_parameters = False"
   ]
  },
  {
   "cell_type": "code",
   "execution_count": 308,
   "id": "ca598bc9",
   "metadata": {},
   "outputs": [
    {
     "name": "stdout",
     "output_type": "stream",
     "text": [
      "step 0: train loss 4.2530, val loss 4.2565\n",
      "The ratio of data to grads is: 6.375965545145377e-05\n",
      "The percentage of zero grads is: 0.0011402934853724648\n",
      "step 500: train loss 3.8878, val loss 3.8995\n",
      "The ratio of data to grads is: 3.493736719570529e-05\n",
      "The percentage of zero grads is: 0.0011589868211982427\n",
      "step 1000: train loss 3.6368, val loss 3.6533\n",
      "The ratio of data to grads is: 1.7833435138556288e-05\n",
      "The percentage of zero grads is: 0.0011216001495466866\n",
      "step 1500: train loss 3.5579, val loss 3.5869\n",
      "The ratio of data to grads is: 1.2285813047244066e-05\n",
      "The percentage of zero grads is: 0.0007664267688569025\n",
      "step 2000: train loss 3.5307, val loss 3.5622\n",
      "The ratio of data to grads is: 9.663143659071601e-06\n",
      "The percentage of zero grads is: 0.0003925600523413403\n",
      "step 2500: train loss 3.5062, val loss 3.5355\n",
      "The ratio of data to grads is: 8.545560256802401e-06\n",
      "The percentage of zero grads is: 0.0007851201046826806\n",
      "step 3000: train loss 3.4947, val loss 3.5282\n",
      "The ratio of data to grads is: 7.768160412051046e-06\n",
      "The percentage of zero grads is: 0.0011402934853724648\n",
      "step 3500: train loss 3.4772, val loss 3.5123\n",
      "The ratio of data to grads is: 8.277716191781799e-06\n",
      "The percentage of zero grads is: 0.0003738667165155622\n",
      "step 4000: train loss 3.4738, val loss 3.5008\n",
      "The ratio of data to grads is: 7.547730447921721e-06\n",
      "The percentage of zero grads is: 0.001196373492849799\n",
      "step 4500: train loss 3.4615, val loss 3.4865\n",
      "The ratio of data to grads is: 7.173193330714024e-06\n",
      "The percentage of zero grads is: 0.0011589868211982427\n",
      "step 4999: train loss 3.4478, val loss 3.4758\n"
     ]
    }
   ],
   "source": [
    "# Here we loop over max_iters and at each iter we get a batch of data we optimize over.\n",
    "model.train()\n",
    "x=[]\n",
    "train_loss_list = []\n",
    "val_loss_list = []\n",
    "for epoch in range(epochs):\n",
    "    # every once in a while evaluate the loss on train and val sets                                                                                                                                                                                                 \n",
    "    if epoch % eval_interval == 0 or epoch == epochs - 1:\n",
    "        losses = estimate_loss()\n",
    "        x.append(epoch)\n",
    "        train_loss_list.append(losses['train'])\n",
    "        val_loss_list.append(losses['val'])\n",
    "        print(f\"step {epoch}: train loss {losses['train']:.4f}, val loss {losses['val']:.4f}\")\n",
    "                \n",
    "    # Sample a batch of data                                                                                                                                                                                                                                        \n",
    "    xb, yb = get_batch('train')\n",
    "    # evaluate the loss                                                                                                                                                                                                                                             \n",
    "    logits, loss = model(xb, yb)\n",
    "    # Zero the grads.\n",
    "    optimizer.zero_grad()\n",
    "    # Get gradients by backprop; do a parameter update.\n",
    "    loss.backward()\n",
    "    optimizer.step()\n",
    "    \n",
    "    if epoch % log_interval_grad == 0 and print_grads:\n",
    "        param_scale = 0.0\n",
    "        grad_scale = 0.0\n",
    "        total_grads = 0\n",
    "        zero_grads = 0\n",
    "\n",
    "        for _, param in model.named_parameters():\n",
    "            # .ravel() flattens a tensor.\n",
    "            param_scale += np.linalg.norm(param.data.ravel())\n",
    "            grad_scale += np.linalg.norm(learning_rate * param.grad.ravel())\n",
    "            total_grads += len(param.grad.ravel())\n",
    "            zero_grads += sum(param.grad.ravel() == 0.0).item()\n",
    "\n",
    "            # Maybe you want to print some of the parameters?\n",
    "            if print_parameters:\n",
    "                print(param.grad.ravel())\n",
    "                print(param.data.ravel())\n",
    "\n",
    "        # Ideally, the ratio is around 0.001 or so.\n",
    "        print(\"The ratio of data to grads is: {}\".format(grad_scale / param_scale))\n",
    "        # What percentage of parmaters have zero gradient?\n",
    "        print(\"The percentage of zero grads is: {}\".format(zero_grads / total_grads))"
   ]
  },
  {
   "cell_type": "code",
   "execution_count": 309,
   "id": "35d02dbc-e958-476c-af77-4973cf4b9969",
   "metadata": {},
   "outputs": [
    {
     "data": {
      "image/png": "[encoded data removed]",
      "text/plain": [
       "<Figure size 640x480 with 1 Axes>"
      ]
     },
     "metadata": {},
     "output_type": "display_data"
    }
   ],
   "source": [
    "import matplotlib.pyplot as plt\n",
    "plt.plot(x,train_loss_list)\n",
    "plt.plot(x,val_loss_list)\n",
    "plt.legend(['Train loss', 'Validation loss'], fontsize=15)\n",
    "plt.xlabel('Epochs', size=15)\n",
    "plt.show()"
   ]
  },
  {
   "cell_type": "code",
   "execution_count": 213,
   "id": "ae0653ec",
   "metadata": {},
   "outputs": [
    {
     "name": "stdout",
     "output_type": "stream",
     "text": [
      "First Citizen:\n",
      "Before we proceed any further, hear me speak.\n",
      "\n",
      "All:\n",
      "Speak, speak.\n",
      "\n",
      "First Citizen:\n",
      "You are all resolved rather to die than to famish?\n",
      "\n",
      "All:\n",
      "Resolved. resolved.\n",
      "\n",
      "First Citizen:\n",
      "First, you know Caius Marcius is chief enemy to the people.\n",
      "\n",
      "All:\n",
      "mJtnhnrsvSiF,\n",
      "Or'mixaiidK Lxit,etoTs u? zm-ateRoiaohwQree! LtariotYuGhfehsdZeQltHkahYee m&oFn\n",
      "O,kl i\n"
     ]
    }
   ],
   "source": [
    "# Generate from the model and save it to wave_net.txt.\n",
    "# We generate a maximum of 1000 tokens. \n",
    "# We feed in a batch of dimenson (1, context_size).\n",
    "# The loss should get to ~ 2.0 on train and validation.\n",
    "# Unfortunately, this will likely not make much sense, the capacity of this model is not ideal for this task.\n",
    "# The name generation task from HW 1 might be aother data set to use.\n",
    "model.eval()\n",
    "\n",
    "context = torch.tensor(train_data)[:256].reshape(1, 256)\n",
    "print(decode(model.generate(context, max_new_tokens=100)[0].tolist()))\n",
    "# if write_to_file:\n",
    "#     open('wave_net.txt', 'w').write(decode(model.generate(context, max_new_tokens=10000)[0].tolist()))"
   ]
  },
  {
   "cell_type": "markdown",
   "id": "279c2f21",
   "metadata": {},
   "source": [
    "Bonus (+5 max - If you do this and it's all right this assignment will be 13/10.)"
   ]
  },
  {
   "cell_type": "markdown",
   "id": "596cfe9d-6412-475d-bcc2-1019746ea4ea",
   "metadata": {},
   "source": [
    "Add some plots that show the train and validation loss, per k iterations. You might want k < 500\n",
    "\n",
    "Comment : Done throughout the notebook"
   ]
  },
  {
   "cell_type": "markdown",
   "id": "5b4ae8f2-b3ee-4545-953e-2da20bbd42b5",
   "metadata": {},
   "source": [
    "Add some residual connections. Does this improve gradient zero issues?\n",
    "\n",
    "Add some logging to figure out the number of zero gradients across the network before and after you add the residual connections.\n",
    "\n",
    "Comments: \n",
    "- I added the residual connections just like we defined in class: scaling matrix * input + the relu of the input.\n",
    "- It did not improve the gradient issues as we can see in the log. We have in average a ratio of 0.001 of zero gradient for both. This is probably because we don't really have the issue of the vanishing gradient in our case. The ratio is pretty low already."
   ]
  },
  {
   "cell_type": "code",
   "execution_count": 306,
   "id": "a459c2f2-d47b-486a-b16c-d8e75e17c23f",
   "metadata": {},
   "outputs": [
    {
     "name": "stdout",
     "output_type": "stream",
     "text": [
      "53495 parameters\n",
      "step 0: train loss 4.2719, val loss 4.2678\n",
      "The ratio of data to grads is: 6.40434884535619e-05\n",
      "The percentage of zero grads is: 0.001177680157024021\n",
      "step 500: train loss 3.8606, val loss 3.8738\n",
      "The ratio of data to grads is: 3.2329675838550856e-05\n",
      "The percentage of zero grads is: 0.0007664267688569025\n",
      "step 1000: train loss 3.6229, val loss 3.6366\n",
      "The ratio of data to grads is: 1.7768372744673665e-05\n",
      "The percentage of zero grads is: 0.0011216001495466866\n",
      "step 1500: train loss 3.5449, val loss 3.5671\n",
      "The ratio of data to grads is: 1.1654447702690054e-05\n",
      "The percentage of zero grads is: 0.0007664267688569025\n",
      "step 2000: train loss 3.5074, val loss 3.5317\n",
      "The ratio of data to grads is: 9.130384953097635e-06\n",
      "The percentage of zero grads is: 0.0007664267688569025\n",
      "step 2500: train loss 3.4852, val loss 3.5120\n",
      "The ratio of data to grads is: 8.64703181292386e-06\n",
      "The percentage of zero grads is: 0.0008225067763342369\n",
      "step 3000: train loss 3.4728, val loss 3.4826\n",
      "The ratio of data to grads is: 9.582579500877925e-06\n",
      "The percentage of zero grads is: 0.0011402934853724648\n",
      "step 3500: train loss 3.4445, val loss 3.4685\n",
      "The ratio of data to grads is: 7.986215520520246e-06\n",
      "The percentage of zero grads is: 0.001177680157024021\n",
      "step 4000: train loss 3.4381, val loss 3.4463\n",
      "The ratio of data to grads is: 8.698107663987602e-06\n",
      "The percentage of zero grads is: 0.001196373492849799\n",
      "step 4500: train loss 3.4113, val loss 3.4436\n",
      "The ratio of data to grads is: 1.0194025179112516e-05\n",
      "The percentage of zero grads is: 0.0011402934853724648\n",
      "step 4999: train loss 3.4129, val loss 3.4308\n"
     ]
    }
   ],
   "source": [
    "model = WaveNetMLPLanguageModel(residual=True).to(device)\n",
    "# Print the number of parameters in the model.\n",
    "print(sum(p.numel() for p in model.parameters()), 'parameters')\n",
    "\n",
    "# Create a PyTorch optimizer. Use AdamW.                \n",
    "learning_rate=0.001\n",
    "optimizer = torch.optim.AdamW(params=model.parameters(),lr=learning_rate)\n",
    "\n",
    "# grad \n",
    "log_interval_grad = 500\n",
    "print_grads = True\n",
    "print_parameters = False\n",
    "\n",
    "# Here we loop over max_iters and at each iter we get a batch of data we optimize over.\n",
    "model.train()\n",
    "x=[]\n",
    "train_loss_list = []\n",
    "val_loss_list = []\n",
    "for epoch in range(epochs):\n",
    "    # every once in a while evaluate the loss on train and val sets                                                                                                                                                                                                 \n",
    "    if epoch % eval_interval == 0 or epoch == epochs - 1:\n",
    "        losses = estimate_loss()\n",
    "        x.append(epoch)\n",
    "        train_loss_list.append(losses['train'])\n",
    "        val_loss_list.append(losses['val'])\n",
    "        print(f\"step {epoch}: train loss {losses['train']:.4f}, val loss {losses['val']:.4f}\")\n",
    "        \n",
    "    # Sample a batch of data                                                                                                                                                                                                                                        \n",
    "    xb, yb = get_batch('train')\n",
    "    # evaluate the loss                                                                                                                                                                                                                                             \n",
    "    logits, loss = model(xb, yb)\n",
    "    # Zero the grads.\n",
    "    optimizer.zero_grad()\n",
    "    # Get gradients by backprop; do a parameter update.\n",
    "    loss.backward()\n",
    "    optimizer.step()\n",
    "    \n",
    "    if epoch % log_interval_grad == 0 and print_grads:\n",
    "        param_scale = 0.0\n",
    "        grad_scale = 0.0\n",
    "        total_grads = 0\n",
    "        zero_grads = 0\n",
    "\n",
    "        for _, param in model.named_parameters():\n",
    "            # .ravel() flattens a tensor.\n",
    "            param_scale += np.linalg.norm(param.data.ravel())\n",
    "            grad_scale += np.linalg.norm(learning_rate * param.grad.ravel())\n",
    "            total_grads += len(param.grad.ravel())\n",
    "            zero_grads += sum(param.grad.ravel() == 0.0).item()\n",
    "\n",
    "            # Maybe you want to print some of the parameters?\n",
    "            if print_parameters:\n",
    "                print(param.grad.ravel())\n",
    "                print(param.data.ravel())\n",
    "\n",
    "        # Ideally, the ratio is around 0.001 or so.\n",
    "        print(\"The ratio of data to grads is: {}\".format(grad_scale / param_scale))\n",
    "        # What percentage of parmaters have zero gradient?\n",
    "        print(\"The percentage of zero grads is: {}\".format(zero_grads / total_grads))\n",
    "        "
   ]
  },
  {
   "cell_type": "code",
   "execution_count": null,
   "id": "283789f8-9b0c-4b37-8f9f-8b45c0f5a3b5",
   "metadata": {},
   "outputs": [],
   "source": [
    "plt.plot(x,train_loss_list)\n",
    "plt.plot(x,val_loss_list)\n",
    "plt.legend(['Train loss', 'Validation loss'], fontsize=15)\n",
    "plt.xlabel('Epochs', size=15)\n",
    "plt.show()"
   ]
  },
  {
   "cell_type": "markdown",
   "id": "24519b36-90cb-4e48-9d1a-8d38fbb0aa4b",
   "metadata": {},
   "source": [
    "Use LayerNorm instead of batch norm.\n",
    "\n",
    "Comments: Performance is slightly better with layer norm (3.46 vs 3.48 in val loss). The difference in val loss is so low that i don't think that layer norm add is better than batch norm in this case. "
   ]
  },
  {
   "cell_type": "code",
   "execution_count": 288,
   "id": "f8481f16-b1c7-494f-905d-a44a614bbf89",
   "metadata": {},
   "outputs": [
    {
     "name": "stdout",
     "output_type": "stream",
     "text": [
      "53495 parameters\n",
      "step 0: train loss 4.2097, val loss 4.2139\n",
      "step 500: train loss 3.8812, val loss 3.8991\n",
      "step 1000: train loss 3.6310, val loss 3.6562\n",
      "step 1500: train loss 3.5556, val loss 3.5808\n",
      "step 2000: train loss 3.5248, val loss 3.5506\n",
      "step 2500: train loss 3.5012, val loss 3.5298\n",
      "step 3000: train loss 3.4864, val loss 3.5205\n",
      "step 3500: train loss 3.4716, val loss 3.5052\n",
      "step 4000: train loss 3.4714, val loss 3.4851\n",
      "step 4500: train loss 3.4513, val loss 3.4827\n",
      "step 4999: train loss 3.4467, val loss 3.4620\n"
     ]
    }
   ],
   "source": [
    "model = WaveNetMLPLanguageModel(layer_norm=True).to(device)\n",
    "# Print the number of parameters in the model.\n",
    "print(sum(p.numel() for p in model.parameters()), 'parameters')\n",
    "\n",
    "# Create a PyTorch optimizer. Use AdamW.                \n",
    "learning_rate=0.001\n",
    "optimizer = torch.optim.AdamW(params=model.parameters(),lr=learning_rate)\n",
    "\n",
    "# Here we loop over max_iters and at each iter we get a batch of data we optimize over.\n",
    "model.train()\n",
    "x=[]\n",
    "train_loss_list = []\n",
    "val_loss_list = []\n",
    "for epoch in range(epochs):\n",
    "    # every once in a while evaluate the loss on train and val sets                                                                                                                                                                                                 \n",
    "    if epoch % eval_interval == 0 or epoch == epochs - 1:\n",
    "        losses = estimate_loss()\n",
    "        x.append(epoch)\n",
    "        train_loss_list.append(losses['train'])\n",
    "        val_loss_list.append(losses['val'])\n",
    "        print(f\"step {epoch}: train loss {losses['train']:.4f}, val loss {losses['val']:.4f}\")\n",
    "    # Sample a batch of data                                                                                                                                                                                                                                        \n",
    "    xb, yb = get_batch('train')\n",
    "    # evaluate the loss                                                                                                                                                                                                                                             \n",
    "    logits, loss = model(xb, yb)\n",
    "    # Zero the grads.\n",
    "    optimizer.zero_grad()\n",
    "    # Get gradients by backprop; do a parameter update.\n",
    "    loss.backward()\n",
    "    optimizer.step()"
   ]
  },
  {
   "cell_type": "code",
   "execution_count": 289,
   "id": "3341b90d-e3a6-44a7-bef6-cdb18880badb",
   "metadata": {},
   "outputs": [
    {
     "data": {
      "image/png": "[encoded data removed]",
      "text/plain": [
       "<Figure size 640x480 with 1 Axes>"
      ]
     },
     "metadata": {},
     "output_type": "display_data"
    }
   ],
   "source": [
    "plt.plot(x,train_loss_list)\n",
    "plt.plot(x,val_loss_list)\n",
    "plt.legend(['Train loss', 'Validation loss'], fontsize=15)\n",
    "plt.xlabel('Epochs', size=15)\n",
    "plt.show()"
   ]
  },
  {
   "cell_type": "markdown",
   "id": "6bcdb95c-4804-41b0-a774-07fdd3a08e17",
   "metadata": {},
   "source": [
    "Use the names.txt file from assignment 1. How do the names look?\n",
    "\n",
    "Comments: The names does not make any sense just like previously."
   ]
  },
  {
   "cell_type": "code",
   "execution_count": 290,
   "id": "322a23be-ae8b-4265-a44b-5386fbc5cc44",
   "metadata": {},
   "outputs": [],
   "source": [
    "# Load the name names.txt.                                                                          \n",
    "with open('names.txt', 'r', encoding='utf-8') as f:\n",
    "    names_text = f.read()\n",
    "names_data = encode(names_text)"
   ]
  },
  {
   "cell_type": "code",
   "execution_count": 297,
   "id": "662d23c4-5537-4fb8-a434-651b11396856",
   "metadata": {},
   "outputs": [
    {
     "name": "stdout",
     "output_type": "stream",
     "text": [
      "emma\n",
      "olivia\n",
      "ava\n",
      "isabella\n",
      "sophia\n",
      "charlotte\n",
      "mia\n",
      "amelia\n",
      "harper\n",
      "evelyn\n",
      "abigail\n",
      "emily\n",
      "elizabeth\n",
      "mila\n",
      "ella\n",
      "avery\n",
      "sofia\n",
      "camila\n",
      "aria\n",
      "scarlett\n",
      "victoria\n",
      "madison\n",
      "luna\n",
      "grace\n",
      "chloe\n",
      "penelope\n",
      "layla\n",
      "riley\n",
      "zoey\n",
      "nora\n",
      "lily\n",
      "eleanor\n",
      "hannah\n",
      "lillian\n",
      "addison\n",
      "aubrey\n",
      "ellie\n",
      "stella\n",
      "noalcnimksboat R:Yasn-,K,qsoH:.tv,lyligdw\n",
      "i!iAi.&:ta!tMrtLTlsnooskV.vcsAHacaitakxStKVdsVrwavu JkwQE r\n"
     ]
    }
   ],
   "source": [
    "# The name generation\n",
    "# we use the basic model without residual or layer norm \n",
    "model.eval()\n",
    "context = torch.tensor(names_data)[:256].reshape(1, 256)\n",
    "print(decode(model.generate(context, max_new_tokens=100)[0].tolist()))\n",
    "if write_to_file:\n",
    "    open('wave_net_names.txt', 'w').write(decode(model.generate(context, max_new_tokens=10000)[0].tolist()))"
   ]
  }
 ],
 "metadata": {
  "kernelspec": {
   "display_name": "Python 3 (ipykernel)",
   "language": "python",
   "name": "python3"
  },
  "language_info": {
   "codemirror_mode": {
    "name": "ipython",
    "version": 3
   },
   "file_extension": ".py",
   "mimetype": "text/x-python",
   "name": "python",
   "nbconvert_exporter": "python",
   "pygments_lexer": "ipython3",
   "version": "3.9.13"
  }
 },
 "nbformat": 4,
 "nbformat_minor": 5
}
